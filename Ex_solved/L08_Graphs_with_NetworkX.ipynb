{
  "nbformat": 4,
  "nbformat_minor": 0,
  "metadata": {
    "kernelspec": {
      "display_name": "Python 3",
      "language": "python",
      "name": "python3"
    },
    "language_info": {
      "codemirror_mode": {
        "name": "ipython",
        "version": 3
      },
      "file_extension": ".py",
      "mimetype": "text/x-python",
      "name": "python",
      "nbconvert_exporter": "python",
      "pygments_lexer": "ipython3",
      "version": "3.9.4"
    },
    "colab": {
      "name": "L08_Graphs_with_NetworkX_no_sols.ipynb",
      "provenance": [],
      "collapsed_sections": [
        "e-JN4b3lqJBo",
        "dC8wHg1HqJBt",
        "u7QNbI1UqJBx"
      ]
    }
  },
  "cells": [
    {
      "cell_type": "markdown",
      "metadata": {
        "id": "aHXtGA5nqJAC"
      },
      "source": [
        "# NetworkX: Network Analysis in Python\n",
        "\n",
        "[NetworkX](https://networkx.github.io/) is a Python package for the creation, manipulation, and study of the structure, dynamics, and functions of complex networks.\n",
        "\n",
        "- Data structures for graphs, digraphs, and multigraphs\n",
        "- Many standard graph algorithms\n",
        "- Network structure and analysis measures\n",
        "- Generators for classic graphs, random graphs, and synthetic networks\n",
        "- Nodes can be \"anything\" (e.g., text, images, XML records)\n",
        "- Edges can hold arbitrary data (e.g., weights, time-series)"
      ]
    },
    {
      "cell_type": "markdown",
      "metadata": {
        "id": "JmIpa534qJAJ"
      },
      "source": [
        "## Let's install necessary libraries"
      ]
    },
    {
      "cell_type": "code",
      "metadata": {
        "colab": {
          "base_uri": "https://localhost:8080/"
        },
        "id": "ZzTqrGtnqJAM",
        "outputId": "93d057ef-349f-4db2-b19e-d7ddc1d119f4"
      },
      "source": [
        "!python3 -m pip install --user networkx\n",
        "#for graph plottinh\n",
        "!python3 -m pip install --user  matplotlib\n",
        "\n",
        "# need graphviz on your machine\n",
        "#!sudo apt-get install graphviz libgraphviz-dev graphviz-dev pkg-config\n",
        "#!brew install graphviz . You may need to do python3 -m pip install --install-option=\"--include-path=/usr/local/include/\" --install-option=\"--library-path=/usr/local/lib/\" pygraphviz\n"
      ],
      "execution_count": null,
      "outputs": [
        {
          "output_type": "stream",
          "text": [
            "Requirement already satisfied: networkx in /usr/local/lib/python3.7/dist-packages (2.5.1)\n",
            "Requirement already satisfied: decorator<5,>=4.3 in /usr/local/lib/python3.7/dist-packages (from networkx) (4.4.2)\n",
            "Requirement already satisfied: matplotlib in /usr/local/lib/python3.7/dist-packages (3.2.2)\n",
            "Requirement already satisfied: numpy>=1.11 in /usr/local/lib/python3.7/dist-packages (from matplotlib) (1.19.5)\n",
            "Requirement already satisfied: python-dateutil>=2.1 in /usr/local/lib/python3.7/dist-packages (from matplotlib) (2.8.1)\n",
            "Requirement already satisfied: pyparsing!=2.0.4,!=2.1.2,!=2.1.6,>=2.0.1 in /usr/local/lib/python3.7/dist-packages (from matplotlib) (2.4.7)\n",
            "Requirement already satisfied: kiwisolver>=1.0.1 in /usr/local/lib/python3.7/dist-packages (from matplotlib) (1.3.1)\n",
            "Requirement already satisfied: cycler>=0.10 in /usr/local/lib/python3.7/dist-packages (from matplotlib) (0.10.0)\n",
            "Requirement already satisfied: six>=1.5 in /usr/local/lib/python3.7/dist-packages (from python-dateutil>=2.1->matplotlib) (1.15.0)\n"
          ],
          "name": "stdout"
        }
      ]
    },
    {
      "cell_type": "code",
      "metadata": {
        "colab": {
          "base_uri": "https://localhost:8080/"
        },
        "id": "Abnrul8-BuMR",
        "outputId": "c2f582ec-5355-4fe2-b9fc-37475f743e06"
      },
      "source": [
        "!apt install libgraphviz-dev\n",
        "!pip install pygraphviz"
      ],
      "execution_count": null,
      "outputs": [
        {
          "output_type": "stream",
          "text": [
            "Reading package lists... Done\n",
            "Building dependency tree       \n",
            "Reading state information... Done\n",
            "The following additional packages will be installed:\n",
            "  libgail-common libgail18 libgtk2.0-0 libgtk2.0-bin libgtk2.0-common\n",
            "  libgvc6-plugins-gtk libxdot4\n",
            "Suggested packages:\n",
            "  gvfs\n",
            "The following NEW packages will be installed:\n",
            "  libgail-common libgail18 libgraphviz-dev libgtk2.0-0 libgtk2.0-bin\n",
            "  libgtk2.0-common libgvc6-plugins-gtk libxdot4\n",
            "0 upgraded, 8 newly installed, 0 to remove and 39 not upgraded.\n",
            "Need to get 2,120 kB of archives.\n",
            "After this operation, 7,128 kB of additional disk space will be used.\n",
            "Get:1 http://archive.ubuntu.com/ubuntu bionic/main amd64 libgtk2.0-common all 2.24.32-1ubuntu1 [125 kB]\n",
            "Get:2 http://archive.ubuntu.com/ubuntu bionic/main amd64 libgtk2.0-0 amd64 2.24.32-1ubuntu1 [1,769 kB]\n",
            "Get:3 http://archive.ubuntu.com/ubuntu bionic/main amd64 libgail18 amd64 2.24.32-1ubuntu1 [14.2 kB]\n",
            "Get:4 http://archive.ubuntu.com/ubuntu bionic/main amd64 libgail-common amd64 2.24.32-1ubuntu1 [112 kB]\n",
            "Get:5 http://archive.ubuntu.com/ubuntu bionic/universe amd64 libxdot4 amd64 2.40.1-2 [15.7 kB]\n",
            "Get:6 http://archive.ubuntu.com/ubuntu bionic/universe amd64 libgvc6-plugins-gtk amd64 2.40.1-2 [18.2 kB]\n",
            "Get:7 http://archive.ubuntu.com/ubuntu bionic/universe amd64 libgraphviz-dev amd64 2.40.1-2 [57.3 kB]\n",
            "Get:8 http://archive.ubuntu.com/ubuntu bionic/main amd64 libgtk2.0-bin amd64 2.24.32-1ubuntu1 [7,536 B]\n",
            "Fetched 2,120 kB in 2s (1,346 kB/s)\n",
            "Selecting previously unselected package libgtk2.0-common.\n",
            "(Reading database ... 160772 files and directories currently installed.)\n",
            "Preparing to unpack .../0-libgtk2.0-common_2.24.32-1ubuntu1_all.deb ...\n",
            "Unpacking libgtk2.0-common (2.24.32-1ubuntu1) ...\n",
            "Selecting previously unselected package libgtk2.0-0:amd64.\n",
            "Preparing to unpack .../1-libgtk2.0-0_2.24.32-1ubuntu1_amd64.deb ...\n",
            "Unpacking libgtk2.0-0:amd64 (2.24.32-1ubuntu1) ...\n",
            "Selecting previously unselected package libgail18:amd64.\n",
            "Preparing to unpack .../2-libgail18_2.24.32-1ubuntu1_amd64.deb ...\n",
            "Unpacking libgail18:amd64 (2.24.32-1ubuntu1) ...\n",
            "Selecting previously unselected package libgail-common:amd64.\n",
            "Preparing to unpack .../3-libgail-common_2.24.32-1ubuntu1_amd64.deb ...\n",
            "Unpacking libgail-common:amd64 (2.24.32-1ubuntu1) ...\n",
            "Selecting previously unselected package libxdot4.\n",
            "Preparing to unpack .../4-libxdot4_2.40.1-2_amd64.deb ...\n",
            "Unpacking libxdot4 (2.40.1-2) ...\n",
            "Selecting previously unselected package libgvc6-plugins-gtk.\n",
            "Preparing to unpack .../5-libgvc6-plugins-gtk_2.40.1-2_amd64.deb ...\n",
            "Unpacking libgvc6-plugins-gtk (2.40.1-2) ...\n",
            "Selecting previously unselected package libgraphviz-dev.\n",
            "Preparing to unpack .../6-libgraphviz-dev_2.40.1-2_amd64.deb ...\n",
            "Unpacking libgraphviz-dev (2.40.1-2) ...\n",
            "Selecting previously unselected package libgtk2.0-bin.\n",
            "Preparing to unpack .../7-libgtk2.0-bin_2.24.32-1ubuntu1_amd64.deb ...\n",
            "Unpacking libgtk2.0-bin (2.24.32-1ubuntu1) ...\n",
            "Setting up libgtk2.0-common (2.24.32-1ubuntu1) ...\n",
            "Setting up libxdot4 (2.40.1-2) ...\n",
            "Setting up libgtk2.0-0:amd64 (2.24.32-1ubuntu1) ...\n",
            "Setting up libgail18:amd64 (2.24.32-1ubuntu1) ...\n",
            "Setting up libgail-common:amd64 (2.24.32-1ubuntu1) ...\n",
            "Setting up libgvc6-plugins-gtk (2.40.1-2) ...\n",
            "Setting up libgraphviz-dev (2.40.1-2) ...\n",
            "Setting up libgtk2.0-bin (2.24.32-1ubuntu1) ...\n",
            "Processing triggers for man-db (2.8.3-2ubuntu0.1) ...\n",
            "Processing triggers for libc-bin (2.27-3ubuntu1.2) ...\n",
            "/sbin/ldconfig.real: /usr/local/lib/python3.7/dist-packages/ideep4py/lib/libmkldnn.so.0 is not a symbolic link\n",
            "\n",
            "Collecting pygraphviz\n",
            "\u001b[?25l  Downloading https://files.pythonhosted.org/packages/3a/d6/2c56f09ee83dbebb62c40487e4c972135661b9984fec9b30b77fb497090c/pygraphviz-1.7.zip (118kB)\n",
            "\u001b[K     |████████████████████████████████| 122kB 6.6MB/s \n",
            "\u001b[?25hBuilding wheels for collected packages: pygraphviz\n",
            "  Building wheel for pygraphviz (setup.py) ... \u001b[?25l\u001b[?25hdone\n",
            "  Created wheel for pygraphviz: filename=pygraphviz-1.7-cp37-cp37m-linux_x86_64.whl size=166138 sha256=7fe8199396c13e892fcbed3af3e0dd33ef96f6394045803bc2b8b945381c3f8b\n",
            "  Stored in directory: /root/.cache/pip/wheels/32/59/00/14934a4292c4359eeabcdbf90f33d309b55d0f1be8a1262523\n",
            "Successfully built pygraphviz\n",
            "Installing collected packages: pygraphviz\n",
            "Successfully installed pygraphviz-1.7\n"
          ],
          "name": "stdout"
        }
      ]
    },
    {
      "cell_type": "code",
      "metadata": {
        "colab": {
          "base_uri": "https://localhost:8080/"
        },
        "id": "InsxorIIqJAQ",
        "outputId": "056c0843-d72c-4849-85c7-a2a166cbbb0e"
      },
      "source": [
        "import networkx as nx\n",
        "print(nx.__version__)\n",
        "\n",
        "import matplotlib.pyplot as plt\n",
        "import numpy as np"
      ],
      "execution_count": null,
      "outputs": [
        {
          "output_type": "stream",
          "text": [
            "2.5.1\n"
          ],
          "name": "stdout"
        }
      ]
    },
    {
      "cell_type": "markdown",
      "metadata": {
        "id": "NbJHD6lxqJAT"
      },
      "source": [
        "### Some functions to plot graphs"
      ]
    },
    {
      "cell_type": "code",
      "metadata": {
        "id": "lTsS3UrIqJAV"
      },
      "source": [
        "from networkx.drawing.nx_agraph import graphviz_layout\n",
        "\n",
        "def plot_graph(G):\n",
        "    nx.draw(G, with_labels = True)  \n",
        "    plt.show()\n",
        "    \n",
        "def plot_graph_with_weights(G):\n",
        "    pos = nx.planar_layout(G) # pos = nx.nx_agraph.graphviz_layout(G)\n",
        "    nx.draw_networkx(G,pos)\n",
        "    labels = nx.get_edge_attributes(G,'weight')\n",
        "    nx.draw_networkx_edge_labels(G, pos, edge_labels=labels)\n",
        "    plt.show()\n",
        "\n",
        "def plot_tree(tree):\n",
        "    pos = graphviz_layout(tree, prog='dot')\n",
        "    nx.draw(tree, pos, with_labels=True)\n",
        "    plt.show()\n",
        "    \n",
        "def plot_graph_and_highlight_dijistra(G, path):\n",
        "    pos = graphviz_layout(G)\n",
        "    nx.draw(G, pos, with_labels = True)\n",
        "\n",
        "    nx.draw_networkx_nodes(G, pos, nodelist=path,node_color='r', with_labels=True)\n",
        "    path_edges = list(zip(path, path[1:]))\n",
        "    nx.draw_networkx_edges(G, pos, edgelist=path_edges, edge_color='r', width=4)\n",
        "    plt.show()"
      ],
      "execution_count": null,
      "outputs": []
    },
    {
      "cell_type": "markdown",
      "metadata": {
        "id": "ats8vN3nqJAY"
      },
      "source": [
        "---\n",
        "\n",
        "## Create a Graph\n",
        "\n",
        "A graph is a __collection of nodes and edges__, *i.e.*, G = (V, E). Let us create an empty graph"
      ]
    },
    {
      "cell_type": "markdown",
      "metadata": {
        "id": "F5l0NOP-qJAb"
      },
      "source": [
        "Let's start by creating an empty graph"
      ]
    },
    {
      "cell_type": "code",
      "metadata": {
        "id": "dFofORh7qJAc"
      },
      "source": [
        "G = nx.Graph()"
      ],
      "execution_count": null,
      "outputs": []
    },
    {
      "cell_type": "markdown",
      "metadata": {
        "id": "hPxrOdspqJAd"
      },
      "source": [
        "Now let's __populate__ the graph. We can add one node at time using *G.add_node()* or add any iterable collections (lists, strings etc..) with *G.add_nodes_from*. \n",
        "\n",
        "We are now using strings as nodes's names, but nodes can be any hashable object."
      ]
    },
    {
      "cell_type": "code",
      "metadata": {
        "id": "ARw5Xx9tqJAf"
      },
      "source": [
        "G.add_node('a')\n",
        "my_list = ['b', 'c', 'd']\n",
        "G.add_nodes_from(my_list)"
      ],
      "execution_count": null,
      "outputs": []
    },
    {
      "cell_type": "markdown",
      "metadata": {
        "id": "beXG_YoPqJAl"
      },
      "source": [
        "We can __inspect the nodes__ in a graph using *G.nodes()*."
      ]
    },
    {
      "cell_type": "code",
      "metadata": {
        "colab": {
          "base_uri": "https://localhost:8080/"
        },
        "id": "Cyulf6-4qJAm",
        "outputId": "0f520fde-6c41-47c9-ab50-352d249c9179"
      },
      "source": [
        "G.nodes()"
      ],
      "execution_count": null,
      "outputs": [
        {
          "output_type": "execute_result",
          "data": {
            "text/plain": [
              "NodeView(('a', 'b', 'c', 'd'))"
            ]
          },
          "metadata": {
            "tags": []
          },
          "execution_count": 7
        }
      ]
    },
    {
      "cell_type": "code",
      "metadata": {
        "colab": {
          "base_uri": "https://localhost:8080/",
          "height": 319
        },
        "id": "7crQLB_CqJAo",
        "outputId": "7e9ce199-d999-4d6b-ce8a-3439a4b14375"
      },
      "source": [
        "plot_graph(G)"
      ],
      "execution_count": null,
      "outputs": [
        {
          "output_type": "display_data",
          "data": {
            "image/png": "[encoded data removed]",
            "text/plain": [
              "<Figure size 432x288 with 1 Axes>"
            ]
          },
          "metadata": {
            "tags": []
          }
        }
      ]
    },
    {
      "cell_type": "markdown",
      "metadata": {
        "id": "LgcHykwuqJAq"
      },
      "source": [
        "Now let us __add edges__ to the graph. \n",
        "\n",
        "We can add one edge at time with *G.add_edge()*, specifying the nodes between whom we want the edge to stay. As for nodes, we can pass an iterable colletion to *G.add_edges_from()*."
      ]
    },
    {
      "cell_type": "code",
      "metadata": {
        "colab": {
          "base_uri": "https://localhost:8080/"
        },
        "id": "RtNoQs8bqJAr",
        "outputId": "83344f85-5a1c-4579-b344-f60812e40bb0"
      },
      "source": [
        "G.add_edges_from([('a', 'b'), ('a', 'c'), ('c', 'd'), ('b', 'd')])\n",
        "G.edges()"
      ],
      "execution_count": null,
      "outputs": [
        {
          "output_type": "execute_result",
          "data": {
            "text/plain": [
              "EdgeView([('a', 'b'), ('a', 'c'), ('b', 'd'), ('c', 'd')])"
            ]
          },
          "metadata": {
            "tags": []
          },
          "execution_count": 9
        }
      ]
    },
    {
      "cell_type": "markdown",
      "metadata": {
        "id": "gUnk4l7kqJAs"
      },
      "source": [
        "If we add edges between nodes that does not exist, __nodes are automatically added__"
      ]
    },
    {
      "cell_type": "code",
      "metadata": {
        "id": "xB58uTz0qJAt"
      },
      "source": [
        "G.add_edge(\"a\", \"e\")"
      ],
      "execution_count": null,
      "outputs": []
    },
    {
      "cell_type": "code",
      "metadata": {
        "colab": {
          "base_uri": "https://localhost:8080/",
          "height": 319
        },
        "id": "pMWk8XNdqJAu",
        "outputId": "0b974f5a-14d5-4469-aece-c535ce2c5113"
      },
      "source": [
        "plot_graph(G)"
      ],
      "execution_count": null,
      "outputs": [
        {
          "output_type": "display_data",
          "data": {
            "image/png": "[encoded data removed]",
            "text/plain": [
              "<Figure size 432x288 with 1 Axes>"
            ]
          },
          "metadata": {
            "tags": []
          }
        }
      ]
    },
    {
      "cell_type": "markdown",
      "metadata": {
        "id": "6g3bHO0IqJAx"
      },
      "source": [
        "__Remove__ nodes and/or edges using the *G.remove_node()* or the *G.remove_nodes_from()*"
      ]
    },
    {
      "cell_type": "code",
      "metadata": {
        "colab": {
          "base_uri": "https://localhost:8080/",
          "height": 319
        },
        "id": "kXGniEHVqJAz",
        "outputId": "e0c6afbd-3217-4367-b21e-0dd0390a6f58"
      },
      "source": [
        "G.remove_node('e')\n",
        "plot_graph(G)"
      ],
      "execution_count": null,
      "outputs": [
        {
          "output_type": "display_data",
          "data": {
            "image/png": "[encoded data removed]",
            "text/plain": [
              "<Figure size 432x288 with 1 Axes>"
            ]
          },
          "metadata": {
            "tags": []
          }
        }
      ]
    },
    {
      "cell_type": "markdown",
      "metadata": {
        "id": "S0-iqFoHqJA1"
      },
      "source": [
        "---\n",
        "## Graph properties\n"
      ]
    },
    {
      "cell_type": "markdown",
      "metadata": {
        "id": "wi7b_7gQqJA3"
      },
      "source": [
        "NewtorkX provides direct access to several __graph properties__"
      ]
    },
    {
      "cell_type": "code",
      "metadata": {
        "colab": {
          "base_uri": "https://localhost:8080/"
        },
        "id": "2jpFdt7pqJA4",
        "outputId": "d99d89ee-9e23-4e02-f71d-15393611586b"
      },
      "source": [
        "# Number of nodes\n",
        "print(\"Number of Nodes: \", G.order ()) # equivalent to len(G) and G.number_of_nodes()\n",
        "# Number of edges\n",
        "print(\"Number of Edges: \", G.number_of_edges())"
      ],
      "execution_count": null,
      "outputs": [
        {
          "output_type": "stream",
          "text": [
            "Number of Nodes:  4\n",
            "Number of Edges:  4\n"
          ],
          "name": "stdout"
        }
      ]
    },
    {
      "cell_type": "markdown",
      "metadata": {
        "id": "a0ymEb0GqJA9"
      },
      "source": [
        "Nodes can be listed with G.nodes."
      ]
    },
    {
      "cell_type": "code",
      "metadata": {
        "colab": {
          "base_uri": "https://localhost:8080/"
        },
        "id": "95oagKusqJBB",
        "outputId": "31fd9a42-a3e7-4872-ac0b-c84afadc2056"
      },
      "source": [
        "G.nodes"
      ],
      "execution_count": null,
      "outputs": [
        {
          "output_type": "execute_result",
          "data": {
            "text/plain": [
              "NodeView(('a', 'b', 'c', 'd'))"
            ]
          },
          "metadata": {
            "tags": []
          },
          "execution_count": 14
        }
      ]
    },
    {
      "cell_type": "markdown",
      "metadata": {
        "id": "FPxko6FQqJBC"
      },
      "source": [
        "We can assign nodes some attributes, e.g., a color."
      ]
    },
    {
      "cell_type": "code",
      "metadata": {
        "id": "BAoHj-qfqJBD"
      },
      "source": [
        "for node in G.nodes:\n",
        "    G.nodes[node]['color'] = 'white'"
      ],
      "execution_count": null,
      "outputs": []
    },
    {
      "cell_type": "code",
      "metadata": {
        "colab": {
          "base_uri": "https://localhost:8080/"
        },
        "id": "mxjcqtpLqJBE",
        "outputId": "fa3247dc-f337-4150-d827-8634e8244f58"
      },
      "source": [
        "list(G.nodes.data())"
      ],
      "execution_count": null,
      "outputs": [
        {
          "output_type": "execute_result",
          "data": {
            "text/plain": [
              "[('a', {'color': 'white'}),\n",
              " ('b', {'color': 'white'}),\n",
              " ('c', {'color': 'white'}),\n",
              " ('d', {'color': 'white'})]"
            ]
          },
          "metadata": {
            "tags": []
          },
          "execution_count": 16
        }
      ]
    },
    {
      "cell_type": "code",
      "metadata": {
        "colab": {
          "base_uri": "https://localhost:8080/",
          "height": 36
        },
        "id": "0OX9_0EMqJBF",
        "outputId": "68728071-837a-4a95-9c72-52ed7a28275f"
      },
      "source": [
        "G.nodes['a']['color']"
      ],
      "execution_count": null,
      "outputs": [
        {
          "output_type": "execute_result",
          "data": {
            "application/vnd.google.colaboratory.intrinsic+json": {
              "type": "string"
            },
            "text/plain": [
              "'white'"
            ]
          },
          "metadata": {
            "tags": []
          },
          "execution_count": 17
        }
      ]
    },
    {
      "cell_type": "markdown",
      "metadata": {
        "id": "CYPGZ-SXqJBG"
      },
      "source": [
        "We can explore the **neighbours** and the **degree** of the nodes in a graph using the facilities *G.adj* and *G.degree*."
      ]
    },
    {
      "cell_type": "code",
      "metadata": {
        "colab": {
          "base_uri": "https://localhost:8080/"
        },
        "id": "zbEa5c_KqJBH",
        "outputId": "77136cef-d7bb-43a5-d0e6-d5b2120f5040"
      },
      "source": [
        "print(G.adj)\n",
        "print(G.adj['a'])"
      ],
      "execution_count": null,
      "outputs": [
        {
          "output_type": "stream",
          "text": [
            "{'a': {'b': {}, 'c': {}}, 'b': {'a': {}, 'd': {}}, 'c': {'a': {}, 'd': {}}, 'd': {'c': {}, 'b': {}}}\n",
            "{'b': {}, 'c': {}}\n"
          ],
          "name": "stdout"
        }
      ]
    },
    {
      "cell_type": "markdown",
      "metadata": {
        "id": "MHDHJQT0qJBI"
      },
      "source": [
        "Graph are __subscriptable__ objects and we can access neighbours directly with the [ ] operator."
      ]
    },
    {
      "cell_type": "code",
      "metadata": {
        "colab": {
          "base_uri": "https://localhost:8080/"
        },
        "id": "ZrQvCod-qJBJ",
        "outputId": "6e2db64a-1de0-4165-a949-f0193e16cdb4"
      },
      "source": [
        "print(G.adj['a'])\n",
        "print(G['a'])"
      ],
      "execution_count": null,
      "outputs": [
        {
          "output_type": "stream",
          "text": [
            "{'b': {}, 'c': {}}\n",
            "{'b': {}, 'c': {}}\n"
          ],
          "name": "stdout"
        }
      ]
    },
    {
      "cell_type": "markdown",
      "metadata": {
        "id": "crSmKZSgqJBM"
      },
      "source": [
        "We may want to add some edges properties."
      ]
    },
    {
      "cell_type": "code",
      "metadata": {
        "id": "tuFLJtwSqJBN"
      },
      "source": [
        "G['a']['c']['color'] = 'green'\n",
        "G['a']['b']['color'] = 'black'"
      ],
      "execution_count": null,
      "outputs": []
    },
    {
      "cell_type": "markdown",
      "metadata": {
        "id": "x6SqZ8udqJBP"
      },
      "source": [
        "We can use *G.adj* as a dictionary and __iterate__ over it."
      ]
    },
    {
      "cell_type": "code",
      "metadata": {
        "colab": {
          "base_uri": "https://localhost:8080/"
        },
        "id": "VUXmwyCPqJBQ",
        "outputId": "9ca78b8a-ebc3-491f-94c4-8a6404e752dd"
      },
      "source": [
        "for node, datadict in G.adj.items():\n",
        "    # datadict is a dictionary whose keys are node neighbours and whose value, in turn, is a dictionary \n",
        "    # reporting 'property:value' of the edge between node and key\n",
        "    \n",
        "    print(node, datadict) "
      ],
      "execution_count": null,
      "outputs": [
        {
          "output_type": "stream",
          "text": [
            "a {'b': {'color': 'black'}, 'c': {'color': 'green'}}\n",
            "b {'a': {'color': 'black'}, 'd': {}}\n",
            "c {'a': {'color': 'green'}, 'd': {}}\n",
            "d {'c': {}, 'b': {}}\n"
          ],
          "name": "stdout"
        }
      ]
    },
    {
      "cell_type": "markdown",
      "metadata": {
        "id": "fEv0Q0YtqJBS"
      },
      "source": [
        "The degree property reports the number of edges for each node."
      ]
    },
    {
      "cell_type": "code",
      "metadata": {
        "colab": {
          "base_uri": "https://localhost:8080/"
        },
        "id": "c7lqrl4VqJBT",
        "outputId": "f95aad32-959f-468e-b4d8-8aa7514cd3e6"
      },
      "source": [
        "print(G.degree)"
      ],
      "execution_count": null,
      "outputs": [
        {
          "output_type": "stream",
          "text": [
            "[('a', 2), ('b', 2), ('c', 2), ('d', 2)]\n"
          ],
          "name": "stdout"
        }
      ]
    },
    {
      "cell_type": "code",
      "metadata": {
        "colab": {
          "base_uri": "https://localhost:8080/"
        },
        "id": "b015VixaqJBV",
        "outputId": "6d917e49-eb59-4982-e2f8-45533acef234"
      },
      "source": [
        "G.add_edge(1,2, weight = 1.0)\n",
        "G.edges().data()"
      ],
      "execution_count": null,
      "outputs": [
        {
          "output_type": "execute_result",
          "data": {
            "text/plain": [
              "EdgeDataView([('a', 'b', {'color': 'black'}), ('a', 'c', {'color': 'green'}), ('b', 'd', {}), ('c', 'd', {}), (1, 2, {'weight': 1.0})])"
            ]
          },
          "metadata": {
            "tags": []
          },
          "execution_count": 23
        }
      ]
    },
    {
      "cell_type": "markdown",
      "metadata": {
        "id": "oCL5A4MBqJBX"
      },
      "source": [
        "---\n",
        "## Directed Graphs"
      ]
    },
    {
      "cell_type": "markdown",
      "metadata": {
        "id": "IqDDuMdwqJBY"
      },
      "source": [
        "Networkx supports directed graphs."
      ]
    },
    {
      "cell_type": "code",
      "metadata": {
        "colab": {
          "base_uri": "https://localhost:8080/",
          "height": 248
        },
        "id": "rsjKKtzqqJBY",
        "outputId": "6305ff00-7b05-4396-eb68-4e0d21c3a6b5"
      },
      "source": [
        "DG = nx.DiGraph()\n",
        "#we add nodes and edges as a list oftriplets (or_node, dest_node, weight)\n",
        "DG.add_weighted_edges_from([(1, 2, 0.5), (3, 1, 0.75), (3,2, 0.4)]) \n",
        "plot_graph_with_weights(DG)"
      ],
      "execution_count": null,
      "outputs": [
        {
          "output_type": "display_data",
          "data": {
            "image/png": "[encoded data removed]",
            "text/plain": [
              "<Figure size 432x288 with 1 Axes>"
            ]
          },
          "metadata": {
            "tags": []
          }
        }
      ]
    },
    {
      "cell_type": "code",
      "metadata": {
        "colab": {
          "base_uri": "https://localhost:8080/"
        },
        "id": "IuatXYNXqJBa",
        "outputId": "e0755c4c-d824-4c43-b3e0-bb74f3fc1bd9"
      },
      "source": [
        "print(\"Successor of node 1: Node\", list(DG.successors(1))[0]) #Equivalent to DG.neighbors for directed graphs\n",
        "print(\"Predecssor of node 1 : Node\", list(DG.predecessors(1))[0]) # 2 perchè è il primo di tutti i predecessori, se [] metto 1 allora è 3\n",
        "print(list(DG.predecessors(1))) # tutti quelli che portano a 1"
      ],
      "execution_count": null,
      "outputs": [
        {
          "output_type": "stream",
          "text": [
            "Successor of node 1: Node 2\n",
            "Predecssor of node 1 : Node 3\n",
            "[3]\n"
          ],
          "name": "stdout"
        }
      ]
    },
    {
      "cell_type": "markdown",
      "metadata": {
        "id": "6YncNxmfqJBc"
      },
      "source": [
        "We can __convert__ directed graphs to undirected one and viceversa.\n"
      ]
    },
    {
      "cell_type": "code",
      "metadata": {
        "id": "5y2XZuomqJBd"
      },
      "source": [
        "G = nx.to_undirected(DG)\n",
        "DG = nx.to_directed(G)"
      ],
      "execution_count": null,
      "outputs": []
    },
    {
      "cell_type": "markdown",
      "metadata": {
        "id": "-kItJlTwqJBe"
      },
      "source": [
        "---\n",
        "## Graph Operations"
      ]
    },
    {
      "cell_type": "markdown",
      "metadata": {
        "id": "2Qih9Ao_qJBg"
      },
      "source": [
        "Networkx supports most common graph operations. Some examples are \n",
        "<ul>\n",
        "<li>Union</li>\n",
        "<li>Intersection</li>\n",
        "<li>Complement</li>\n",
        "</ul>"
      ]
    },
    {
      "cell_type": "code",
      "metadata": {
        "colab": {
          "base_uri": "https://localhost:8080/",
          "height": 319
        },
        "id": "QS3Fe0GHqJBh",
        "outputId": "e666f888-abaa-4419-f413-85cb4fafd291"
      },
      "source": [
        "# Create a first graph G\n",
        "G = nx.Graph()\n",
        "G.add_edges_from([(\"a\", \"b\"), (\"b\", \"c\"), (\"c\", \"d\")])\n",
        "\n",
        "# Create a second graph H\n",
        "H = nx.Graph()\n",
        "H.add_edges_from([(\"e\", \"f\"), (\"f\", \"g\"), (\"g\", \"h\") ])\n",
        "\n",
        "# Perform the union operation\n",
        "I = nx.union(G, H)\n",
        "plot_graph(I)"
      ],
      "execution_count": null,
      "outputs": [
        {
          "output_type": "display_data",
          "data": {
            "image/png": "[encoded data removed]",
            "text/plain": [
              "<Figure size 432x288 with 1 Axes>"
            ]
          },
          "metadata": {
            "tags": []
          }
        }
      ]
    },
    {
      "cell_type": "code",
      "metadata": {
        "colab": {
          "base_uri": "https://localhost:8080/",
          "height": 319
        },
        "id": "H2hT2FF-qJBk",
        "outputId": "4a51ed58-3137-4ac9-acc7-84a4d0a607c0"
      },
      "source": [
        "# Now link the two connected components\n",
        "I.add_edges_from([(\"a\",\"e\"), (\"b\", \"g\")])\n",
        "plot_graph(I)"
      ],
      "execution_count": null,
      "outputs": [
        {
          "output_type": "display_data",
          "data": {
            "image/png": "[encoded data removed]",
            "text/plain": [
              "<Figure size 432x288 with 1 Axes>"
            ]
          },
          "metadata": {
            "tags": []
          }
        }
      ]
    },
    {
      "cell_type": "code",
      "metadata": {
        "colab": {
          "base_uri": "https://localhost:8080/",
          "height": 319
        },
        "id": "OKpcmvxHqJBl",
        "outputId": "4385e8d6-4da4-4d0e-91cb-195e60f4b483"
      },
      "source": [
        "# Create a third graph\n",
        "L = nx.Graph()\n",
        "\n",
        "# To perform intersection between two graphs, they must have the same nodes\n",
        "# First we copy all the nodes in I into L\n",
        "L.add_nodes_from(I.nodes())\n",
        "\n",
        "# Then we add some edge in L\n",
        "L.add_edges_from([(\"e\", \"f\"), (\"f\", \"g\")])\n",
        "\n",
        "M = nx.intersection(I, L)\n",
        "\n",
        "# Only the shared edges between I, L wil survive this operation\n",
        "plot_graph(M)"
      ],
      "execution_count": null,
      "outputs": [
        {
          "output_type": "display_data",
          "data": {
            "image/png": "[encoded data removed]",
            "text/plain": [
              "<Figure size 432x288 with 1 Axes>"
            ]
          },
          "metadata": {
            "tags": []
          }
        }
      ]
    },
    {
      "cell_type": "markdown",
      "metadata": {
        "id": "avd5lExdqJBn"
      },
      "source": [
        "---\n",
        "## Graph Search\n",
        "\n",
        "Several algorithm are already implemented in NetworkX, take a look [here](https://networkx.github.io/documentation/stable/reference/algorithms/index.html)."
      ]
    },
    {
      "cell_type": "markdown",
      "metadata": {
        "id": "e-JN4b3lqJBo"
      },
      "source": [
        "### Breadth First Search (BFS)"
      ]
    },
    {
      "cell_type": "markdown",
      "metadata": {
        "id": "QHIq4oV-qJBp"
      },
      "source": [
        "With Networkx it is easy to perform  graph search. Let us start with __BFS__. \n",
        "\n",
        "We will use a __Petersen__ graph as an example, a graph with 10 nodes and 15 edges."
      ]
    },
    {
      "cell_type": "code",
      "metadata": {
        "colab": {
          "base_uri": "https://localhost:8080/",
          "height": 356
        },
        "id": "IcTUmbKDqJBq",
        "outputId": "7ec5d0f3-37c0-4b69-db5f-2f52e0c19eb7"
      },
      "source": [
        "petersen = nx.petersen_graph()\n",
        "print(\"Number of nodes\", petersen.order())\n",
        "print(\"Number of edges\", petersen.number_of_edges())\n",
        "plot_graph(petersen)"
      ],
      "execution_count": null,
      "outputs": [
        {
          "output_type": "stream",
          "text": [
            "Number of nodes 10\n",
            "Number of edges 15\n"
          ],
          "name": "stdout"
        },
        {
          "output_type": "display_data",
          "data": {
            "image/png": "[encoded data removed]",
            "text/plain": [
              "<Figure size 432x288 with 1 Axes>"
            ]
          },
          "metadata": {
            "tags": []
          }
        }
      ]
    },
    {
      "cell_type": "markdown",
      "metadata": {
        "id": "tEoGg9QuqJBr"
      },
      "source": [
        "Networkx offers several __methods__ to perform BFS. Observe that in the method definition, the arguments in square brackets [ ]  are optional.\n",
        "\n",
        "- bfs_edges(G, source, [reverse, depth_limit]):  returns an iterator over edges in a breadth-first-search starting at source, until depth_limit\n",
        "- bfs_tree(G, source, [reverse, depth_limit]): returns an oriented tree constructed from of a breadth-first-search starting at source\n",
        "- bfs_predecessors(G, source, [depth_limit]): returns an iterator of predecessors in breadth-first-search from source\n",
        "- bfs_successors(G, source, [depth_limit]): returns an iterator of successors in breadth-first-search from source         "
      ]
    },
    {
      "cell_type": "code",
      "metadata": {
        "colab": {
          "base_uri": "https://localhost:8080/"
        },
        "id": "kRIxvp4hqJBr",
        "outputId": "94936df6-dc8e-4848-f586-7ebc7314e0ed"
      },
      "source": [
        "# We use 0 as source node. \n",
        "edges_bfs = list(nx.bfs_edges(petersen, 0))\n",
        "print(\"Result of BFS on edges:\", edges_bfs)"
      ],
      "execution_count": null,
      "outputs": [
        {
          "output_type": "stream",
          "text": [
            "Result of BFS on edges: [(0, 1), (0, 4), (0, 5), (1, 2), (1, 6), (4, 3), (4, 9), (5, 7), (5, 8)]\n"
          ],
          "name": "stdout"
        }
      ]
    },
    {
      "cell_type": "code",
      "metadata": {
        "colab": {
          "base_uri": "https://localhost:8080/"
        },
        "id": "ZcVtA-Om3O5D",
        "outputId": "14d90ee8-2f63-444d-9bd3-e526007891a8"
      },
      "source": [
        "pred = list(nx.bfs_predecessors(petersen,4))\n",
        "succ = list(nx.bfs_successors(petersen,4))\n",
        "print(pred)\n",
        "print(succ)"
      ],
      "execution_count": null,
      "outputs": [
        {
          "output_type": "stream",
          "text": [
            "[(0, 4), (3, 4), (9, 4), (1, 0), (5, 0), (2, 3), (8, 3), (6, 9), (7, 9)]\n",
            "[(4, [0, 3, 9]), (0, [1, 5]), (3, [2, 8]), (9, [6, 7])]\n"
          ],
          "name": "stdout"
        }
      ]
    },
    {
      "cell_type": "code",
      "metadata": {
        "colab": {
          "base_uri": "https://localhost:8080/",
          "height": 319
        },
        "id": "zQJS-ddAqJBs",
        "outputId": "9a439016-8b33-458a-e038-eee0bb7e2b8c"
      },
      "source": [
        "# Another helpful way to understand is the tree that comes out from its execution. This can be done by using bfs_tree\n",
        "tree_bfs = nx.bfs_tree(petersen, 0)\n",
        "\n",
        "# Now we plot the resulting tree\n",
        "plot_tree(tree_bfs)"
      ],
      "execution_count": null,
      "outputs": [
        {
          "output_type": "display_data",
          "data": {
            "image/png": "[encoded data removed]",
            "text/plain": [
              "<Figure size 432x288 with 1 Axes>"
            ]
          },
          "metadata": {
            "tags": []
          }
        }
      ]
    },
    {
      "cell_type": "markdown",
      "metadata": {
        "id": "dC8wHg1HqJBt"
      },
      "source": [
        "---\n",
        "\n",
        "### Depth First Search (DFS)\n"
      ]
    },
    {
      "cell_type": "markdown",
      "metadata": {
        "id": "V1Zu1hidqJBu"
      },
      "source": [
        "As for BFS,  Networkx offers several __methods__ to perform DFS. Observe that,as previously explained, in the method definition, the arguments in square brackets [ ]  are optional.\n",
        "<ul>\n",
        "  <li> dfs_edges(G, source, [reverse, depth_limit]):  returns an iterator over edges in a depth-first-search starting at source, until max_depth </li>\n",
        "<li>dfs_tree(G, source, [reverse, depth_limit]): returns an oriented tree constructed from of a depth-first-search starting at source(</li>\n",
        "<li>dfs_predecessors(G, source, [depth_limit]): returns an iterator of predecessors in depth-first-search from source</li>\n",
        "    <li>dfs_successors(G, source, [depth_limit]): returns an iterator of successors in depth-first-search from source </li>    \n",
        "    \n",
        "</ul>\n",
        "Let us now observe the difference between BFS and DFS\n",
        "        "
      ]
    },
    {
      "cell_type": "code",
      "metadata": {
        "colab": {
          "base_uri": "https://localhost:8080/"
        },
        "id": "dv3fy8QoqJBv",
        "outputId": "400af13f-507c-448e-a435-dc3123d37877"
      },
      "source": [
        "# We use 0 as source node. \n",
        "edges_dfs = list(nx.dfs_edges(petersen, 0))\n",
        "print(\"Result of dfs on edges:\",edges_dfs)"
      ],
      "execution_count": null,
      "outputs": [
        {
          "output_type": "stream",
          "text": [
            "Result of dfs on edges: [(0, 1), (1, 2), (2, 3), (3, 4), (4, 9), (9, 6), (6, 8), (8, 5), (5, 7)]\n"
          ],
          "name": "stdout"
        }
      ]
    },
    {
      "cell_type": "code",
      "metadata": {
        "colab": {
          "base_uri": "https://localhost:8080/"
        },
        "id": "Pl42XVzL4arz",
        "outputId": "828d49e8-eb83-48d3-81ac-ffe0b2a26392"
      },
      "source": [
        "pred = list(nx.bfs_predecessors(petersen,0))\n",
        "succ = list(nx.bfs_successors(petersen,2))\n",
        "print(pred)\n",
        "print(succ)"
      ],
      "execution_count": null,
      "outputs": [
        {
          "output_type": "stream",
          "text": [
            "[(1, 0), (4, 0), (5, 0), (2, 1), (6, 1), (3, 4), (9, 4), (7, 5), (8, 5)]\n",
            "[(2, [1, 3, 7]), (1, [0, 6]), (3, [4, 8]), (7, [5, 9])]\n"
          ],
          "name": "stdout"
        }
      ]
    },
    {
      "cell_type": "code",
      "metadata": {
        "colab": {
          "base_uri": "https://localhost:8080/",
          "height": 319
        },
        "id": "HoJNd5v1qJBw",
        "outputId": "2ae3aa02-9291-43f6-8ded-45728ee77c89"
      },
      "source": [
        "tree_dfs = nx.dfs_tree(petersen, 0)\n",
        "\n",
        "# Now we plot the resulting tree\n",
        "plot_tree(tree_dfs)"
      ],
      "execution_count": null,
      "outputs": [
        {
          "output_type": "display_data",
          "data": {
            "image/png": "[encoded data removed]",
            "text/plain": [
              "<Figure size 432x288 with 1 Axes>"
            ]
          },
          "metadata": {
            "tags": []
          }
        }
      ]
    },
    {
      "cell_type": "markdown",
      "metadata": {
        "id": "u7QNbI1UqJBx"
      },
      "source": [
        "----\n",
        "### Shortest path with Dijkstra algorithm"
      ]
    },
    {
      "cell_type": "markdown",
      "metadata": {
        "id": "t81TRkvEqJBy"
      },
      "source": [
        "Let us now move to the Dijkstra algorithm to find the shortest path between two points.\n"
      ]
    },
    {
      "cell_type": "code",
      "metadata": {
        "id": "94IXDxkVqJB0"
      },
      "source": [
        "from random import random, choice\n",
        "from networkx.utils import pairwise"
      ],
      "execution_count": null,
      "outputs": []
    },
    {
      "cell_type": "code",
      "metadata": {
        "colab": {
          "base_uri": "https://localhost:8080/",
          "height": 960
        },
        "id": "W_MZ1LG8qJB1",
        "outputId": "97062357-3541-46c5-b93e-d50b717cc780"
      },
      "source": [
        "G = nx.Graph()\n",
        "\n",
        "n_nodes = 15\n",
        "\n",
        "# Generate nodes from 0 to n_nodes-1\n",
        "nodes = np.arange(n_nodes)\n",
        "G.add_nodes_from(nodes)\n",
        "\n",
        "# Build a path from nodes[0] to nodes[-1] to be sure it exists\n",
        "for p1, p2 in pairwise(nodes):\n",
        "    G.add_edge(p1, p2, weight=np.linalg.norm(p1-p2))\n",
        "\n",
        "    \n",
        "# Add other random edges\n",
        "new_edges = 25\n",
        "for _ in range(new_edges):\n",
        "    p1, p2 = choice(nodes), choice(nodes)\n",
        "    if p1 != nodes[0] and p2!= nodes[-1]:#avoid direct link\n",
        "        G.add_edge(p1, p2, weight=np.linalg.norm(p1-p2))\n",
        "    \n",
        "    \n",
        "plot_graph(G)\n",
        "\n",
        "\n",
        "# Compute Dijistra path\n",
        "path =  nx.dijkstra_path(G, nodes[0], nodes[3])\n",
        "print(path)\n",
        "plot_graph_and_highlight_dijistra(G, path)"
      ],
      "execution_count": null,
      "outputs": [
        {
          "output_type": "display_data",
          "data": {
            "image/png": "[encoded data removed]",
            "text/plain": [
              "<Figure size 432x288 with 1 Axes>"
            ]
          },
          "metadata": {
            "tags": []
          }
        },
        {
          "output_type": "stream",
          "text": [
            "[0, 2, 3]\n"
          ],
          "name": "stdout"
        },
        {
          "output_type": "error",
          "ename": "TypeError",
          "evalue": "ignored",
          "traceback": [
            "\u001b[0;31m---------------------------------------------------------------------------\u001b[0m",
            "\u001b[0;31mTypeError\u001b[0m                                 Traceback (most recent call last)",
            "\u001b[0;32m<ipython-input-38-4022f3bd90cb>\u001b[0m in \u001b[0;36m<module>\u001b[0;34m()\u001b[0m\n\u001b[1;32m     26\u001b[0m \u001b[0mpath\u001b[0m \u001b[0;34m=\u001b[0m  \u001b[0mnx\u001b[0m\u001b[0;34m.\u001b[0m\u001b[0mdijkstra_path\u001b[0m\u001b[0;34m(\u001b[0m\u001b[0mG\u001b[0m\u001b[0;34m,\u001b[0m \u001b[0mnodes\u001b[0m\u001b[0;34m[\u001b[0m\u001b[0;36m0\u001b[0m\u001b[0;34m]\u001b[0m\u001b[0;34m,\u001b[0m \u001b[0mnodes\u001b[0m\u001b[0;34m[\u001b[0m\u001b[0;36m3\u001b[0m\u001b[0;34m]\u001b[0m\u001b[0;34m)\u001b[0m\u001b[0;34m\u001b[0m\u001b[0;34m\u001b[0m\u001b[0m\n\u001b[1;32m     27\u001b[0m \u001b[0mprint\u001b[0m\u001b[0;34m(\u001b[0m\u001b[0mpath\u001b[0m\u001b[0;34m)\u001b[0m\u001b[0;34m\u001b[0m\u001b[0;34m\u001b[0m\u001b[0m\n\u001b[0;32m---> 28\u001b[0;31m \u001b[0mplot_graph_and_highlight_dijistra\u001b[0m\u001b[0;34m(\u001b[0m\u001b[0mG\u001b[0m\u001b[0;34m,\u001b[0m \u001b[0mpath\u001b[0m\u001b[0;34m)\u001b[0m\u001b[0;34m\u001b[0m\u001b[0;34m\u001b[0m\u001b[0m\n\u001b[0m",
            "\u001b[0;32m<ipython-input-4-4d7a8bf574a9>\u001b[0m in \u001b[0;36mplot_graph_and_highlight_dijistra\u001b[0;34m(G, path)\u001b[0m\n\u001b[1;32m     21\u001b[0m     \u001b[0mnx\u001b[0m\u001b[0;34m.\u001b[0m\u001b[0mdraw\u001b[0m\u001b[0;34m(\u001b[0m\u001b[0mG\u001b[0m\u001b[0;34m,\u001b[0m \u001b[0mpos\u001b[0m\u001b[0;34m,\u001b[0m \u001b[0mwith_labels\u001b[0m \u001b[0;34m=\u001b[0m \u001b[0;32mTrue\u001b[0m\u001b[0;34m)\u001b[0m\u001b[0;34m\u001b[0m\u001b[0;34m\u001b[0m\u001b[0m\n\u001b[1;32m     22\u001b[0m \u001b[0;34m\u001b[0m\u001b[0m\n\u001b[0;32m---> 23\u001b[0;31m     \u001b[0mnx\u001b[0m\u001b[0;34m.\u001b[0m\u001b[0mdraw_networkx_nodes\u001b[0m\u001b[0;34m(\u001b[0m\u001b[0mG\u001b[0m\u001b[0;34m,\u001b[0m \u001b[0mpos\u001b[0m\u001b[0;34m,\u001b[0m \u001b[0mnodelist\u001b[0m\u001b[0;34m=\u001b[0m\u001b[0mpath\u001b[0m\u001b[0;34m,\u001b[0m\u001b[0mnode_color\u001b[0m\u001b[0;34m=\u001b[0m\u001b[0;34m'r'\u001b[0m\u001b[0;34m,\u001b[0m \u001b[0mwith_labels\u001b[0m\u001b[0;34m=\u001b[0m\u001b[0;32mTrue\u001b[0m\u001b[0;34m)\u001b[0m\u001b[0;34m\u001b[0m\u001b[0;34m\u001b[0m\u001b[0m\n\u001b[0m\u001b[1;32m     24\u001b[0m     \u001b[0mpath_edges\u001b[0m \u001b[0;34m=\u001b[0m \u001b[0mlist\u001b[0m\u001b[0;34m(\u001b[0m\u001b[0mzip\u001b[0m\u001b[0;34m(\u001b[0m\u001b[0mpath\u001b[0m\u001b[0;34m,\u001b[0m \u001b[0mpath\u001b[0m\u001b[0;34m[\u001b[0m\u001b[0;36m1\u001b[0m\u001b[0;34m:\u001b[0m\u001b[0;34m]\u001b[0m\u001b[0;34m)\u001b[0m\u001b[0;34m)\u001b[0m\u001b[0;34m\u001b[0m\u001b[0;34m\u001b[0m\u001b[0m\n\u001b[1;32m     25\u001b[0m     \u001b[0mnx\u001b[0m\u001b[0;34m.\u001b[0m\u001b[0mdraw_networkx_edges\u001b[0m\u001b[0;34m(\u001b[0m\u001b[0mG\u001b[0m\u001b[0;34m,\u001b[0m \u001b[0mpos\u001b[0m\u001b[0;34m,\u001b[0m \u001b[0medgelist\u001b[0m\u001b[0;34m=\u001b[0m\u001b[0mpath_edges\u001b[0m\u001b[0;34m,\u001b[0m \u001b[0medge_color\u001b[0m\u001b[0;34m=\u001b[0m\u001b[0;34m'r'\u001b[0m\u001b[0;34m,\u001b[0m \u001b[0mwidth\u001b[0m\u001b[0;34m=\u001b[0m\u001b[0;36m4\u001b[0m\u001b[0;34m)\u001b[0m\u001b[0;34m\u001b[0m\u001b[0;34m\u001b[0m\u001b[0m\n",
            "\u001b[0;31mTypeError\u001b[0m: draw_networkx_nodes() got an unexpected keyword argument 'with_labels'"
          ]
        },
        {
          "output_type": "display_data",
          "data": {
            "image/png": "[encoded data removed]",
            "text/plain": [
              "<Figure size 432x288 with 1 Axes>"
            ]
          },
          "metadata": {
            "tags": []
          }
        }
      ]
    },
    {
      "cell_type": "markdown",
      "metadata": {
        "id": "8uKdG5NbqJB2"
      },
      "source": [
        "---\n",
        "### Exercise: Strongly Connected Components\n",
        "The goal of this exercise is to implement the following algorithm to compute the strongly connected components of a directed graph $G$. [See here](https://www.hackerearth.com/practice/algorithms/graphs/strongly-connected-components/tutorial/). \n",
        "\n",
        "In a directed graph a component is strongly connected if there is a directed path from any vertex to every other vertex of the component. The problem asks to is to partition the graph into maximal strongly connected components.\n",
        "\n",
        "NetworkX provides a method to compute the strongly connected components of a graph [here](https://networkx.github.io/documentation/stable/reference/algorithms/generated/networkx.algorithms.components.strongly_connected_components.html#networkx.algorithms.components.strongly_connected_components). \n",
        "\n",
        "Your goal is to implement the Kosaraju's Linear time algorithm to find Strongly Connected Component. \n",
        "The algorithm is described [here](https://www.hackerearth.com/practice/algorithms/graphs/strongly-connected-components/tutorial).\n",
        "\n",
        "It works in three steps. \n",
        "\n",
        "- Do a DFS on the original graph, keeping track of the DFS finish times of each node. This can be done with a stack, when some  finishes put the source vertex on the stack. This way node with highest finishing time will be on top of the stack.\n",
        "- Reverse the original graph, i.e., if there is an edge $(u,v)$ in the original graph, add the edge $(v,u)$ in the reversed one.\n",
        "-  Do DFS on the reversed graph, with the source vertex as the vertex on top of the stack. When DFS finishes, all nodes visited will form one Strongly Connected Component. If any more nodes remain unvisited, this means there are more Strongly Connected Component's, so pop vertices from top of the stack until a valid unvisited node is found. This will have the highest finishing time of all currently unvisited nodes.\n",
        "\n",
        "Take a look at [DFS traversal documentation](https://networkx.github.io/documentation/stable/reference/algorithms/traversal.html#module-networkx.algorithms.traversal.depth_first_search).\n",
        "Note that the finishing time of a node can be inferred from its position in the DFS tree. \n",
        "\n",
        "\n",
        "\n",
        "![alt text](scc.webp \"Example\")"
      ]
    },
    {
      "cell_type": "code",
      "metadata": {
        "id": "E5IGVMyCiU_C"
      },
      "source": [
        "import random\n",
        "\n",
        "def strongly_connected(G,source = None):\n",
        "  nodes = [node for node in G.nodes]\n",
        "  to_visit = nodes.copy()\n",
        "  visited = []\n",
        "  while to_visit != []:\n",
        "    if source == None:\n",
        "      source = to_visit[random.randint(0,len(to_visit)-1)]\n",
        "    stack = list(nx.dfs_postorder_nodes(G,source))      # keep all the nodes connected to the source in reverse order\n",
        "    for node in stack:\n",
        "      if node not in visited:\n",
        "        visited.append(node)\n",
        "    to_visit = list(set(to_visit) - set(stack))                 # convert to set to use the - operator\n",
        "    source = None\n",
        "\n",
        "  #reverse\n",
        "  components = []                 \n",
        "  RG = nx.reverse(G)\n",
        "  Rvisited = []\n",
        "  while visited != []:\n",
        "    source = visited[-1]  \n",
        "    stack = list(nx.dfs_postorder_nodes(RG,source))  # keep all the nodes connected to the source in reverse order but on the reverse graph\n",
        "    component = set(stack) - set(Rvisited)   \n",
        "    Rvisited.extend(stack)\n",
        "    for node in stack:\n",
        "      if node in visited:\n",
        "        visited.remove(node)\n",
        "    components.append(component)\n",
        "  return components\n",
        "\n"
      ],
      "execution_count": null,
      "outputs": []
    },
    {
      "cell_type": "code",
      "metadata": {
        "colab": {
          "base_uri": "https://localhost:8080/",
          "height": 694
        },
        "id": "U7roV2lVh_6u",
        "outputId": "26c67772-29bf-4720-846b-ddf540481b3c"
      },
      "source": [
        "## Test your implementation here\n",
        "\n",
        "G = nx.DiGraph()\n",
        "G.add_edges_from([('a','b'),('b','c'),('c','a'),('c','d'),('d','e'),('e','f'),('f','d')])\n",
        "G = nx.to_directed(G)\n",
        "plot_graph(G)\n",
        "print(strongly_connected(G))\n",
        "print([node for node in nx.strongly_connected_components(G)])\n",
        "    \n",
        "G = nx.DiGraph()\n",
        "G.add_edges_from([('a','b'),('b','c'),('c','d'),('d','a'),('d','e'),('e','f'),('f','d')])\n",
        "G = nx.to_directed(G)\n",
        "plot_graph(G)\n",
        "print(strongly_connected(G))\n",
        "print([node for node in nx.strongly_connected_components(G)])"
      ],
      "execution_count": null,
      "outputs": [
        {
          "output_type": "display_data",
          "data": {
            "image/png": "[encoded data removed]",
            "text/plain": [
              "<Figure size 432x288 with 1 Axes>"
            ]
          },
          "metadata": {
            "tags": []
          }
        },
        {
          "output_type": "stream",
          "text": [
            "[{'a', 'b', 'c'}, {'d', 'f', 'e'}]\n",
            "[{'d', 'f', 'e'}, {'a', 'b', 'c'}]\n"
          ],
          "name": "stdout"
        },
        {
          "output_type": "display_data",
          "data": {
            "image/png": "[encoded data removed]",
            "text/plain": [
              "<Figure size 432x288 with 1 Axes>"
            ]
          },
          "metadata": {
            "tags": []
          }
        },
        {
          "output_type": "stream",
          "text": [
            "[{'b', 'c', 'd', 'f', 'e', 'a'}]\n",
            "[{'b', 'a', 'd', 'e', 'c', 'f'}]\n"
          ],
          "name": "stdout"
        }
      ]
    },
    {
      "cell_type": "code",
      "metadata": {
        "id": "Hvc7sDYdhw3z"
      },
      "source": [
        ""
      ],
      "execution_count": null,
      "outputs": []
    }
  ]
}