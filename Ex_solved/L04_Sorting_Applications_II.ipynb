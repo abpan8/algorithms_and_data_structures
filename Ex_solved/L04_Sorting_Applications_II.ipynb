{
  "nbformat": 4,
  "nbformat_minor": 0,
  "metadata": {
    "kernelspec": {
      "display_name": "Python 3",
      "language": "python",
      "name": "python3"
    },
    "language_info": {
      "codemirror_mode": {
        "name": "ipython",
        "version": 3
      },
      "file_extension": ".py",
      "mimetype": "text/x-python",
      "name": "python",
      "nbconvert_exporter": "python",
      "pygments_lexer": "ipython3",
      "version": "3.8.5"
    },
    "latex_envs": {
      "LaTeX_envs_menu_present": true,
      "autoclose": false,
      "autocomplete": true,
      "bibliofile": "biblio.bib",
      "cite_by": "apalike",
      "current_citInitial": 1,
      "eqLabelWithNumbers": true,
      "eqNumInitial": 1,
      "hotkeys": {
        "equation": "Ctrl-E",
        "itemize": "Ctrl-I"
      },
      "labels_anchors": false,
      "latex_user_defs": false,
      "report_style_numbering": false,
      "user_envs_cfg": false
    },
    "varInspector": {
      "cols": {
        "lenName": 16,
        "lenType": 16,
        "lenVar": 40
      },
      "kernels_config": {
        "python": {
          "delete_cmd_postfix": "",
          "delete_cmd_prefix": "del ",
          "library": "var_list.py",
          "varRefreshCmd": "print(var_dic_list())"
        },
        "r": {
          "delete_cmd_postfix": ") ",
          "delete_cmd_prefix": "rm(",
          "library": "var_list.r",
          "varRefreshCmd": "cat(var_dic_list()) "
        }
      },
      "types_to_exclude": [
        "module",
        "function",
        "builtin_function_or_method",
        "instance",
        "_Feature"
      ],
      "window_display": false
    },
    "colab": {
      "name": "L04_Sorting_Applications_II_no_sols.ipynb",
      "provenance": [],
      "collapsed_sections": []
    }
  },
  "cells": [
    {
      "cell_type": "markdown",
      "metadata": {
        "id": "hUIftxpf-gWR"
      },
      "source": [
        "## Sorting: Applications\n",
        "\n",
        "----"
      ]
    },
    {
      "cell_type": "code",
      "metadata": {
        "id": "JAh_GHCQ-gWb"
      },
      "source": [
        "## Define some function useful for testing\n",
        "import random\n",
        "\n",
        "## generate an array of n random integers up to b\n",
        "def get_random_array(n, b = 50):\n",
        "    return [random.randint(0, b) for _ in range(n)]"
      ],
      "execution_count": null,
      "outputs": []
    },
    {
      "cell_type": "markdown",
      "metadata": {
        "id": "rN0mA4d4-gWh"
      },
      "source": [
        "## Priority queue in Python \n",
        "\n",
        "A **heap** is managed by using python’s inbuilt library named ```heapq```. This library has the relevant functions to carry out various operations on heap data structure. Below is a list of these functions.\n",
        "\n",
        "- ```heapify``` converts a regular list to a heap.\n",
        "- ```heappush```  adds an element to the heap without altering the current heap.\n",
        "- ```heappop``` returns (and removes) the smallest data element from the heap.\n",
        "\n",
        "A heap is not a Python's object. It's just a normal list.\n",
        "\n",
        "----\n",
        "\n",
        "\n",
        "### Create a Heap"
      ]
    },
    {
      "cell_type": "code",
      "metadata": {
        "id": "xu3Es9_O-gWx",
        "colab": {
          "base_uri": "https://localhost:8080/"
        },
        "outputId": "16648fe3-0e23-494e-ffeb-db2906fb680e"
      },
      "source": [
        "import heapq\n",
        "\n",
        "H = [21,1,45,78,3,5]\n",
        "\n",
        "# Use heapify to rearrange the elements\n",
        "heapq.heapify(H)\n",
        "print(H)"
      ],
      "execution_count": null,
      "outputs": [
        {
          "output_type": "stream",
          "text": [
            "[1, 3, 5, 78, 21, 45]\n"
          ],
          "name": "stdout"
        }
      ]
    },
    {
      "cell_type": "markdown",
      "metadata": {
        "id": "b9SwLfAq-gW5"
      },
      "source": [
        "### Inserting into a Heap"
      ]
    },
    {
      "cell_type": "code",
      "metadata": {
        "id": "Og2vRWB9-gW9",
        "colab": {
          "base_uri": "https://localhost:8080/"
        },
        "outputId": "79cd21b0-bbb5-40f6-f7d4-fc884c999b15"
      },
      "source": [
        "print(H)\n",
        "\n",
        "heapq.heappush(H, 0)\n",
        "\n",
        "print(H)"
      ],
      "execution_count": null,
      "outputs": [
        {
          "output_type": "stream",
          "text": [
            "[1, 3, 5, 78, 21, 45]\n",
            "[0, 3, 1, 78, 21, 45, 5]\n"
          ],
          "name": "stdout"
        }
      ]
    },
    {
      "cell_type": "code",
      "metadata": {
        "id": "SyKPV14g-gXB",
        "colab": {
          "base_uri": "https://localhost:8080/"
        },
        "outputId": "51fce23f-5d5b-4c2e-b576-2ebdc6435def"
      },
      "source": [
        "H[5] = -1\n",
        "print(H)\n",
        "\n",
        "m = heapq.heappop(H)\n",
        "print(m)"
      ],
      "execution_count": null,
      "outputs": [
        {
          "output_type": "stream",
          "text": [
            "[0, 3, 1, 78, 21, -1, 5]\n",
            "0\n"
          ],
          "name": "stdout"
        }
      ]
    },
    {
      "cell_type": "markdown",
      "metadata": {
        "id": "iEZdrMBB-gXG"
      },
      "source": [
        "We could use ```heappush``` to build a heap. However, this is slower as shown by the test below. "
      ]
    },
    {
      "cell_type": "code",
      "metadata": {
        "id": "UUOtlkWT-gXK"
      },
      "source": [
        "def my_heapify(H):\n",
        "    heap = []\n",
        "    for x in H:\n",
        "        heapq.heappush(heap, x)\n",
        "    return heap"
      ],
      "execution_count": null,
      "outputs": []
    },
    {
      "cell_type": "code",
      "metadata": {
        "id": "hb9d3JB2-gXO",
        "colab": {
          "base_uri": "https://localhost:8080/"
        },
        "outputId": "2e6e56fd-880b-4687-9802-0a4fb7b16ec5"
      },
      "source": [
        "a = get_random_array(1000)\n",
        "H = a[:]\n",
        "\n",
        "%timeit heapq.heapify(H)\n",
        "%timeit my_heapify(a)"
      ],
      "execution_count": null,
      "outputs": [
        {
          "output_type": "stream",
          "text": [
            "10000 loops, best of 5: 31.1 µs per loop\n",
            "10000 loops, best of 5: 164 µs per loop\n"
          ],
          "name": "stdout"
        }
      ]
    },
    {
      "cell_type": "markdown",
      "metadata": {
        "id": "0-888VQ2-gXd"
      },
      "source": [
        "### Removing from heap \n",
        "We can remove the smallest element from heap by using ```heappop```."
      ]
    },
    {
      "cell_type": "code",
      "metadata": {
        "id": "_0UP2t_K-gX7",
        "colab": {
          "base_uri": "https://localhost:8080/"
        },
        "outputId": "6639b3d2-1a64-4f4a-d073-75dc3a71661b"
      },
      "source": [
        "H = [21,1,45,78,3,5]\n",
        "\n",
        "# Use heapify to rearrange the elements\n",
        "heapq.heapify(H)\n",
        "\n",
        "\n",
        "print(H)\n",
        "m = heapq.heappop(H)\n",
        "print(m)\n",
        "print(H)"
      ],
      "execution_count": null,
      "outputs": [
        {
          "output_type": "stream",
          "text": [
            "[1, 3, 5, 78, 21, 45]\n",
            "1\n",
            "[3, 21, 5, 78, 45]\n"
          ],
          "name": "stdout"
        }
      ]
    },
    {
      "cell_type": "code",
      "metadata": {
        "id": "g3f5EoFS-gYC",
        "colab": {
          "base_uri": "https://localhost:8080/"
        },
        "outputId": "d9d29653-8f8b-4428-c8d5-f1ead604060f"
      },
      "source": [
        "print(H[0])"
      ],
      "execution_count": null,
      "outputs": [
        {
          "output_type": "stream",
          "text": [
            "3\n"
          ],
          "name": "stdout"
        }
      ]
    },
    {
      "cell_type": "markdown",
      "metadata": {
        "id": "Wv3LbSoy-gYF"
      },
      "source": [
        "### MAX-heap?\n"
      ]
    },
    {
      "cell_type": "code",
      "metadata": {
        "id": "YzBOeU3d-gYG",
        "colab": {
          "base_uri": "https://localhost:8080/"
        },
        "outputId": "4d512048-6180-467d-e47f-6f30f36187e8"
      },
      "source": [
        "import heapq\n",
        "minH = [21,1,45,78,3,5]\n",
        "maxH = minH[:]\n",
        "\n",
        "heapq.heapify(minH)             # for a min heap\n",
        "print(minH)\n",
        "\n",
        "heapq._heapify_max(maxH)        # for a max heap!!\n",
        "print(maxH)"
      ],
      "execution_count": null,
      "outputs": [
        {
          "output_type": "stream",
          "text": [
            "[1, 3, 5, 78, 21, 45]\n",
            "[78, 21, 45, 1, 3, 5]\n"
          ],
          "name": "stdout"
        }
      ]
    },
    {
      "cell_type": "markdown",
      "metadata": {
        "id": "W4KC1DDT-gYJ"
      },
      "source": [
        "If you then want to pop elements, use the following."
      ]
    },
    {
      "cell_type": "code",
      "metadata": {
        "id": "9QMo1Yri-gYN",
        "colab": {
          "base_uri": "https://localhost:8080/"
        },
        "outputId": "7a4a12ae-708d-4cdd-dfa3-67126be941e4"
      },
      "source": [
        "m = heapq.heappop(minH)      # pop from minheap\n",
        "print(m)\n",
        "\n",
        "m = heapq._heappop_max(maxH) # pop from maxheap\n",
        "print(m)"
      ],
      "execution_count": null,
      "outputs": [
        {
          "output_type": "stream",
          "text": [
            "1\n",
            "78\n"
          ],
          "name": "stdout"
        }
      ]
    },
    {
      "cell_type": "markdown",
      "metadata": {
        "id": "uQVYP6m7-gYV"
      },
      "source": [
        "----\n",
        "\n",
        "### Exercise: K-largest elements of a array\n",
        "\n",
        "We want to compute the K-largest elements of a array A. \n",
        "\n",
        "There are three possible algorithms to solve this problem:\n",
        "\n",
        "\n",
        "#### Algorithm 1: Sorting\n",
        "The easiest way to solve this is by sorting the array in decreasing order and reporting the first K elements. \n",
        "\n",
        "This algorithm costs $\\Theta(n\\log n)$ time. \n",
        "\n",
        "Implement this algorithm in a function ```k_largest_sort(A, K)```and test its correctness.\n",
        "\n",
        "#### Algorithm 2: QuickSelect\n",
        "Implement the QuickSelect algorithm and use it to find the K-largest element E in the array A. Then, scan A again \n",
        "to collect the K elements larger than or equal to E. Finally, sort the collected elements.\n",
        "\n",
        "This algorithm costs $\\Theta(n + K\\log K)$ time (in expectation). \n",
        "\n",
        "Implement this algorithm in a function ```k_largest_quickselect(A, K)```and test its correctness.\n",
        "\n",
        "\n",
        "#### Algorithm 3: Heap\n",
        "You have to implement the following faster algorithm as a function ```k_largest(A,K)```.\n",
        "- Scan the array from left to right and keep a min-heap. The min-heap will contain at most K elements.\n",
        "- Insert the current element into the heap, if the heap has less than K elements or the current element is larger than the minimum in the heap. If the heap has more than K elements, remove the minimum. \n",
        "- Sort the collected elements.\n",
        "\n",
        "This algorithm runs in $\\Theta(n\\log K)$ time.\n",
        "\n",
        "Implement this algorithm in a function ```k_largest_heap(A, K)```and test its correctness.\n",
        "\n",
        "\n",
        "**Compare the three solutions by varying the size of the array and the value K. Which one is the fastest?**"
      ]
    },
    {
      "cell_type": "code",
      "metadata": {
        "id": "onSdoHqZsdoo",
        "colab": {
          "base_uri": "https://localhost:8080/"
        },
        "outputId": "50820c62-90ae-4dbf-d50e-f87e383476d3"
      },
      "source": [
        "def k_largest_sort(A,K):\n",
        "  # insertion sort\n",
        "  for i in range(1,len(A)):\n",
        "    key = A[i]\n",
        "    j = i-1\n",
        "    while j >= 0 and A[j] < key:\n",
        "      A[j+1] = A[j]\n",
        "      j -= 1\n",
        "    A[j+1] = key\n",
        "  return A[:K]\n",
        "\n",
        "print(\"sorting:\", k_largest_sort([9,8,7,6,5,4,3,2,1],4))"
      ],
      "execution_count": null,
      "outputs": [
        {
          "output_type": "stream",
          "text": [
            "sorting: [9, 8, 7, 6]\n"
          ],
          "name": "stdout"
        }
      ]
    },
    {
      "cell_type": "code",
      "metadata": {
        "colab": {
          "base_uri": "https://localhost:8080/"
        },
        "id": "t0s876L5-gYW",
        "outputId": "8b2639f1-ffde-45d8-bd9c-76a0b572d9db"
      },
      "source": [
        "## Your implementations goes here\n",
        "\n",
        "#def partition(A,low,high):\n",
        "#  pivot = A[high]                              \n",
        "#  i = low\n",
        "\n",
        "#  for j in range(low,high):             # put on the left side of the pivot all the smaller values and put on the right side the larger values (increasing order)\n",
        "#    if A[j] <= pivot:\n",
        "#      A[i],A[j] = A[j],A[i]\n",
        "#      i += 1\n",
        "    \n",
        "#  A[i],A[high] = A[high],A[i]\n",
        "#  return i                        # return the pivot index position\n",
        "\n",
        "#def select(A, left, right, k):           # recursive call of the select function until k is equal to the ind_pivot\n",
        "#  x  = random.randint(left, right)\n",
        "#  A[right], A[x] = A[x], A[right]\n",
        "#  ind_pivot  = partition(A, left, right)         \n",
        "#  if k == ind_pivot:\n",
        "#    return A[k]        # return the first k-largest element E\n",
        "#  elif k < ind_pivot:\n",
        "#    return select(A,left, ind_pivot - 1, k)\n",
        "#  else:\n",
        " #   return select(A,ind_pivot + 1, right, k)\n",
        "\n",
        "    \n",
        "#def k_largest_quickselect(A,K):                             # in this way i keep the largest element E of the arrey and i put in new the elemnts larger than this as the delivery asks, but there is no way to necessarily have k elements, i didn't understand the delivery.\n",
        "#  if K > len(A):\n",
        "#    return \"Error\"\n",
        "#  E = select(A, 0, len(A)-1, K)\n",
        "#  new = []\n",
        "#  for i in A:\n",
        "#    if i >= E:\n",
        "#      new.append(i)\n",
        "#  return sorted(new, reverse = True)\n",
        "\n",
        "\n",
        "\n",
        "def partition(A,low,high):\n",
        "  pivot = A[high]                              \n",
        "  i = low\n",
        "\n",
        "  for j in range(low,high):             # put on the right side of the pivot all the smaller values and put on the right side the larger values (decreasing order)\n",
        "    if A[j] >= pivot:\n",
        "      A[i],A[j] = A[j],A[i]\n",
        "      i += 1\n",
        "    \n",
        "  A[i],A[high] = A[high],A[i]\n",
        "  return i        \n",
        "\n",
        "def select(A, left, right, k):          # this works but it is not as I have interpreted the question, however it does what the other two functions that then I will go to compare do\n",
        "    x  = random.randint(left, right)\n",
        "    A[right], A[x] = A[x], A[right]\n",
        "    ind_pivot  = partition(A, left, right)\n",
        "    if k == ind_pivot:\n",
        "        return sorted(A[:k], reverse=True)   \n",
        "    elif k < ind_pivot:\n",
        "        return select(A, left, ind_pivot - 1, k)\n",
        "    else:\n",
        "        return select(A, ind_pivot + 1, right, k) \n",
        "    \n",
        "def k_largest_quickselect(a,k):\n",
        "    if k > len(a):\n",
        "        return \"Error\"\n",
        "    return select(a, 0, len(a)-1, k)\n",
        "\n",
        "\n",
        "\n",
        "\n",
        "      \n",
        "print(\"quickselect:\", k_largest_quickselect([9,8,7,6,5,4,1],4))"
      ],
      "execution_count": null,
      "outputs": [
        {
          "output_type": "stream",
          "text": [
            "quickselect: [9, 8, 7, 6]\n"
          ],
          "name": "stdout"
        }
      ]
    },
    {
      "cell_type": "code",
      "metadata": {
        "id": "8uUWW8rMs-FW",
        "colab": {
          "base_uri": "https://localhost:8080/"
        },
        "outputId": "c6b3af92-8eca-449f-ca20-11a4b774ded1"
      },
      "source": [
        "def k_largest_heap(A,K):\n",
        "    x = A[:K]             \n",
        "    heapq.heapify(x)\n",
        "    for i in range (K,len(A)):               # check the remaining part of A and if A[i] is larger than the root of the heap, then delete the root (x[0]) and add A[i] as root using push\n",
        "        if A[i] > x[0]:\n",
        "            heapq.heappop(x)\n",
        "            heapq.heappush(x, A[i])\n",
        "    return sorted(x, reverse=True)\n",
        "\n",
        "print(k_largest_heap([9,8,7,6,5,4,1,12],4))"
      ],
      "execution_count": null,
      "outputs": [
        {
          "output_type": "stream",
          "text": [
            "[12, 9, 8, 7]\n"
          ],
          "name": "stdout"
        }
      ]
    },
    {
      "cell_type": "code",
      "metadata": {
        "id": "DGiMZDop-gYX"
      },
      "source": [
        "## test your implementation\n",
        "a = get_random_array(1000, 10000)\n",
        "\n",
        "assert sorted(k_largest_sort(a, 10)) == sorted(a)[-10:], \"FAIL!\"  \n",
        "assert sorted(k_largest_quickselect(a, 10)) == sorted(a)[-10:], \"FAIL!\"  \n",
        "assert sorted(k_largest_heap(a, 10)) == sorted(a)[-10:], \"FAIL!\"  "
      ],
      "execution_count": null,
      "outputs": []
    },
    {
      "cell_type": "code",
      "metadata": {
        "id": "s92i-zSM-gYZ",
        "colab": {
          "base_uri": "https://localhost:8080/",
          "height": 472
        },
        "outputId": "5fe8a10c-1cc4-40e0-9f6a-88444e58247a"
      },
      "source": [
        "a = get_random_array(50000, 100)\n",
        "K = 10\n",
        "\n",
        "%timeit k_largest_sort(a, K)\n",
        "%timeit k_largest_quickselect(a, K)\n",
        "%timeit k_largest_heap(a, K)"
      ],
      "execution_count": null,
      "outputs": [
        {
          "output_type": "error",
          "ename": "KeyboardInterrupt",
          "evalue": "ignored",
          "traceback": [
            "\u001b[0;31m---------------------------------------------------------------------------\u001b[0m",
            "\u001b[0;31mKeyboardInterrupt\u001b[0m                         Traceback (most recent call last)",
            "\u001b[0;32m<ipython-input-138-47af62f05964>\u001b[0m in \u001b[0;36m<module>\u001b[0;34m()\u001b[0m\n\u001b[1;32m      2\u001b[0m \u001b[0mK\u001b[0m \u001b[0;34m=\u001b[0m \u001b[0;36m10\u001b[0m\u001b[0;34m\u001b[0m\u001b[0;34m\u001b[0m\u001b[0m\n\u001b[1;32m      3\u001b[0m \u001b[0;34m\u001b[0m\u001b[0m\n\u001b[0;32m----> 4\u001b[0;31m \u001b[0mget_ipython\u001b[0m\u001b[0;34m(\u001b[0m\u001b[0;34m)\u001b[0m\u001b[0;34m.\u001b[0m\u001b[0mmagic\u001b[0m\u001b[0;34m(\u001b[0m\u001b[0;34m'timeit k_largest_sort(a, K)'\u001b[0m\u001b[0;34m)\u001b[0m\u001b[0;34m\u001b[0m\u001b[0;34m\u001b[0m\u001b[0m\n\u001b[0m\u001b[1;32m      5\u001b[0m \u001b[0mget_ipython\u001b[0m\u001b[0;34m(\u001b[0m\u001b[0;34m)\u001b[0m\u001b[0;34m.\u001b[0m\u001b[0mmagic\u001b[0m\u001b[0;34m(\u001b[0m\u001b[0;34m'timeit k_largest_quickselect(a, K)'\u001b[0m\u001b[0;34m)\u001b[0m\u001b[0;34m\u001b[0m\u001b[0;34m\u001b[0m\u001b[0m\n\u001b[1;32m      6\u001b[0m \u001b[0mget_ipython\u001b[0m\u001b[0;34m(\u001b[0m\u001b[0;34m)\u001b[0m\u001b[0;34m.\u001b[0m\u001b[0mmagic\u001b[0m\u001b[0;34m(\u001b[0m\u001b[0;34m'timeit k_largest_heap(a, K)'\u001b[0m\u001b[0;34m)\u001b[0m\u001b[0;34m\u001b[0m\u001b[0;34m\u001b[0m\u001b[0m\n",
            "\u001b[0;32m/usr/local/lib/python3.7/dist-packages/IPython/core/interactiveshell.py\u001b[0m in \u001b[0;36mmagic\u001b[0;34m(self, arg_s)\u001b[0m\n\u001b[1;32m   2158\u001b[0m         \u001b[0mmagic_name\u001b[0m\u001b[0;34m,\u001b[0m \u001b[0m_\u001b[0m\u001b[0;34m,\u001b[0m \u001b[0mmagic_arg_s\u001b[0m \u001b[0;34m=\u001b[0m \u001b[0marg_s\u001b[0m\u001b[0;34m.\u001b[0m\u001b[0mpartition\u001b[0m\u001b[0;34m(\u001b[0m\u001b[0;34m' '\u001b[0m\u001b[0;34m)\u001b[0m\u001b[0;34m\u001b[0m\u001b[0;34m\u001b[0m\u001b[0m\n\u001b[1;32m   2159\u001b[0m         \u001b[0mmagic_name\u001b[0m \u001b[0;34m=\u001b[0m \u001b[0mmagic_name\u001b[0m\u001b[0;34m.\u001b[0m\u001b[0mlstrip\u001b[0m\u001b[0;34m(\u001b[0m\u001b[0mprefilter\u001b[0m\u001b[0;34m.\u001b[0m\u001b[0mESC_MAGIC\u001b[0m\u001b[0;34m)\u001b[0m\u001b[0;34m\u001b[0m\u001b[0;34m\u001b[0m\u001b[0m\n\u001b[0;32m-> 2160\u001b[0;31m         \u001b[0;32mreturn\u001b[0m \u001b[0mself\u001b[0m\u001b[0;34m.\u001b[0m\u001b[0mrun_line_magic\u001b[0m\u001b[0;34m(\u001b[0m\u001b[0mmagic_name\u001b[0m\u001b[0;34m,\u001b[0m \u001b[0mmagic_arg_s\u001b[0m\u001b[0;34m)\u001b[0m\u001b[0;34m\u001b[0m\u001b[0;34m\u001b[0m\u001b[0m\n\u001b[0m\u001b[1;32m   2161\u001b[0m \u001b[0;34m\u001b[0m\u001b[0m\n\u001b[1;32m   2162\u001b[0m     \u001b[0;31m#-------------------------------------------------------------------------\u001b[0m\u001b[0;34m\u001b[0m\u001b[0;34m\u001b[0m\u001b[0;34m\u001b[0m\u001b[0m\n",
            "\u001b[0;32m/usr/local/lib/python3.7/dist-packages/IPython/core/interactiveshell.py\u001b[0m in \u001b[0;36mrun_line_magic\u001b[0;34m(self, magic_name, line)\u001b[0m\n\u001b[1;32m   2079\u001b[0m                 \u001b[0mkwargs\u001b[0m\u001b[0;34m[\u001b[0m\u001b[0;34m'local_ns'\u001b[0m\u001b[0;34m]\u001b[0m \u001b[0;34m=\u001b[0m \u001b[0msys\u001b[0m\u001b[0;34m.\u001b[0m\u001b[0m_getframe\u001b[0m\u001b[0;34m(\u001b[0m\u001b[0mstack_depth\u001b[0m\u001b[0;34m)\u001b[0m\u001b[0;34m.\u001b[0m\u001b[0mf_locals\u001b[0m\u001b[0;34m\u001b[0m\u001b[0;34m\u001b[0m\u001b[0m\n\u001b[1;32m   2080\u001b[0m             \u001b[0;32mwith\u001b[0m \u001b[0mself\u001b[0m\u001b[0;34m.\u001b[0m\u001b[0mbuiltin_trap\u001b[0m\u001b[0;34m:\u001b[0m\u001b[0;34m\u001b[0m\u001b[0;34m\u001b[0m\u001b[0m\n\u001b[0;32m-> 2081\u001b[0;31m                 \u001b[0mresult\u001b[0m \u001b[0;34m=\u001b[0m \u001b[0mfn\u001b[0m\u001b[0;34m(\u001b[0m\u001b[0;34m*\u001b[0m\u001b[0margs\u001b[0m\u001b[0;34m,\u001b[0m\u001b[0;34m**\u001b[0m\u001b[0mkwargs\u001b[0m\u001b[0;34m)\u001b[0m\u001b[0;34m\u001b[0m\u001b[0;34m\u001b[0m\u001b[0m\n\u001b[0m\u001b[1;32m   2082\u001b[0m             \u001b[0;32mreturn\u001b[0m \u001b[0mresult\u001b[0m\u001b[0;34m\u001b[0m\u001b[0;34m\u001b[0m\u001b[0m\n\u001b[1;32m   2083\u001b[0m \u001b[0;34m\u001b[0m\u001b[0m\n",
            "\u001b[0;32m<decorator-gen-52>\u001b[0m in \u001b[0;36mtimeit\u001b[0;34m(self, line, cell)\u001b[0m\n",
            "\u001b[0;32m/usr/local/lib/python3.7/dist-packages/IPython/core/magic.py\u001b[0m in \u001b[0;36m<lambda>\u001b[0;34m(f, *a, **k)\u001b[0m\n\u001b[1;32m    186\u001b[0m     \u001b[0;31m# but it's overkill for just that one bit of state.\u001b[0m\u001b[0;34m\u001b[0m\u001b[0;34m\u001b[0m\u001b[0;34m\u001b[0m\u001b[0m\n\u001b[1;32m    187\u001b[0m     \u001b[0;32mdef\u001b[0m \u001b[0mmagic_deco\u001b[0m\u001b[0;34m(\u001b[0m\u001b[0marg\u001b[0m\u001b[0;34m)\u001b[0m\u001b[0;34m:\u001b[0m\u001b[0;34m\u001b[0m\u001b[0;34m\u001b[0m\u001b[0m\n\u001b[0;32m--> 188\u001b[0;31m         \u001b[0mcall\u001b[0m \u001b[0;34m=\u001b[0m \u001b[0;32mlambda\u001b[0m \u001b[0mf\u001b[0m\u001b[0;34m,\u001b[0m \u001b[0;34m*\u001b[0m\u001b[0ma\u001b[0m\u001b[0;34m,\u001b[0m \u001b[0;34m**\u001b[0m\u001b[0mk\u001b[0m\u001b[0;34m:\u001b[0m \u001b[0mf\u001b[0m\u001b[0;34m(\u001b[0m\u001b[0;34m*\u001b[0m\u001b[0ma\u001b[0m\u001b[0;34m,\u001b[0m \u001b[0;34m**\u001b[0m\u001b[0mk\u001b[0m\u001b[0;34m)\u001b[0m\u001b[0;34m\u001b[0m\u001b[0;34m\u001b[0m\u001b[0m\n\u001b[0m\u001b[1;32m    189\u001b[0m \u001b[0;34m\u001b[0m\u001b[0m\n\u001b[1;32m    190\u001b[0m         \u001b[0;32mif\u001b[0m \u001b[0mcallable\u001b[0m\u001b[0;34m(\u001b[0m\u001b[0marg\u001b[0m\u001b[0;34m)\u001b[0m\u001b[0;34m:\u001b[0m\u001b[0;34m\u001b[0m\u001b[0;34m\u001b[0m\u001b[0m\n",
            "\u001b[0;32m/usr/local/lib/python3.7/dist-packages/IPython/core/magics/execution.py\u001b[0m in \u001b[0;36mtimeit\u001b[0;34m(self, line, cell)\u001b[0m\n\u001b[1;32m   1055\u001b[0m             \u001b[0mnumber\u001b[0m \u001b[0;34m=\u001b[0m \u001b[0;36m1\u001b[0m\u001b[0;34m\u001b[0m\u001b[0;34m\u001b[0m\u001b[0m\n\u001b[1;32m   1056\u001b[0m             \u001b[0;32mfor\u001b[0m \u001b[0m_\u001b[0m \u001b[0;32min\u001b[0m \u001b[0mrange\u001b[0m\u001b[0;34m(\u001b[0m\u001b[0;36m1\u001b[0m\u001b[0;34m,\u001b[0m \u001b[0;36m10\u001b[0m\u001b[0;34m)\u001b[0m\u001b[0;34m:\u001b[0m\u001b[0;34m\u001b[0m\u001b[0;34m\u001b[0m\u001b[0m\n\u001b[0;32m-> 1057\u001b[0;31m                 \u001b[0mtime_number\u001b[0m \u001b[0;34m=\u001b[0m \u001b[0mtimer\u001b[0m\u001b[0;34m.\u001b[0m\u001b[0mtimeit\u001b[0m\u001b[0;34m(\u001b[0m\u001b[0mnumber\u001b[0m\u001b[0;34m)\u001b[0m\u001b[0;34m\u001b[0m\u001b[0;34m\u001b[0m\u001b[0m\n\u001b[0m\u001b[1;32m   1058\u001b[0m                 \u001b[0mworst_tuning\u001b[0m \u001b[0;34m=\u001b[0m \u001b[0mmax\u001b[0m\u001b[0;34m(\u001b[0m\u001b[0mworst_tuning\u001b[0m\u001b[0;34m,\u001b[0m \u001b[0mtime_number\u001b[0m \u001b[0;34m/\u001b[0m \u001b[0mnumber\u001b[0m\u001b[0;34m)\u001b[0m\u001b[0;34m\u001b[0m\u001b[0;34m\u001b[0m\u001b[0m\n\u001b[1;32m   1059\u001b[0m                 \u001b[0;32mif\u001b[0m \u001b[0mtime_number\u001b[0m \u001b[0;34m>=\u001b[0m \u001b[0;36m0.2\u001b[0m\u001b[0;34m:\u001b[0m\u001b[0;34m\u001b[0m\u001b[0;34m\u001b[0m\u001b[0m\n",
            "\u001b[0;32m/usr/local/lib/python3.7/dist-packages/IPython/core/magics/execution.py\u001b[0m in \u001b[0;36mtimeit\u001b[0;34m(self, number)\u001b[0m\n\u001b[1;32m    137\u001b[0m         \u001b[0mgc\u001b[0m\u001b[0;34m.\u001b[0m\u001b[0mdisable\u001b[0m\u001b[0;34m(\u001b[0m\u001b[0;34m)\u001b[0m\u001b[0;34m\u001b[0m\u001b[0;34m\u001b[0m\u001b[0m\n\u001b[1;32m    138\u001b[0m         \u001b[0;32mtry\u001b[0m\u001b[0;34m:\u001b[0m\u001b[0;34m\u001b[0m\u001b[0;34m\u001b[0m\u001b[0m\n\u001b[0;32m--> 139\u001b[0;31m             \u001b[0mtiming\u001b[0m \u001b[0;34m=\u001b[0m \u001b[0mself\u001b[0m\u001b[0;34m.\u001b[0m\u001b[0minner\u001b[0m\u001b[0;34m(\u001b[0m\u001b[0mit\u001b[0m\u001b[0;34m,\u001b[0m \u001b[0mself\u001b[0m\u001b[0;34m.\u001b[0m\u001b[0mtimer\u001b[0m\u001b[0;34m)\u001b[0m\u001b[0;34m\u001b[0m\u001b[0;34m\u001b[0m\u001b[0m\n\u001b[0m\u001b[1;32m    140\u001b[0m         \u001b[0;32mfinally\u001b[0m\u001b[0;34m:\u001b[0m\u001b[0;34m\u001b[0m\u001b[0;34m\u001b[0m\u001b[0m\n\u001b[1;32m    141\u001b[0m             \u001b[0;32mif\u001b[0m \u001b[0mgcold\u001b[0m\u001b[0;34m:\u001b[0m\u001b[0;34m\u001b[0m\u001b[0;34m\u001b[0m\u001b[0m\n",
            "\u001b[0;32m<magic-timeit>\u001b[0m in \u001b[0;36minner\u001b[0;34m(_it, _timer)\u001b[0m\n",
            "\u001b[0;32m<ipython-input-132-c71c1cc5e4ab>\u001b[0m in \u001b[0;36mk_largest_sort\u001b[0;34m(A, K)\u001b[0m\n\u001b[1;32m      5\u001b[0m     \u001b[0mj\u001b[0m \u001b[0;34m=\u001b[0m \u001b[0mi\u001b[0m\u001b[0;34m-\u001b[0m\u001b[0;36m1\u001b[0m\u001b[0;34m\u001b[0m\u001b[0;34m\u001b[0m\u001b[0m\n\u001b[1;32m      6\u001b[0m     \u001b[0;32mwhile\u001b[0m \u001b[0mj\u001b[0m \u001b[0;34m>=\u001b[0m \u001b[0;36m0\u001b[0m \u001b[0;32mand\u001b[0m \u001b[0mA\u001b[0m\u001b[0;34m[\u001b[0m\u001b[0mj\u001b[0m\u001b[0;34m]\u001b[0m \u001b[0;34m<\u001b[0m \u001b[0mkey\u001b[0m\u001b[0;34m:\u001b[0m\u001b[0;34m\u001b[0m\u001b[0;34m\u001b[0m\u001b[0m\n\u001b[0;32m----> 7\u001b[0;31m       \u001b[0mA\u001b[0m\u001b[0;34m[\u001b[0m\u001b[0mj\u001b[0m\u001b[0;34m+\u001b[0m\u001b[0;36m1\u001b[0m\u001b[0;34m]\u001b[0m \u001b[0;34m=\u001b[0m \u001b[0mA\u001b[0m\u001b[0;34m[\u001b[0m\u001b[0mj\u001b[0m\u001b[0;34m]\u001b[0m\u001b[0;34m\u001b[0m\u001b[0;34m\u001b[0m\u001b[0m\n\u001b[0m\u001b[1;32m      8\u001b[0m       \u001b[0mj\u001b[0m \u001b[0;34m-=\u001b[0m \u001b[0;36m1\u001b[0m\u001b[0;34m\u001b[0m\u001b[0;34m\u001b[0m\u001b[0m\n\u001b[1;32m      9\u001b[0m     \u001b[0mA\u001b[0m\u001b[0;34m[\u001b[0m\u001b[0mj\u001b[0m\u001b[0;34m+\u001b[0m\u001b[0;36m1\u001b[0m\u001b[0;34m]\u001b[0m \u001b[0;34m=\u001b[0m \u001b[0mkey\u001b[0m\u001b[0;34m\u001b[0m\u001b[0;34m\u001b[0m\u001b[0m\n",
            "\u001b[0;31mKeyboardInterrupt\u001b[0m: "
          ]
        }
      ]
    },
    {
      "cell_type": "markdown",
      "metadata": {
        "id": "P-FU1F1p-gYa"
      },
      "source": [
        "---\n",
        "\n",
        "### Exercise: compute distinct elements\n",
        "You are given a list A of elements and you want to obtain the list of distict elements in A.\n",
        "\n",
        "There are two possible algorithms to do this:\n",
        "\n",
        "- Use ```list(set(A))```\n",
        "- Sort A and then scan. Implement this as a function ```distinct(A)``` \n",
        "\n",
        "Compare these two approaches by varying the size of the array and the number of distinct elements."
      ]
    },
    {
      "cell_type": "code",
      "metadata": {
        "id": "p7EC6awB-gYe"
      },
      "source": [
        "## Your implementation goes here\n",
        "def distinct(A):\n",
        "  #selection sort\n",
        "  for i in range(len(A)):\n",
        "    ind = i\n",
        "    for j in range(i+1,len(A)):\n",
        "      if A[j] < A[ind]:\n",
        "        ind = j\n",
        "    A[ind],A[i] = A[i],A[ind]\n",
        "  new = [A[0]]\n",
        "  for i in range(1,len(A)):               # select the distinct element and put them in new\n",
        "    if A[i] != A[i-1]:\n",
        "      new.append(A[i])\n",
        "  return new"
      ],
      "execution_count": null,
      "outputs": []
    },
    {
      "cell_type": "code",
      "metadata": {
        "id": "jxqu8AEn-gYh"
      },
      "source": [
        "## test your implementation\n",
        "a = get_random_array(1000)\n",
        "\n",
        "assert distinct(a) == sorted(list(set(a))), \"FAIL!\""
      ],
      "execution_count": null,
      "outputs": []
    },
    {
      "cell_type": "markdown",
      "metadata": {
        "id": "nYyfTMmk-gYj"
      },
      "source": [
        "## What's the fastest approach?"
      ]
    },
    {
      "cell_type": "code",
      "metadata": {
        "id": "5kiAFZVQ-gYj",
        "colab": {
          "base_uri": "https://localhost:8080/",
          "height": 453
        },
        "outputId": "44784888-2e6e-49b6-a4e8-88250acbb96d"
      },
      "source": [
        "a = get_random_array(10000, 10)\n",
        "\n",
        "%timeit list(set(a))\n",
        "%timeit distinct(a)"
      ],
      "execution_count": null,
      "outputs": [
        {
          "output_type": "error",
          "ename": "KeyboardInterrupt",
          "evalue": "ignored",
          "traceback": [
            "\u001b[0;31m---------------------------------------------------------------------------\u001b[0m",
            "\u001b[0;31mKeyboardInterrupt\u001b[0m                         Traceback (most recent call last)",
            "\u001b[0;32m<ipython-input-141-43bc6d6959f3>\u001b[0m in \u001b[0;36m<module>\u001b[0;34m()\u001b[0m\n\u001b[1;32m      1\u001b[0m \u001b[0ma\u001b[0m \u001b[0;34m=\u001b[0m \u001b[0mget_random_array\u001b[0m\u001b[0;34m(\u001b[0m\u001b[0;36m10000\u001b[0m\u001b[0;34m,\u001b[0m \u001b[0;36m10\u001b[0m\u001b[0;34m)\u001b[0m\u001b[0;34m\u001b[0m\u001b[0;34m\u001b[0m\u001b[0m\n\u001b[1;32m      2\u001b[0m \u001b[0;34m\u001b[0m\u001b[0m\n\u001b[0;32m----> 3\u001b[0;31m \u001b[0mget_ipython\u001b[0m\u001b[0;34m(\u001b[0m\u001b[0;34m)\u001b[0m\u001b[0;34m.\u001b[0m\u001b[0mmagic\u001b[0m\u001b[0;34m(\u001b[0m\u001b[0;34m'timeit list(set(a))'\u001b[0m\u001b[0;34m)\u001b[0m\u001b[0;34m\u001b[0m\u001b[0;34m\u001b[0m\u001b[0m\n\u001b[0m\u001b[1;32m      4\u001b[0m \u001b[0mget_ipython\u001b[0m\u001b[0;34m(\u001b[0m\u001b[0;34m)\u001b[0m\u001b[0;34m.\u001b[0m\u001b[0mmagic\u001b[0m\u001b[0;34m(\u001b[0m\u001b[0;34m'timeit distinct(a)'\u001b[0m\u001b[0;34m)\u001b[0m\u001b[0;34m\u001b[0m\u001b[0;34m\u001b[0m\u001b[0m\n",
            "\u001b[0;32m/usr/local/lib/python3.7/dist-packages/IPython/core/interactiveshell.py\u001b[0m in \u001b[0;36mmagic\u001b[0;34m(self, arg_s)\u001b[0m\n\u001b[1;32m   2158\u001b[0m         \u001b[0mmagic_name\u001b[0m\u001b[0;34m,\u001b[0m \u001b[0m_\u001b[0m\u001b[0;34m,\u001b[0m \u001b[0mmagic_arg_s\u001b[0m \u001b[0;34m=\u001b[0m \u001b[0marg_s\u001b[0m\u001b[0;34m.\u001b[0m\u001b[0mpartition\u001b[0m\u001b[0;34m(\u001b[0m\u001b[0;34m' '\u001b[0m\u001b[0;34m)\u001b[0m\u001b[0;34m\u001b[0m\u001b[0;34m\u001b[0m\u001b[0m\n\u001b[1;32m   2159\u001b[0m         \u001b[0mmagic_name\u001b[0m \u001b[0;34m=\u001b[0m \u001b[0mmagic_name\u001b[0m\u001b[0;34m.\u001b[0m\u001b[0mlstrip\u001b[0m\u001b[0;34m(\u001b[0m\u001b[0mprefilter\u001b[0m\u001b[0;34m.\u001b[0m\u001b[0mESC_MAGIC\u001b[0m\u001b[0;34m)\u001b[0m\u001b[0;34m\u001b[0m\u001b[0;34m\u001b[0m\u001b[0m\n\u001b[0;32m-> 2160\u001b[0;31m         \u001b[0;32mreturn\u001b[0m \u001b[0mself\u001b[0m\u001b[0;34m.\u001b[0m\u001b[0mrun_line_magic\u001b[0m\u001b[0;34m(\u001b[0m\u001b[0mmagic_name\u001b[0m\u001b[0;34m,\u001b[0m \u001b[0mmagic_arg_s\u001b[0m\u001b[0;34m)\u001b[0m\u001b[0;34m\u001b[0m\u001b[0;34m\u001b[0m\u001b[0m\n\u001b[0m\u001b[1;32m   2161\u001b[0m \u001b[0;34m\u001b[0m\u001b[0m\n\u001b[1;32m   2162\u001b[0m     \u001b[0;31m#-------------------------------------------------------------------------\u001b[0m\u001b[0;34m\u001b[0m\u001b[0;34m\u001b[0m\u001b[0;34m\u001b[0m\u001b[0m\n",
            "\u001b[0;32m/usr/local/lib/python3.7/dist-packages/IPython/core/interactiveshell.py\u001b[0m in \u001b[0;36mrun_line_magic\u001b[0;34m(self, magic_name, line)\u001b[0m\n\u001b[1;32m   2079\u001b[0m                 \u001b[0mkwargs\u001b[0m\u001b[0;34m[\u001b[0m\u001b[0;34m'local_ns'\u001b[0m\u001b[0;34m]\u001b[0m \u001b[0;34m=\u001b[0m \u001b[0msys\u001b[0m\u001b[0;34m.\u001b[0m\u001b[0m_getframe\u001b[0m\u001b[0;34m(\u001b[0m\u001b[0mstack_depth\u001b[0m\u001b[0;34m)\u001b[0m\u001b[0;34m.\u001b[0m\u001b[0mf_locals\u001b[0m\u001b[0;34m\u001b[0m\u001b[0;34m\u001b[0m\u001b[0m\n\u001b[1;32m   2080\u001b[0m             \u001b[0;32mwith\u001b[0m \u001b[0mself\u001b[0m\u001b[0;34m.\u001b[0m\u001b[0mbuiltin_trap\u001b[0m\u001b[0;34m:\u001b[0m\u001b[0;34m\u001b[0m\u001b[0;34m\u001b[0m\u001b[0m\n\u001b[0;32m-> 2081\u001b[0;31m                 \u001b[0mresult\u001b[0m \u001b[0;34m=\u001b[0m \u001b[0mfn\u001b[0m\u001b[0;34m(\u001b[0m\u001b[0;34m*\u001b[0m\u001b[0margs\u001b[0m\u001b[0;34m,\u001b[0m\u001b[0;34m**\u001b[0m\u001b[0mkwargs\u001b[0m\u001b[0;34m)\u001b[0m\u001b[0;34m\u001b[0m\u001b[0;34m\u001b[0m\u001b[0m\n\u001b[0m\u001b[1;32m   2082\u001b[0m             \u001b[0;32mreturn\u001b[0m \u001b[0mresult\u001b[0m\u001b[0;34m\u001b[0m\u001b[0;34m\u001b[0m\u001b[0m\n\u001b[1;32m   2083\u001b[0m \u001b[0;34m\u001b[0m\u001b[0m\n",
            "\u001b[0;32m<decorator-gen-52>\u001b[0m in \u001b[0;36mtimeit\u001b[0;34m(self, line, cell)\u001b[0m\n",
            "\u001b[0;32m/usr/local/lib/python3.7/dist-packages/IPython/core/magic.py\u001b[0m in \u001b[0;36m<lambda>\u001b[0;34m(f, *a, **k)\u001b[0m\n\u001b[1;32m    186\u001b[0m     \u001b[0;31m# but it's overkill for just that one bit of state.\u001b[0m\u001b[0;34m\u001b[0m\u001b[0;34m\u001b[0m\u001b[0;34m\u001b[0m\u001b[0m\n\u001b[1;32m    187\u001b[0m     \u001b[0;32mdef\u001b[0m \u001b[0mmagic_deco\u001b[0m\u001b[0;34m(\u001b[0m\u001b[0marg\u001b[0m\u001b[0;34m)\u001b[0m\u001b[0;34m:\u001b[0m\u001b[0;34m\u001b[0m\u001b[0;34m\u001b[0m\u001b[0m\n\u001b[0;32m--> 188\u001b[0;31m         \u001b[0mcall\u001b[0m \u001b[0;34m=\u001b[0m \u001b[0;32mlambda\u001b[0m \u001b[0mf\u001b[0m\u001b[0;34m,\u001b[0m \u001b[0;34m*\u001b[0m\u001b[0ma\u001b[0m\u001b[0;34m,\u001b[0m \u001b[0;34m**\u001b[0m\u001b[0mk\u001b[0m\u001b[0;34m:\u001b[0m \u001b[0mf\u001b[0m\u001b[0;34m(\u001b[0m\u001b[0;34m*\u001b[0m\u001b[0ma\u001b[0m\u001b[0;34m,\u001b[0m \u001b[0;34m**\u001b[0m\u001b[0mk\u001b[0m\u001b[0;34m)\u001b[0m\u001b[0;34m\u001b[0m\u001b[0;34m\u001b[0m\u001b[0m\n\u001b[0m\u001b[1;32m    189\u001b[0m \u001b[0;34m\u001b[0m\u001b[0m\n\u001b[1;32m    190\u001b[0m         \u001b[0;32mif\u001b[0m \u001b[0mcallable\u001b[0m\u001b[0;34m(\u001b[0m\u001b[0marg\u001b[0m\u001b[0;34m)\u001b[0m\u001b[0;34m:\u001b[0m\u001b[0;34m\u001b[0m\u001b[0;34m\u001b[0m\u001b[0m\n",
            "\u001b[0;32m/usr/local/lib/python3.7/dist-packages/IPython/core/magics/execution.py\u001b[0m in \u001b[0;36mtimeit\u001b[0;34m(self, line, cell)\u001b[0m\n\u001b[1;32m   1060\u001b[0m                     \u001b[0;32mbreak\u001b[0m\u001b[0;34m\u001b[0m\u001b[0;34m\u001b[0m\u001b[0m\n\u001b[1;32m   1061\u001b[0m                 \u001b[0mnumber\u001b[0m \u001b[0;34m*=\u001b[0m \u001b[0;36m10\u001b[0m\u001b[0;34m\u001b[0m\u001b[0;34m\u001b[0m\u001b[0m\n\u001b[0;32m-> 1062\u001b[0;31m         \u001b[0mall_runs\u001b[0m \u001b[0;34m=\u001b[0m \u001b[0mtimer\u001b[0m\u001b[0;34m.\u001b[0m\u001b[0mrepeat\u001b[0m\u001b[0;34m(\u001b[0m\u001b[0mrepeat\u001b[0m\u001b[0;34m,\u001b[0m \u001b[0mnumber\u001b[0m\u001b[0;34m)\u001b[0m\u001b[0;34m\u001b[0m\u001b[0;34m\u001b[0m\u001b[0m\n\u001b[0m\u001b[1;32m   1063\u001b[0m         \u001b[0mbest\u001b[0m \u001b[0;34m=\u001b[0m \u001b[0mmin\u001b[0m\u001b[0;34m(\u001b[0m\u001b[0mall_runs\u001b[0m\u001b[0;34m)\u001b[0m \u001b[0;34m/\u001b[0m \u001b[0mnumber\u001b[0m\u001b[0;34m\u001b[0m\u001b[0;34m\u001b[0m\u001b[0m\n\u001b[1;32m   1064\u001b[0m \u001b[0;34m\u001b[0m\u001b[0m\n",
            "\u001b[0;32m/usr/lib/python3.7/timeit.py\u001b[0m in \u001b[0;36mrepeat\u001b[0;34m(self, repeat, number)\u001b[0m\n\u001b[1;32m    203\u001b[0m         \u001b[0mr\u001b[0m \u001b[0;34m=\u001b[0m \u001b[0;34m[\u001b[0m\u001b[0;34m]\u001b[0m\u001b[0;34m\u001b[0m\u001b[0;34m\u001b[0m\u001b[0m\n\u001b[1;32m    204\u001b[0m         \u001b[0;32mfor\u001b[0m \u001b[0mi\u001b[0m \u001b[0;32min\u001b[0m \u001b[0mrange\u001b[0m\u001b[0;34m(\u001b[0m\u001b[0mrepeat\u001b[0m\u001b[0;34m)\u001b[0m\u001b[0;34m:\u001b[0m\u001b[0;34m\u001b[0m\u001b[0;34m\u001b[0m\u001b[0m\n\u001b[0;32m--> 205\u001b[0;31m             \u001b[0mt\u001b[0m \u001b[0;34m=\u001b[0m \u001b[0mself\u001b[0m\u001b[0;34m.\u001b[0m\u001b[0mtimeit\u001b[0m\u001b[0;34m(\u001b[0m\u001b[0mnumber\u001b[0m\u001b[0;34m)\u001b[0m\u001b[0;34m\u001b[0m\u001b[0;34m\u001b[0m\u001b[0m\n\u001b[0m\u001b[1;32m    206\u001b[0m             \u001b[0mr\u001b[0m\u001b[0;34m.\u001b[0m\u001b[0mappend\u001b[0m\u001b[0;34m(\u001b[0m\u001b[0mt\u001b[0m\u001b[0;34m)\u001b[0m\u001b[0;34m\u001b[0m\u001b[0;34m\u001b[0m\u001b[0m\n\u001b[1;32m    207\u001b[0m         \u001b[0;32mreturn\u001b[0m \u001b[0mr\u001b[0m\u001b[0;34m\u001b[0m\u001b[0;34m\u001b[0m\u001b[0m\n",
            "\u001b[0;32m/usr/local/lib/python3.7/dist-packages/IPython/core/magics/execution.py\u001b[0m in \u001b[0;36mtimeit\u001b[0;34m(self, number)\u001b[0m\n\u001b[1;32m    137\u001b[0m         \u001b[0mgc\u001b[0m\u001b[0;34m.\u001b[0m\u001b[0mdisable\u001b[0m\u001b[0;34m(\u001b[0m\u001b[0;34m)\u001b[0m\u001b[0;34m\u001b[0m\u001b[0;34m\u001b[0m\u001b[0m\n\u001b[1;32m    138\u001b[0m         \u001b[0;32mtry\u001b[0m\u001b[0;34m:\u001b[0m\u001b[0;34m\u001b[0m\u001b[0;34m\u001b[0m\u001b[0m\n\u001b[0;32m--> 139\u001b[0;31m             \u001b[0mtiming\u001b[0m \u001b[0;34m=\u001b[0m \u001b[0mself\u001b[0m\u001b[0;34m.\u001b[0m\u001b[0minner\u001b[0m\u001b[0;34m(\u001b[0m\u001b[0mit\u001b[0m\u001b[0;34m,\u001b[0m \u001b[0mself\u001b[0m\u001b[0;34m.\u001b[0m\u001b[0mtimer\u001b[0m\u001b[0;34m)\u001b[0m\u001b[0;34m\u001b[0m\u001b[0;34m\u001b[0m\u001b[0m\n\u001b[0m\u001b[1;32m    140\u001b[0m         \u001b[0;32mfinally\u001b[0m\u001b[0;34m:\u001b[0m\u001b[0;34m\u001b[0m\u001b[0;34m\u001b[0m\u001b[0m\n\u001b[1;32m    141\u001b[0m             \u001b[0;32mif\u001b[0m \u001b[0mgcold\u001b[0m\u001b[0;34m:\u001b[0m\u001b[0;34m\u001b[0m\u001b[0;34m\u001b[0m\u001b[0m\n",
            "\u001b[0;32m<magic-timeit>\u001b[0m in \u001b[0;36minner\u001b[0;34m(_it, _timer)\u001b[0m\n",
            "\u001b[0;31mKeyboardInterrupt\u001b[0m: "
          ]
        }
      ]
    },
    {
      "cell_type": "markdown",
      "metadata": {
        "id": "-Y4qMmVY-gYk"
      },
      "source": [
        "---\n",
        "\n",
        "### Exercise: Pareto frontier of a set of points in 2-D space (aka Skyline problem)\n",
        "We are given a set $S$ of $n$ 2D points.\n",
        "A point $(x,y)$ dominates a point $(x',y')$ iff $𝑥'\\leq 𝑥$ and $y'\\leq 𝑦$. \n",
        "Our goal is to find the set $P$ of dominating points in $S$. \n",
        "This corresponds to find the Pareto frontier (or, equivalently, the skyline). \n",
        "\n",
        "![alt text](skyline.png \"Example\")\n",
        "\n",
        "This problem has a lot of [applications](https://en.wikipedia.org/wiki/Multi-objective_optimization) (and [here](https://en.wikipedia.org/wiki/Pareto_efficiency)).\n",
        "\n",
        "The problem can be solved in $\\Theta(n\\log n)$ time.\n",
        "\n",
        "To find $P$ we need to sort points in $S$ by $x$ in descending order, \n",
        "and if $x$′𝑠 the same by $y$ in descending order. This takes $\\Theta(n\\log n)$ time. \n",
        "Then, we do the following.\n",
        "\n",
        "- Include first point in $P$ and remember this point as $𝑇$. \n",
        "- Iterates through the point (let $C$ current point):\n",
        "* if $C$ is dominated by $T$, then skip $C$ and go to next point;\n",
        "* Otherwise, include $C$ in $P$ and set $𝑇=𝐶$.\n",
        "\n",
        "This step can be performed in linear time.\n",
        "\n",
        "Implement the function ```pareto_frontier(S)```, which returns the pareto frontier $P$ of the points in $S$.\n"
      ]
    },
    {
      "cell_type": "code",
      "metadata": {
        "id": "HBXmW1ly-gYl",
        "colab": {
          "base_uri": "https://localhost:8080/"
        },
        "outputId": "516bb8bb-8c4d-487e-a890-124dca56247b"
      },
      "source": [
        "## Your implementation goes here\n",
        "\n",
        "S = [(6, 7.5), (7, 8), (8, 7), (2, 9), (3, 9.5), (1, 10), (4, 9), (5, 8)]\n",
        "\n",
        "def sorting(S):                                # selection sort adapted to the problem\n",
        "  for i in range(len(S)):\n",
        "    maxi = i\n",
        "    for j in range(i+1,len(S)):\n",
        "      if S[j][0] > S[maxi][0]:\n",
        "        maxi = j\n",
        "    for j in range(i+1,len(S)):\n",
        "      if S[j][0] == S[maxi][0]:\n",
        "        if S[j][1] > S[maxi][1]:\n",
        "          maxi = j\n",
        "    S[maxi],S[i] = S[i],S[maxi]\n",
        "  return S\n",
        "\n",
        "\n",
        "def pareto_frontier(S):         \n",
        "  sorting(S)\n",
        "  new = [S[0]]\n",
        "  for i in S[1:]:\n",
        "    if new[-1][0] >= i[0] and new[-1][1] >= i[1]:                        # if the element in S is dominated, skip, else add to new\n",
        "      continue\n",
        "    else:\n",
        "      new.append(i)\n",
        "  #insertion sort\n",
        "  for i in range(1,len(new)):\n",
        "    key = new[i]\n",
        "    j = i-1\n",
        "    while j >= 0 and new[j] > key:\n",
        "      new[j+1] = new[j]\n",
        "      j -= 1\n",
        "    new[j+1] = key\n",
        "  return new\n",
        "\n",
        "print(sorting(S))\n",
        "print()\n",
        "print(pareto_frontier(S))\n"
      ],
      "execution_count": null,
      "outputs": [
        {
          "output_type": "stream",
          "text": [
            "[(8, 7), (7, 8), (6, 7.5), (5, 8), (4, 9), (3, 9.5), (2, 9), (1, 10)]\n",
            "\n",
            "[(1, 10), (3, 9.5), (4, 9), (7, 8), (8, 7)]\n"
          ],
          "name": "stdout"
        }
      ]
    },
    {
      "cell_type": "code",
      "metadata": {
        "id": "T1M22e9d-gYm"
      },
      "source": [
        "## Test your implementation here\n",
        "\n",
        "S = [(6, 7.5), (7, 8), (8, 7), (2, 9), (3, 9.5), (1, 10), (4, 9), (5, 8)]\n",
        "\n",
        "assert pareto_frontier(S) == [(1, 10), (3, 9.5), (4, 9), (7, 8), (8, 7)], \"Fail!\""
      ],
      "execution_count": null,
      "outputs": []
    },
    {
      "cell_type": "code",
      "metadata": {
        "id": "2_YUy4f-3E06"
      },
      "source": [
        ""
      ],
      "execution_count": null,
      "outputs": []
    }
  ]
}