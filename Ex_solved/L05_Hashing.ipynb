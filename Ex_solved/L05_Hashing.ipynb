{
  "nbformat": 4,
  "nbformat_minor": 0,
  "metadata": {
    "kernelspec": {
      "display_name": "Python 3",
      "language": "python",
      "name": "python3"
    },
    "language_info": {
      "codemirror_mode": {
        "name": "ipython",
        "version": 3
      },
      "file_extension": ".py",
      "mimetype": "text/x-python",
      "name": "python",
      "nbconvert_exporter": "python",
      "pygments_lexer": "ipython3",
      "version": "3.8.5"
    },
    "latex_envs": {
      "LaTeX_envs_menu_present": true,
      "autoclose": false,
      "autocomplete": true,
      "bibliofile": "biblio.bib",
      "cite_by": "apalike",
      "current_citInitial": 1,
      "eqLabelWithNumbers": true,
      "eqNumInitial": 1,
      "hotkeys": {
        "equation": "Ctrl-E",
        "itemize": "Ctrl-I"
      },
      "labels_anchors": false,
      "latex_user_defs": false,
      "report_style_numbering": false,
      "user_envs_cfg": false
    },
    "varInspector": {
      "cols": {
        "lenName": 16,
        "lenType": 16,
        "lenVar": 40
      },
      "kernels_config": {
        "python": {
          "delete_cmd_postfix": "",
          "delete_cmd_prefix": "del ",
          "library": "var_list.py",
          "varRefreshCmd": "print(var_dic_list())"
        },
        "r": {
          "delete_cmd_postfix": ") ",
          "delete_cmd_prefix": "rm(",
          "library": "var_list.r",
          "varRefreshCmd": "cat(var_dic_list()) "
        }
      },
      "types_to_exclude": [
        "module",
        "function",
        "builtin_function_or_method",
        "instance",
        "_Feature"
      ],
      "window_display": false
    },
    "colab": {
      "name": "L05_Hashing_no_sols.ipynb",
      "provenance": [],
      "collapsed_sections": []
    }
  },
  "cells": [
    {
      "cell_type": "markdown",
      "metadata": {
        "id": "3GyMfw4jjODg"
      },
      "source": [
        "## Hashing"
      ]
    },
    {
      "cell_type": "code",
      "metadata": {
        "id": "IXO-bX8OjOD1"
      },
      "source": [
        "## Define some function useful for testing\n",
        "import random\n",
        "\n",
        "## generate an array of n random integers up to b\n",
        "def get_random_array(n, b = 50):\n",
        "    return [random.randint(0, b) for _ in range(n)]"
      ],
      "execution_count": null,
      "outputs": []
    },
    {
      "cell_type": "markdown",
      "metadata": {
        "id": "cDX6GJ-GjOD7"
      },
      "source": [
        "---\n",
        "\n",
        "### Open Addressing with linear probing\n",
        "\n",
        "[Open addressing](https://en.wikipedia.org/wiki/Open_addressing) is a collision resolution technique used for handling collisions in hashing. \n",
        "\n",
        "All the items are stored in a table of size $\\alpha n$, where $n$ is the number of keys and $\\alpha > 1$ is the load factor.\n",
        "\n",
        "Initially, the table contains only a special value ```None``` which says that the entry is empty. Another \n",
        "special value, say character ```'D'``` is used to mark a entry that contained a key that has been deleted.\n",
        "\n",
        "A hash functon $h()$ is used to specify the order of entries to probe for a key to be inserted/searched/deleted. \n",
        "We start by probing $h(k)$ and, with linear probing, the sequence of probes $S(k)$ is $h(k), h(k)+1, h(k)+2, \\ldots$ , modulo $\\alpha n$.\n",
        "\n",
        "- **Insert** adds the key in the first empty slot that we found with positions in $S(k)$.\n",
        "- **Lookup** is performed by checking positions in $S(k)$ until we find either the key or ```None```.\n",
        "- **Delete** is performed by first sesrching the key and then by replacing it with ```'D'```. Why don't we use ```None``` instead? \n",
        "\n",
        "\n",
        "![alt text](LinearProbing.jpg \"Example\")"
      ]
    },
    {
      "cell_type": "markdown",
      "metadata": {
        "id": "6U6KT2bVjOEA"
      },
      "source": [
        "### Exercise: Open Addressing with linear probing\n",
        "Complete the implementation below by implementing ```Lookup```and ```Delete```.\n",
        "\n",
        "\n",
        "**Optional:** Try to implement quadratic probing. This is the technique employed by Python's set and dictionary. **Note:** not all the value of $c_1$ and $c_2$ are correct. If you generate them at random, for some of them you'll not be able to insert all the key and you'll get a random loop even if the code is correct. "
      ]
    },
    {
      "cell_type": "code",
      "metadata": {
        "id": "K6j6GGWTjOEB"
      },
      "source": [
        "## Your implementation goes here\n",
        "\n",
        "class linear_probing_set:\n",
        "    def __init__(self, size):\n",
        "        \n",
        "        self.T = [None]*size\n",
        "        self.prime = 993319\n",
        "        self.a = random.randint(2, self.prime-1)\n",
        "        self.b = random.randint(2, self.prime-1)\n",
        "        self.n_keys = 0\n",
        "    \n",
        "    def insert(self, key): # fix len(T) < self.n_keys if you want\n",
        "        if self.lookup(key):\n",
        "            return \n",
        "        h = self.hash(key)                                      # calulate the position of the key in the hash table if not collision\n",
        "        while self.T[h] != None and self.T[h] != 'D':           # when I find a free slot put the key there\n",
        "            h += 1\n",
        "            if h == len(self.T):                 # if the h is euqal to the length of T (so max index + 1), then h = 0 to restart the research from the beginning of the hash table\n",
        "                h = 0\n",
        "        self.T[h] = key\n",
        "        self.n_keys += 1\n",
        "    \n",
        "    # Return True if key is in the set, False otherwise\n",
        "    def lookup(self, key):\n",
        "      h = self.hash(key)                    \n",
        "      while self.T[h] != None:     # search the key along the hash table starting from the position h\n",
        "        if self.T[h] == key:\n",
        "          return True\n",
        "        h += 1                                  \n",
        "        if h == len(self.T):\n",
        "          h = 0\n",
        "      return False\n",
        "    \n",
        "    def delete(self, key):                   \n",
        "       if self.lookup(key) == False:                 # if the key is not in the hash table return\n",
        "         return\n",
        "       h = self.hash(key)                              \n",
        "       while self.T[h] != None:                        # search the key along the hash table starting from position h and if i find it, replace it with 'D'\n",
        "         if self.T[h] == key:\n",
        "           self.T[h] = 'D'\n",
        "           return\n",
        "         h += 1\n",
        "         if h == len(self.T):\n",
        "            h = 0\n",
        "\n",
        "    \n",
        "    def hash(self, key):\n",
        "        return ((self.a*key + self.b) % self.prime) % len(self.T)\n",
        "    \n",
        "    def len(self):\n",
        "        return self.n_keys"
      ],
      "execution_count": null,
      "outputs": []
    },
    {
      "cell_type": "code",
      "metadata": {
        "id": "p6WM3WxqjOEC"
      },
      "source": [
        "## Test your implementation\n",
        "\n",
        "n = 10000\n",
        "\n",
        "a = get_random_array(n, n)\n",
        "\n",
        "queries = get_random_array(n, n)\n",
        "\n",
        "lp_set = linear_probing_set(2*n)\n",
        "std_set = set()\n",
        "\n",
        "for key in a:\n",
        "    lp_set.insert(key)\n",
        "    std_set.add(key)\n",
        "\n",
        "assert len(std_set) == lp_set.len(), \"Fail len!\"     \n",
        "    \n",
        "for key in a:\n",
        "    assert lp_set.lookup(key) == True, \"Lookup fail a\"\n",
        "  \n",
        "for key in queries:\n",
        "    assert lp_set.lookup(key) == (key in std_set), \"Lookup fail queries\"\n",
        "    \n",
        "for key in a[:300]:\n",
        "    lp_set.delete(key)\n",
        "    try:\n",
        "        std_set.remove(key)\n",
        "    except:\n",
        "        pass # the key has been already removed\n",
        "          \n",
        "    assert lp_set.lookup(key) == (key in std_set), \"Lookup fail delete\"    \n"
      ],
      "execution_count": null,
      "outputs": []
    },
    {
      "cell_type": "code",
      "metadata": {
        "id": "FQSZdWNwjOEE"
      },
      "source": [
        "%timeit for key in queries: lp_set.lookup(key)\n",
        "    \n",
        "%timeit for key in queries: key in std_set"
      ],
      "execution_count": null,
      "outputs": []
    },
    {
      "cell_type": "markdown",
      "metadata": {
        "id": "TM3m6oA1jOEF"
      },
      "source": [
        "----\n",
        "### Hashing with Chains\n",
        "Instead of just storing the elements in the slots in the table $T$, let every slot be a list which contains all the elements which are in the table and map to that slot. Our operations now become:\n",
        "\n",
        "- `Insert` $(k)$: hash $k$ to an index $i$ in the table. You may want to check if $k$ is already in the set first.\n",
        "- `Lookup` $(k)$: search for $k$ in the list by iterating through all the list.\n",
        "- `Delete` $(k)$: search for $k$ and then remove it from the list.\n",
        "\n",
        "Lookup and Delete takes $O(s)$ time where $s$ is the size of the list. We define $\\alpha = \\frac{n}{m}$ as the **load factor**. If we assume simple uniform hashing, then each element has equal probability to go into any slot. So after $n$ independent elements have been inserted we have and expected length of $\\frac{n}{m} = \\alpha$ for each chain by linearity of expectation. So the run time of all the above operations is time to hash + time to do these operations which is $O(1 + \\alpha)$.\n",
        "\n",
        "![alt text](Chaining.gif \"Example\")"
      ]
    },
    {
      "cell_type": "markdown",
      "metadata": {
        "id": "VR_9801cjOEH"
      },
      "source": [
        "### Exercise: Hashing with Chains\n",
        "Complete the implementation below by implementing ```Lookup``` and ```Delete```."
      ]
    },
    {
      "cell_type": "code",
      "metadata": {
        "id": "CP7DwcQ9jOEJ"
      },
      "source": [
        "## Your implementation goes here\n",
        "\n",
        "class chaining_set:\n",
        "    def __init__(self, size):\n",
        "        \n",
        "        self.T = []\n",
        "        for _ in range(size):\n",
        "            self.T.append([])\n",
        "        ## self.T = [ [] for _ in range(size)]\n",
        "        ## why not self.T = [ [] ] * size ?\n",
        "        \n",
        "        self.prime = 993319\n",
        "        self.a = random.randint(2, self.prime-1)\n",
        "        self.b = random.randint(2, self.prime-1)\n",
        "        self.n_keys = 0\n",
        "        \n",
        "    def insert(self, key):\n",
        "        if self.lookup(key):\n",
        "            return\n",
        "        h = self.hash(key)\n",
        "        self.T[h].append(key)\n",
        "        self.n_keys += 1\n",
        "    \n",
        "    # return True if key is in the set, False otherwise\n",
        "    def lookup(self, key):\n",
        "      h = self.hash(key)\n",
        "      for i in self.T[h]:\n",
        "        if i == key:\n",
        "          return True\n",
        "      return False\n",
        "    \n",
        "    def delete(self, key):\n",
        "      if self.lookup(key)==False:\n",
        "         return\n",
        "      h = self.hash(key)\n",
        "      i = 0\n",
        "      while i < len(self.T[h]):\n",
        "        if self.T[h][i] == key:\n",
        "          self.T[h][i] , self.T[h][-1]= self.T[h][-1], self.T[h][i]       # exchange last element of the list with the key to delete\n",
        "          del self.T[h][-1]\n",
        "          return\n",
        "        i += 1\n",
        "            \n",
        "    def hash(self, key):\n",
        "        return ((self.a*key + self.b) % self.prime) % len(self.T)\n",
        "    \n",
        "    def len(self):\n",
        "        return self.n_keys"
      ],
      "execution_count": null,
      "outputs": []
    },
    {
      "cell_type": "code",
      "metadata": {
        "id": "mFbl_Z1bjOEP"
      },
      "source": [
        "## Test your implementation\n",
        "\n",
        "n = 10000\n",
        "\n",
        "a = get_random_array(n, n)\n",
        "\n",
        "queries = get_random_array(n, n)\n",
        "\n",
        "c_set = chaining_set(2*n)\n",
        "std_set = set()\n",
        "\n",
        "for key in a:\n",
        "    c_set.insert(key)\n",
        "    std_set.add(key)\n",
        "\n",
        "assert len(std_set) == c_set.len(), \"Fail len!\"     \n",
        "    \n",
        "for key in a:\n",
        "    assert c_set.lookup(key) == True, \"Lookup fail a\"\n",
        "  \n",
        "for key in queries:\n",
        "    assert c_set.lookup(key) == (key in std_set), \"Lookup fail queries\"\n",
        "    \n",
        "for key in a[:300]:\n",
        "    c_set.delete(key)\n",
        "    try:\n",
        "        std_set.remove(key)\n",
        "    except:\n",
        "        pass # the key has been already removed\n",
        "          \n",
        "    assert c_set.lookup(key) == (key in std_set), \"Lookup fail delete\"  "
      ],
      "execution_count": null,
      "outputs": []
    },
    {
      "cell_type": "code",
      "metadata": {
        "colab": {
          "base_uri": "https://localhost:8080/"
        },
        "id": "8zz7A67JjOES",
        "outputId": "58c7165e-0c86-4577-8038-2228350233cb"
      },
      "source": [
        "%timeit for key in queries: c_set.lookup(key)\n",
        "    \n",
        "%timeit for key in queries: key in std_set"
      ],
      "execution_count": null,
      "outputs": [
        {
          "output_type": "stream",
          "text": [
            "100 loops, best of 5: 8.2 ms per loop\n",
            "1000 loops, best of 5: 726 µs per loop\n"
          ],
          "name": "stdout"
        }
      ]
    },
    {
      "cell_type": "markdown",
      "metadata": {
        "id": "W5kXMTTtjOET"
      },
      "source": [
        "----\n",
        "\n",
        "### Exercise: Dictionary\n",
        "Modify the previous code (i.e., Hashing with Chains) to implement a dictionary, i.e., store a value together with each key. \n",
        "You need to implement methods:\n",
        "- ```Insert(key, value)```: insert the key with its value. If the key was already present, change its value;\n",
        "- ```Delete(key)```: remove the key;\n",
        "- ```Lookup(key)```: return True if the key is present, False otherwise;\n",
        "- ```Value(key)```: return the value associated with the key. It returns None, if the key is not present.\n",
        "\n",
        "I suggest to store pairs (key, value) within the lists.\n",
        "\n",
        "\n",
        "**Optional**. \n",
        "Implement ```keys()```, ```values()```, and ```items()``` which allows you to iterate over keys, values, and pairs (key, value) respectively. You have to use ```yield``` to implement each generator.  "
      ]
    },
    {
      "cell_type": "code",
      "metadata": {
        "id": "71lwTkCtjOEU"
      },
      "source": [
        "## Your implementation goes here\n",
        "class my_dict:\n",
        "\n",
        "  def __init__(self,size):\n",
        "    self.d = []\n",
        "    self.n_keys = 0\n",
        "\n",
        "  def __repr__(self):\n",
        "    return \"{}\".format(self.d)\n",
        "\n",
        "\n",
        "  def insert(self,key,value):\n",
        "    if self.lookup == False:\n",
        "      self.d.append([key,value])\n",
        "      self.n_keys += 1\n",
        "      return            \n",
        "    i = 0\n",
        "    while i < len(self.d):    \n",
        "      if key == self.d[i][0]:\n",
        "        self.d[i][1] = value\n",
        "        return\n",
        "      i += 1\n",
        "\n",
        "  def delete(self,key):\n",
        "    if self.lookup(key)==False:\n",
        "       return\n",
        "    for i in self.d:\n",
        "      if i[0] == key:\n",
        "        self.d.remove(i)\n",
        "        return\n",
        "  \n",
        "  def lookup(self,key):\n",
        "    for i in self.d:\n",
        "      if i[0] == key:\n",
        "        return True\n",
        "    return False\n",
        "\n",
        "  def value(self,key):\n",
        "    if self.lookup(key)==False:\n",
        "       return None\n",
        "    for i in self.d:\n",
        "      if i[0] == key:\n",
        "        return i[1]\n",
        "\n",
        "  def keys(self):\n",
        "    for i in self.d:\n",
        "      yield i[0]\n",
        "    \n",
        "  def values(self):\n",
        "    for i in self.d:\n",
        "      yield i[1]\n",
        "\n",
        "  def items(self):\n",
        "    for i in self.d:\n",
        "      yield i\n",
        "\n",
        "      \n",
        "  \n",
        "\n"
      ],
      "execution_count": null,
      "outputs": []
    },
    {
      "cell_type": "code",
      "metadata": {
        "colab": {
          "base_uri": "https://localhost:8080/"
        },
        "id": "OtBoPP8sjOEU",
        "outputId": "c9326f10-b628-4beb-c1d1-bad089624180"
      },
      "source": [
        "## Write here some tests to test your implementation\n",
        "\n",
        "## Test your implementation\n",
        "\n",
        "keys = [\"apple\",\"durian\",\"banana\",\"durian\",\"apple\",\"cherry\",\"cherry\",\"mango\",\"apple\",\"apple\",\"cherry\",\"durian\",\"banana\",\"apple\",\"apple\",\"apple\",\"apple\",\"banana\",\"apple\"]\n",
        "n = len(keys)\n",
        "\n",
        "a = get_random_array(n, n)\n",
        "\n",
        "mydict = my_dict(n)\n",
        "\n",
        "print(a)\n",
        "\n",
        "for i in range(n):\n",
        "    key = keys[i]\n",
        "    value = a[i]\n",
        "    mydict.insert(key,value)\n",
        "\n",
        "for i in mydict.items():\n",
        "  print(i)\n",
        "\n",
        "print(mydict)\n",
        "print(mydict.lookup(\"durian\"))\n",
        "print(mydict.value(\"durian\"))\n",
        "mydict.delete(\"durian\")\n",
        "print(mydict)\n",
        "print(mydict.lookup(\"durian\"))\n",
        "print(mydict.n_keys)"
      ],
      "execution_count": null,
      "outputs": [
        {
          "output_type": "stream",
          "text": [
            "[15, 9, 5, 11, 0, 10, 5, 7, 12, 4, 3, 13, 14, 5, 9, 4, 15, 1, 9]\n",
            "['apple', 9]\n",
            "['durian', 13]\n",
            "['banana', 1]\n",
            "['cherry', 3]\n",
            "['mango', 7]\n",
            "[['apple', 9], ['durian', 13], ['banana', 1], ['cherry', 3], ['mango', 7]]\n",
            "True\n",
            "13\n",
            "[['apple', 9], ['banana', 1], ['cherry', 3], ['mango', 7]]\n",
            "False\n",
            "5\n"
          ],
          "name": "stdout"
        }
      ]
    },
    {
      "cell_type": "code",
      "metadata": {
        "id": "J-oQa7B0JUvc"
      },
      "source": [
        ""
      ],
      "execution_count": null,
      "outputs": []
    }
  ]
}