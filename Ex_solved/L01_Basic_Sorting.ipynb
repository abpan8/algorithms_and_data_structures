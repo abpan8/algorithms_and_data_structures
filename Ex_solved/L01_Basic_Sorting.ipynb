{
  "nbformat": 4,
  "nbformat_minor": 0,
  "metadata": {
    "kernelspec": {
      "display_name": "Python 3",
      "language": "python",
      "name": "python3"
    },
    "language_info": {
      "codemirror_mode": {
        "name": "ipython",
        "version": 3
      },
      "file_extension": ".py",
      "mimetype": "text/x-python",
      "name": "python",
      "nbconvert_exporter": "python",
      "pygments_lexer": "ipython3",
      "version": "3.8.5"
    },
    "colab": {
      "name": "L01_Basic_Sorting_no_sols.ipynb",
      "provenance": [],
      "collapsed_sections": []
    }
  },
  "cells": [
    {
      "cell_type": "markdown",
      "metadata": {
        "id": "Ja8UayV5bwie"
      },
      "source": [
        "## Basic sorting algorithms\n",
        "----"
      ]
    },
    {
      "cell_type": "markdown",
      "metadata": {
        "id": "sPBlgbD2bwi1"
      },
      "source": [
        "### Exercise: Selection Sort\n",
        "Write the function ```SelectionSort(coll)``` that returns a sorted list with the elements in *coll*. \n",
        "You have to implements Selection Sort algorithm."
      ]
    },
    {
      "cell_type": "code",
      "metadata": {
        "colab": {
          "base_uri": "https://localhost:8080/"
        },
        "id": "Kbk5FdP4bwi5",
        "outputId": "6c9cdb19-3a81-401d-9296-6504965d5a79"
      },
      "source": [
        "## Your implementation here!!!\n",
        "\n",
        "def SelectionSort(coll):\n",
        "  for i in range(len(coll)):\n",
        "    ind = i\n",
        "    for j in range(i+1,len(coll)): \n",
        "      if coll[j] < coll[ind]:\n",
        "        ind = j\n",
        "    coll[i],coll[ind] = coll[ind],coll[i]\n",
        "  return coll\n",
        "\n",
        "\n",
        "\n",
        "\n",
        "SelectionSort([3,2,5,1])"
      ],
      "execution_count": null,
      "outputs": [
        {
          "output_type": "execute_result",
          "data": {
            "text/plain": [
              "[1, 2, 3, 5]"
            ]
          },
          "metadata": {
            "tags": []
          },
          "execution_count": 1
        }
      ]
    },
    {
      "cell_type": "code",
      "metadata": {
        "colab": {
          "base_uri": "https://localhost:8080/"
        },
        "id": "BwK2bftObwi8",
        "outputId": "882d956d-f30c-4fba-846f-91cff7a8b7a9"
      },
      "source": [
        "## Check correctdness your implementation!\n",
        "def test_sortedness(my_list):\n",
        "    return my_list == sorted(my_list)\n",
        "\n",
        "my_list = list(range(10))[::-1]\n",
        "\n",
        "print(SelectionSort(my_list))\n",
        "\n",
        "assert test_sortedness( SelectionSort(my_list) ), \"Must be increasing!\""
      ],
      "execution_count": null,
      "outputs": [
        {
          "output_type": "stream",
          "text": [
            "[0, 1, 2, 3, 4, 5, 6, 7, 8, 9]\n"
          ],
          "name": "stdout"
        }
      ]
    },
    {
      "cell_type": "markdown",
      "metadata": {
        "id": "Lik4pFaSbwjA"
      },
      "source": [
        "### Exercise: Insertion Sort\n",
        "Write the function ```InsertionSort(coll)``` that returns a sorted list with the elements in *coll*. \n",
        "You have to implements Insertion Sort algorithm."
      ]
    },
    {
      "cell_type": "code",
      "metadata": {
        "colab": {
          "base_uri": "https://localhost:8080/"
        },
        "id": "LYPr6DubeZbq",
        "outputId": "0cc0c0cb-0164-4ce3-dc2e-cdd005ca692f"
      },
      "source": [
        "## Your implementation here!!!\n",
        "\n",
        "def InsertionSort(coll):\n",
        "  for i in range(1,len(coll)):\n",
        "    key = coll[i]\n",
        "    j = i-1\n",
        "    while j >= 0 and coll[j] > key:\n",
        "      coll[j+1] = coll[j]\n",
        "      j -= 1\n",
        "    coll[j+1] = key \n",
        "  return coll\n",
        "\n",
        "\n",
        "print(InsertionSort([9,8,7,6,5,4,3,2,1,0]))"
      ],
      "execution_count": null,
      "outputs": [
        {
          "output_type": "stream",
          "text": [
            "[0, 1, 2, 3, 4, 5, 6, 7, 8, 9]\n"
          ],
          "name": "stdout"
        }
      ]
    },
    {
      "cell_type": "code",
      "metadata": {
        "colab": {
          "base_uri": "https://localhost:8080/"
        },
        "id": "qoJOt5X7bwjF",
        "outputId": "5c722894-d2ad-42da-d8e5-ea2b566eeb4c"
      },
      "source": [
        "## Check correctdness your implementation!\n",
        "\n",
        "my_list = list(range(10))[::-1]\n",
        "\n",
        "print(InsertionSort(my_list))\n",
        "\n",
        "assert test_sortedness( InsertionSort(my_list) ), \"Must be increasing!\""
      ],
      "execution_count": null,
      "outputs": [
        {
          "output_type": "stream",
          "text": [
            "[0, 1, 2, 3, 4, 5, 6, 7, 8, 9]\n"
          ],
          "name": "stdout"
        }
      ]
    },
    {
      "cell_type": "markdown",
      "metadata": {
        "id": "hhvTUUyubwjH"
      },
      "source": [
        "### Comparators\n",
        "\n",
        "You have learned that many sorting are based on comparison. \n",
        "They obtain a ordered sequence by comparing elements. \n",
        "\n",
        "It's often very useful to define our own way to compare elements. Any comparator that implies a total order \n",
        "is a good one. \n",
        "\n",
        "For example, assume you have a list of tuple. Each tuple stores information about a person. \n",
        "If you sort this list, the final ordering is *\"lexicographic\"* one. First we compare the first component, \n",
        "then the second component for tuples with the same first component, and so on.\n",
        " \n",
        "However, you may want impose your own way to order. For example, sort person by name, then increasingly by age, and so on. \n",
        "\n",
        "This is possible by implementing your own comparator and let ```.sort()``` and ```sorted()``` to use it."
      ]
    },
    {
      "cell_type": "markdown",
      "metadata": {
        "id": "Tc3-OMDbbwjI"
      },
      "source": [
        "### How? \n",
        "You know that comparison-based algorithms sort a sequence by comparing pairs of elements. \n",
        "Thus, a comparator is a function that takes two elements, say a and b, and compare them.\n",
        "\n",
        "The result of a comparison is a value smaller than $0$, if a must precede b in the ordering. \n",
        "The result is larger than $0$, if b must precede a. The result is $0$, if we do not care."
      ]
    },
    {
      "cell_type": "markdown",
      "metadata": {
        "id": "0psVfprobwjJ"
      },
      "source": [
        "For example, we can use the following comparator to sort numbers in reverse order."
      ]
    },
    {
      "cell_type": "code",
      "metadata": {
        "id": "G22IDCq6bwjL"
      },
      "source": [
        "def my_cmp(a, b): \n",
        "    return b-a # a is before if larger that b"
      ],
      "execution_count": null,
      "outputs": []
    },
    {
      "cell_type": "markdown",
      "metadata": {
        "id": "7BidG_ijbwjN"
      },
      "source": [
        "To use our own comparator with ```.sort()``` and ```sorted()```, we have to use ```functools.cmp_to_key(cmp)```function. This converts our comparator to a function that can be used as a argument for parameter ```key```. \n"
      ]
    },
    {
      "cell_type": "code",
      "metadata": {
        "id": "YQLxlyXcbwjO",
        "colab": {
          "base_uri": "https://localhost:8080/"
        },
        "outputId": "6332dd9b-012f-4c1d-eac1-02a3ba48100c"
      },
      "source": [
        "import functools\n",
        "\n",
        "print(sorted(list(range(10)), key=functools.cmp_to_key(my_cmp)))"
      ],
      "execution_count": null,
      "outputs": [
        {
          "output_type": "stream",
          "text": [
            "[9, 8, 7, 6, 5, 4, 3, 2, 1, 0]\n"
          ],
          "name": "stdout"
        }
      ]
    },
    {
      "cell_type": "markdown",
      "metadata": {
        "id": "-y6Q_8JgbwjQ"
      },
      "source": [
        "\n",
        "------\n",
        "### Exercise: Strange orderings\n",
        "Given a list, write and test comparators to obtain the following orderings:\n",
        "- Even number precede odd ones. Even numbers are sorted in non-decreasing  order while odd ones are sorted in non-increasing order.\n",
        "- Strings are sorted in non-increasing order based on their lengths. Strings having the same length are sorted in non-increasing lexicographic order. "
      ]
    },
    {
      "cell_type": "code",
      "metadata": {
        "id": "IBrVsUa6bwjS"
      },
      "source": [
        "my_list = list(range(10))\n",
        "my_list2 = [\"a\", \"b\", \"aba\", \"cad\", \"zzzz\", \"aaaa\"]"
      ],
      "execution_count": null,
      "outputs": []
    },
    {
      "cell_type": "code",
      "metadata": {
        "colab": {
          "base_uri": "https://localhost:8080/"
        },
        "id": "b1146nfx6nUx",
        "outputId": "88276ca2-e8eb-4e01-9cc2-0cb7363970ef"
      },
      "source": [
        "def my_cmp1(a,b):\n",
        "  if a%2 == 0:\n",
        "    if b % 2 == 0:\n",
        "      return a-b   # B is before if smaller than A, else A is before\n",
        "    else:\n",
        "      return - 1\n",
        "  else:\n",
        "    if b % 2 == 0:\n",
        "      return 1\n",
        "    else:\n",
        "      return b-a  # A is before if larger than B, else B is before\n",
        "\n",
        "print(sorted(my_list,key=functools.cmp_to_key(my_cmp1)))"
      ],
      "execution_count": null,
      "outputs": [
        {
          "output_type": "stream",
          "text": [
            "[0, 2, 4, 6, 8, 9, 7, 5, 3, 1]\n"
          ],
          "name": "stdout"
        }
      ]
    },
    {
      "cell_type": "code",
      "metadata": {
        "colab": {
          "base_uri": "https://localhost:8080/"
        },
        "id": "xrPQ8bJJBJk7",
        "outputId": "d244d9a3-2611-4192-8549-e5282fd034f5"
      },
      "source": [
        "def my_cmp2(a,b):\n",
        "  if len(a)== len(b):\n",
        "    if a<b:\n",
        "      return 1\n",
        "    else:\n",
        "      return -1\n",
        "  else:\n",
        "    return len(b)-len(a)     # A is before if larger than B, else B is before\n",
        "\n",
        "print(sorted(my_list2,key=functools.cmp_to_key(my_cmp2)))"
      ],
      "execution_count": null,
      "outputs": [
        {
          "output_type": "stream",
          "text": [
            "['zzzz', 'aaaa', 'cad', 'aba', 'b', 'a']\n"
          ],
          "name": "stdout"
        }
      ]
    },
    {
      "cell_type": "markdown",
      "metadata": {
        "id": "PS-U0deCbwjU"
      },
      "source": [
        "### Exercise: Insertion Sort with a comparator\n",
        "Write the function ```InsertionSort(coll, cmp)``` that returns a sorted list with the elements in *coll* using \n",
        "```cmp```as a comparator."
      ]
    },
    {
      "cell_type": "code",
      "metadata": {
        "id": "R3ebnE9WbwjU",
        "colab": {
          "base_uri": "https://localhost:8080/"
        },
        "outputId": "fdd01fb0-11a5-4d10-a808-6d3ae2ee2c1e"
      },
      "source": [
        "## Your implementation here!!!\n",
        "\n",
        "def cmp(a,b):\n",
        "  return a-b\n",
        "\n",
        "\n",
        "my_list = [3,8,5,2,1,23,21,13]\n",
        "\n",
        "\n",
        "def InsertionSort(A, cmp):\n",
        "    for i in range(len(A)):\n",
        "        key = A[i]\n",
        "        j = i-1\n",
        "        while j >= 0 and cmp(key, A[j])<0:   #  key - A[j] < 0 ---> A[j] > key\n",
        "            A[j+1] = A[j]\n",
        "            j -= 1\n",
        "        A[j+1] = key\n",
        "    return A  \n",
        "\n",
        "print(InsertionSort(my_list,cmp))\n"
      ],
      "execution_count": null,
      "outputs": [
        {
          "output_type": "stream",
          "text": [
            "[1, 2, 3, 5, 8, 13, 21, 23]\n"
          ],
          "name": "stdout"
        }
      ]
    },
    {
      "cell_type": "code",
      "metadata": {
        "id": "-UirfIvTbwjU"
      },
      "source": [
        "## Test here your implementation by using comparators from previous exercise.\n",
        "\n",
        "def test_sortedness(my_list, cmp):\n",
        "    return InsertionSort(my_list, cmp) == sorted(my_list, key = functools.cmp_to_key(cmp))          \n",
        "\n",
        "assert test_sortedness(my_list, my_cmp1), \"Must be sorted\"\n",
        "assert test_sortedness(my_list2, my_cmp2), \"Must be sorted\""
      ],
      "execution_count": null,
      "outputs": []
    },
    {
      "cell_type": "markdown",
      "metadata": {
        "id": "vMKP2UJibwjV"
      },
      "source": [
        "-----\n",
        "\n",
        "### Exercise: Intersection of two lists\n",
        "Write a function ```intersection_slow(l1, l2)``` which returns the intersection of the two lists l1 and l2.\n",
        "\n",
        "Use the trivial algorithms that runs in $\\Theta(|l1|\\times|l2|)$. "
      ]
    },
    {
      "cell_type": "code",
      "metadata": {
        "id": "MQtmvBY7bwjW"
      },
      "source": [
        "## Your implementation here!!!\n",
        "def intersection_slow(l1,l2):\n",
        "  l = []\n",
        "  for i in l1:\n",
        "    for j in l2:\n",
        "      if i == j:\n",
        "        l.append(i)\n",
        "        break\n",
        "  return l\n"
      ],
      "execution_count": null,
      "outputs": []
    },
    {
      "cell_type": "code",
      "metadata": {
        "id": "4abIEvn9bwjX"
      },
      "source": [
        "## Test here your implementation \n",
        "\n",
        "l1 = [3, 5, 1, 2]\n",
        "l2 = [1, 4, 6, 2]\n",
        "\n",
        "assert set(intersection_slow(l1, l2)) == set([1, 2]), \"Urca\""
      ],
      "execution_count": null,
      "outputs": []
    },
    {
      "cell_type": "markdown",
      "metadata": {
        "id": "yKGwbHIXbwjX"
      },
      "source": [
        "----\n",
        "### Exercise: Faster intersection of two lists\n",
        "Write a function ```intersection(l1, l2)``` which returns the intersection of the two lists l1 and l2.\n",
        "\n",
        "Assume that both l1 and l2 are sorted!"
      ]
    },
    {
      "cell_type": "code",
      "metadata": {
        "id": "UjADwT7GbwjX",
        "colab": {
          "base_uri": "https://localhost:8080/"
        },
        "outputId": "3461a9a8-f558-40d2-8979-b2ae6fc68881"
      },
      "source": [
        "## Your implementation here!!!\n",
        "\n",
        "def intersection(l1,l2):\n",
        "  l = []\n",
        "  i = 0\n",
        "  j = 0\n",
        "  while i<len(l1) and j<len(l2):\n",
        "    if l1[i] < l2[j]:\n",
        "      i += 1\n",
        "    elif l1[i] > l2[j]:\n",
        "      j += 1\n",
        "    else:\n",
        "      l.append(l1[i])\n",
        "      i += 1\n",
        "      j += 1\n",
        "  return l\n",
        "\n",
        "l1 = sorted([3, 5, 1, 2,16])\n",
        "l2 = sorted([1, 4, 6, 2,12,11,14,16])\n",
        "\n",
        "print(intersection(l1,l2))\n"
      ],
      "execution_count": null,
      "outputs": [
        {
          "output_type": "stream",
          "text": [
            "[1, 2, 16]\n"
          ],
          "name": "stdout"
        }
      ]
    },
    {
      "cell_type": "code",
      "metadata": {
        "id": "QgpEo7hhbwjZ"
      },
      "source": [
        "## Test here your implementation \n",
        "\n",
        "l1 = sorted([3, 5, 1, 2])\n",
        "l2 = sorted([1, 4, 6, 2])\n",
        "\n",
        "assert set(intersection(l1, l2)) == set([1, 2]), \"Urca\""
      ],
      "execution_count": null,
      "outputs": []
    },
    {
      "cell_type": "markdown",
      "metadata": {
        "id": "aOjTEhG1bwjZ"
      },
      "source": [
        "----\n",
        "### Exercise: You own search engine\n",
        "You are given a collection of texts and you want to build your own search engine, people at Google are already very scared!\n",
        "\n",
        "Modern search engines are based on a data structure called *Inverted Index*. \n",
        "\n",
        "Each document of the collection is assigned an identifier, starting from 0.\n",
        "An inverted index stores a list, called *inverted list*, for each term of the collection.\n",
        "The list for a term *t* contains the identifiers of all the documents containing term *t*. The list is sorted.\n",
        "\n",
        "For example,\n",
        "\n",
        "````\n",
        "C = [\"dog cat elephant monkey\",  \"dog lion tiger\", \"fish dog dog cat cow\"]\n",
        "\n",
        "````\n",
        "\n",
        "The list of term *cat* is [0,2], the list of *elephant* is [0].\n",
        "\n",
        "Given two terms, an AND query reports all the documents containing both terms. For example, \n",
        "*query(\"cat\", \"dog\"), the result is [0, 2].\n",
        "\n",
        "You goal is to implement a simple search engine. Do the following. \n",
        "\n",
        "- Given the collection, build a dictionary that maps each term to its inverted list. Observe that \n",
        "each document occurs at most once in each list. \n",
        "- Implement a function *query* which answers an AND query. "
      ]
    },
    {
      "cell_type": "code",
      "metadata": {
        "id": "LLyVxiInbwja",
        "colab": {
          "base_uri": "https://localhost:8080/"
        },
        "outputId": "39f9f34e-0df1-432c-9971-d0252ff2ccbd"
      },
      "source": [
        "## Your implementation here!!!\n",
        "\n",
        "C = [\"dog cat elephant monkey\",  \"dog lion tiger\", \"fish dog dog cat cow\"]\n",
        "\n",
        "\n",
        "def build_index(C):\n",
        "  index = {}\n",
        "  for i,sent in enumerate(C):\n",
        "    for word in sent.split():\n",
        "      if word not in index:      # if the word not yet in the dictionary, add the word as key\n",
        "        index[word] = []\n",
        "      if i not in index[word]:  # if the index not yet in the value of the key, then add it in the values of that specific key\n",
        "        index[word].append(i)\n",
        "  return index\n",
        "\n",
        "index = build_index(C)\n",
        "\n",
        "def query(index, t1, t2):\n",
        "    return [x for x in index[t1] if x in index[t2]]\n",
        "\n",
        "print(build_index(C))\n",
        "print(query(index,\"cat\",\"dog\"))"
      ],
      "execution_count": null,
      "outputs": [
        {
          "output_type": "stream",
          "text": [
            "{'dog': [0, 1, 2], 'cat': [0, 2], 'elephant': [0], 'monkey': [0], 'lion': [1], 'tiger': [1], 'fish': [2], 'cow': [2]}\n",
            "[0, 2]\n"
          ],
          "name": "stdout"
        }
      ]
    },
    {
      "cell_type": "code",
      "metadata": {
        "id": "wTqitdAFbwjb"
      },
      "source": [
        "## Test here your implementation \n",
        "\n",
        "C = [\"dog cat elephant monkey\",  \"dog lion tiger\", \"fish dog dog cat cow\"]\n",
        "\n",
        "index = build_index(C)\n",
        "assert query(index, \"cat\", \"dog\") == [0, 2], \"Urca\""
      ],
      "execution_count": null,
      "outputs": []
    },
    {
      "cell_type": "code",
      "metadata": {
        "id": "ALvEr57Z6eC7"
      },
      "source": [
        ""
      ],
      "execution_count": null,
      "outputs": []
    }
  ]
}