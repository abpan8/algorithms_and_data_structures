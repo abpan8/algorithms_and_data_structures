{
  "nbformat": 4,
  "nbformat_minor": 0,
  "metadata": {
    "kernelspec": {
      "display_name": "Python 3",
      "language": "python",
      "name": "python3"
    },
    "language_info": {
      "codemirror_mode": {
        "name": "ipython",
        "version": 3
      },
      "file_extension": ".py",
      "mimetype": "text/x-python",
      "name": "python",
      "nbconvert_exporter": "python",
      "pygments_lexer": "ipython3",
      "version": "3.8.5"
    },
    "colab": {
      "name": "L07_Binary_Search_Tree_no_sols.ipynb",
      "provenance": [],
      "collapsed_sections": []
    }
  },
  "cells": [
    {
      "cell_type": "markdown",
      "metadata": {
        "id": "lVflNO0SNM2L"
      },
      "source": [
        "# Binary Search Trees (BSTs)\n",
        "----"
      ]
    },
    {
      "cell_type": "code",
      "metadata": {
        "id": "ibZNZxL4NM3X"
      },
      "source": [
        "## Define some function useful for testing\n",
        "import random\n",
        "\n",
        "## generate an array of n random integers up to b\n",
        "def get_random_array(n, b = 50):\n",
        "    return [random.randint(0, b) for _ in range(n)]"
      ],
      "execution_count": null,
      "outputs": []
    },
    {
      "cell_type": "markdown",
      "metadata": {
        "id": "NyvjSEDRNM3l"
      },
      "source": [
        "Hashing-based data structures are efficient solutions to index a set of keys providing three operations:\n",
        "- Insert a new key in the set\n",
        "- Delete a key from the set\n",
        "- Search a key in the set (and return its associated value.\n",
        "\n",
        "Binary Search Tree (BST) extends the set of operations with more ones.\n",
        "\n",
        "- Min/max keys in the set\n",
        "- Predecessor of a value, i.e., largest key in the set which is smaller than the given one\n",
        "- Successor of a value, i.e., smallest key in the set which is greater than the given one\n",
        "\n",
        "Implementing the above operations gives a **sorted map** (or ordered map).\n",
        "\n",
        "\n",
        "Notice that if the set would be **static** (i.e., no insert and delete) the problem can be easily solved with \n",
        "binary search on a sorted array. This is the goal of the first exercise. "
      ]
    },
    {
      "cell_type": "markdown",
      "metadata": {
        "id": "TF8c-hFNNM3s"
      },
      "source": [
        "---\n",
        "### Exercise: Static sorted map\n",
        "Complete and test the implementation below. You have to use binary search to solve predecessor and successor queries on a sorted array."
      ]
    },
    {
      "cell_type": "code",
      "metadata": {
        "id": "Rd7uDK84NM3x"
      },
      "source": [
        "class StaticSortedMap:\n",
        "    def __init__(self, A):\n",
        "        self.sorted_map = A[:] # copy input array\n",
        "\n",
        "    def min(self):\n",
        "      return self.sorted_map[0]\n",
        "\n",
        "    def max(self):\n",
        "      return self.sorted_map[-1]\n",
        "\n",
        "    def search(self,key):\n",
        "        \n",
        "        def __search(A,l,r,key):         # keep the median position of the array\n",
        "          m = (l+r) // 2\n",
        "          if r > l:                      \n",
        "            if A[m] == key:              # if the element is in that position return True with the index position\n",
        "              return True,m\n",
        "            elif key < A[m]:             #  if the element in that position is higher, then return recursively the function search with only the left side of the array using m\n",
        "              return __search(A,l,m-1,key)\n",
        "            elif key > A[m]:                 #  if the element in that position is lower, then return recursively the function search with only the right side of the array using m\n",
        "              return __search(A,m+1,r,key)\n",
        "          else:                               # if l becomes equal to r we didn't find the element we searched, so return false with position m that is the position in which the element should stay\n",
        "            return False, m                                                     \n",
        "        return __search(self.sorted_map,0,len(self.sorted_map)-1,key)\n",
        "\n",
        "\n",
        "\n",
        "    def predecessor(self, key):\n",
        "      ind = self.search(key)\n",
        "      if ind[0] == False or key == self.min():\n",
        "        return None\n",
        "      else:\n",
        "        return ind[1] - 1, self.sorted_map[ind[1] - 1]\n",
        "\n",
        "\n",
        "    def successor(self, key):\n",
        "      ind = self.search(key)\n",
        "      if ind[0] == False or key == self.max():\n",
        "        return None\n",
        "      else:\n",
        "        return ind[1] + 1, self.sorted_map[ind[1] + 1]"
      ],
      "execution_count": null,
      "outputs": []
    },
    {
      "cell_type": "code",
      "metadata": {
        "colab": {
          "base_uri": "https://localhost:8080/"
        },
        "id": "armAAsQjNM30",
        "outputId": "aa7e3efc-0e21-4b19-ba47-52d7ebd2b6d6"
      },
      "source": [
        "# Test your implementation here\n",
        "a = get_random_array(70,100)\n",
        "a.sort()\n",
        "print(a)\n",
        "A = StaticSortedMap(a)\n",
        "\n",
        "\n",
        "print(A.min())\n",
        "print(A.max())\n",
        "pred = A.predecessor(15)\n",
        "suc = A.successor(15)\n",
        "print(A.search(15))\n",
        "print()\n",
        "print(\"Predecessor:\", pred)              #risolvere nonetype is not subscriptable\n",
        "print()\n",
        "print(\"Successor:\",suc)"
      ],
      "execution_count": null,
      "outputs": [
        {
          "output_type": "stream",
          "text": [
            "[0, 1, 4, 4, 6, 8, 10, 10, 10, 11, 11, 15, 18, 20, 21, 24, 25, 27, 30, 31, 33, 33, 33, 33, 34, 34, 36, 36, 38, 39, 40, 41, 44, 46, 46, 47, 51, 54, 56, 57, 57, 58, 61, 61, 62, 63, 64, 64, 65, 65, 66, 68, 70, 71, 72, 73, 75, 76, 77, 80, 83, 83, 84, 87, 87, 87, 92, 93, 95, 99]\n",
            "0\n",
            "99\n",
            "(True, 11)\n",
            "\n",
            "Predecessor: (10, 11)\n",
            "\n",
            "Successor: (12, 18)\n"
          ],
          "name": "stdout"
        }
      ]
    },
    {
      "cell_type": "markdown",
      "metadata": {
        "id": "rboDOI12NM34"
      },
      "source": [
        "---\n",
        "## Sorted map with Binary Search Tree"
      ]
    },
    {
      "cell_type": "code",
      "metadata": {
        "id": "Y_iSc5y_NM38"
      },
      "source": [
        "class BinarySearchTree:\n",
        "    # This is a Node class that is internal to the BinarySearchTree class\n",
        "    class __Node:\n",
        "        def __init__(self, val, left=None, right=None):\n",
        "            self.val = val\n",
        "            self.left = left\n",
        "            self.right = right\n",
        "            \n",
        "        def getVal(self): \n",
        "            return self.val\n",
        "\n",
        "        def setVal(self,newval): \n",
        "            self.val = newval\n",
        "            \n",
        "        def getLeft(self): \n",
        "            return self.left\n",
        "        \n",
        "        def getRight(self): \n",
        "            return self.right\n",
        "        \n",
        "        def setLeft(self,newleft): \n",
        "            self.left = newleft\n",
        "        \n",
        "        def setRight(self,newright): \n",
        "            self.right = newright\n",
        "            \n",
        "        # This method deserves a little explanation. It does an inorder traversal\n",
        "        # of the nodes of the tree yielding all the values. In this way, we get\n",
        "        # the values in ascending order.       \n",
        "        def __iter__(self):\n",
        "            if self.left != None:\n",
        "                for elem in self.left: \n",
        "                    yield elem\n",
        "            yield self.val\n",
        "            if self.right != None:\n",
        "                for elem in self.right:\n",
        "                    yield elem\n",
        "                    \n",
        "    # Below methods of the BinarySearchTree class.\n",
        "    def __init__(self): \n",
        "        self.root = None\n",
        "         \n",
        "    def insert(self, val):   \n",
        "        # The __insert function is recursive and is not a passed a self parameter. It is a # static function (not a method of the class) but is hidden inside the insert\n",
        "        # function so users of the class will not know it exists.\n",
        "        def __insert(root, val): \n",
        "            if root == None:\n",
        "                return BinarySearchTree.__Node(val)\n",
        "            if val < root.getVal(): \n",
        "                root.setLeft(__insert(root.getLeft(), val))\n",
        "            else: \n",
        "                root.setRight(__insert(root.getRight(), val))\n",
        "            return root\n",
        "        \n",
        "        self.root = __insert(self.root, val)"
      ],
      "execution_count": null,
      "outputs": []
    },
    {
      "cell_type": "code",
      "metadata": {
        "id": "aJjz7NF5NM4B",
        "colab": {
          "base_uri": "https://localhost:8080/"
        },
        "outputId": "25e14e41-e34b-4ffd-e72a-5194344d55a3"
      },
      "source": [
        "a = get_random_array(100)\n",
        "\n",
        "bst = BinarySearchTree()\n",
        "\n",
        "for x in a: \n",
        "    bst.insert(x)\n",
        "\n",
        "print([x for x in bst.root][:10])\n",
        "    \n",
        "assert [x for x in bst.root] == sorted(a), \"FAIL insert!\"\n",
        "\n",
        "\n",
        "## It works with strings as well\n",
        "\n",
        "a = [\"ciao\", \"aaa\", \"zzz\", \"zzzW\"]\n",
        "\n",
        "bst_strings = BinarySearchTree()\n",
        "\n",
        "for string in a:\n",
        "    bst_strings.insert(string)\n",
        "\n",
        "print([x for x in bst_strings.root])\n",
        "\n",
        "assert [x for x in bst_strings.root] == sorted(a), \"FAIL!\""
      ],
      "execution_count": null,
      "outputs": [
        {
          "output_type": "stream",
          "text": [
            "[0, 0, 1, 1, 2, 3, 3, 3, 4, 4]\n",
            "['aaa', 'ciao', 'zzz', 'zzzW']\n"
          ],
          "name": "stdout"
        }
      ]
    },
    {
      "cell_type": "markdown",
      "metadata": {
        "id": "XZe7IC67NM4H"
      },
      "source": [
        "### Exercise: \n",
        "Extend the previous implementation to support **search(x)** operation. Test your implementation."
      ]
    },
    {
      "cell_type": "code",
      "metadata": {
        "id": "C5-ZGF23NM4J"
      },
      "source": [
        "# Your implementation goes here\n",
        "class BinarySearchTree:\n",
        "    # This is a Node class that is internal to the BinarySearchTree class\n",
        "    class __Node:\n",
        "        def __init__(self, val, left=None, right=None):\n",
        "            self.val = val\n",
        "            self.left = left\n",
        "            self.right = right\n",
        "            \n",
        "        def getVal(self): \n",
        "            return self.val\n",
        "\n",
        "        def setVal(self,newval): \n",
        "            self.val = newval\n",
        "            \n",
        "        def getLeft(self): \n",
        "            return self.left\n",
        "        \n",
        "        def getRight(self): \n",
        "            return self.right\n",
        "        \n",
        "        def setLeft(self,newleft): \n",
        "            self.left = newleft\n",
        "        \n",
        "        def setRight(self,newright): \n",
        "            self.right = newright\n",
        "            \n",
        "        # This method deserves a little explanation. It does an inorder traversal\n",
        "        # of the nodes of the tree yielding all the values. In this way, we get\n",
        "        # the values in ascending order.       \n",
        "        def __iter__(self):\n",
        "            if self.left != None:\n",
        "                for elem in self.left:\n",
        "                    yield elem\n",
        "            yield self.val\n",
        "            if self.right != None:\n",
        "                for elem in self.right:\n",
        "                    yield elem\n",
        "                    \n",
        "    # Below methods of the BinarySearchTree class.\n",
        "    def __init__(self): \n",
        "        self.root = None\n",
        "         \n",
        "    def insert(self, val):   \n",
        "        # The __insert function is recursive and is not a passed a self parameter. It is a # static function (not a method of the class) but is hidden inside the insert\n",
        "        # function so users of the class will not know it exists.\n",
        "        def __insert(root, val):                                                            \n",
        "            if root == None:\n",
        "                return BinarySearchTree.__Node(val)\n",
        "            if val < root.getVal(): \n",
        "                root.setLeft(__insert(root.getLeft(), val))\n",
        "            else: \n",
        "                root.setRight(__insert(root.getRight(), val))\n",
        "            return root\n",
        "        \n",
        "        self.root = __insert(self.root, val)\n",
        "\n",
        "    def search(self,key):\n",
        "\n",
        "      def __search(root,key):                        \n",
        "        if root.val == key:\n",
        "          return True\n",
        "        if root.val < key and root.right != None:     # if root value is smaller than key and root.right != None call recursively the function search on the right side\n",
        "          return __search(root.getRight(),key)\n",
        "        if root.val > key and root.left != None:    # if root value is smaller than key and root.left != None call recursively the function search on the left side\n",
        "          return __search(root.getLeft(),key)\n",
        "        return False                                # if the recursion doesn't find the key return false\n",
        "      return __search(self.root,key)"
      ],
      "execution_count": null,
      "outputs": []
    },
    {
      "cell_type": "code",
      "metadata": {
        "id": "KD9xdFa3NM4Q",
        "colab": {
          "base_uri": "https://localhost:8080/"
        },
        "outputId": "619364c0-395f-42aa-a18f-4f1659196580"
      },
      "source": [
        "# Test your implementation here\n",
        "a = get_random_array(100)\n",
        "\n",
        "bst = BinarySearchTree()\n",
        "\n",
        "for x in a: \n",
        "    bst.insert(x)\n",
        "\n",
        "print([x for x in bst.root][:10])\n",
        "    \n",
        "assert [x for x in bst.root] == sorted(a), \"FAIL insert!\"\n",
        "\n",
        "\n",
        "## It works with strings as well\n",
        "\n",
        "a = [\"ciao\", \"aaa\", \"zzz\", \"zzzW\"]\n",
        "\n",
        "bst_strings = BinarySearchTree()\n",
        "\n",
        "for string in a:\n",
        "    bst_strings.insert(string)\n",
        "\n",
        "print([x for x in bst_strings.root])\n",
        "\n",
        "assert [x for x in bst_strings.root] == sorted(a), \"FAIL!\"\n",
        "\n",
        "print(bst_strings.search('zzz'))\n",
        "print(bst_strings.search('non ci sono'))\n"
      ],
      "execution_count": null,
      "outputs": [
        {
          "output_type": "stream",
          "text": [
            "[0, 2, 3, 3, 3, 4, 4, 4, 5, 5]\n",
            "['aaa', 'ciao', 'zzz', 'zzzW']\n",
            "True\n",
            "False\n"
          ],
          "name": "stdout"
        }
      ]
    },
    {
      "cell_type": "markdown",
      "metadata": {
        "id": "exK7fv3bNM4S"
      },
      "source": [
        "### Delete\n",
        "\n",
        "![alt text](Delete.png \"Example\")\n",
        "\n",
        "(this image is from GeeksforGeeks.org)"
      ]
    },
    {
      "cell_type": "markdown",
      "metadata": {
        "id": "JV3l2TgrNM4U"
      },
      "source": [
        "### Predecessor and Successor\n",
        "How to support those queries?"
      ]
    },
    {
      "cell_type": "markdown",
      "metadata": {
        "id": "gZ6tD6WSNM4W"
      },
      "source": [
        "### Optional Exercise: \n",
        "Extend the previous implementation to support **delete(x)**, **predecessor(x)** and **successor(x)** operations and test your implementation."
      ]
    },
    {
      "cell_type": "code",
      "metadata": {
        "id": "BrEjmCOcNM4X"
      },
      "source": [
        ""
      ],
      "execution_count": null,
      "outputs": []
    }
  ]
}