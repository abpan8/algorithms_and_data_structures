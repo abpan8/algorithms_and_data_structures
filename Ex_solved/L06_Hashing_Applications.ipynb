{
  "nbformat": 4,
  "nbformat_minor": 0,
  "metadata": {
    "kernelspec": {
      "display_name": "Python 3",
      "language": "python",
      "name": "python3"
    },
    "language_info": {
      "codemirror_mode": {
        "name": "ipython",
        "version": 3
      },
      "file_extension": ".py",
      "mimetype": "text/x-python",
      "name": "python",
      "nbconvert_exporter": "python",
      "pygments_lexer": "ipython3",
      "version": "3.8.5"
    },
    "latex_envs": {
      "LaTeX_envs_menu_present": true,
      "autoclose": false,
      "autocomplete": true,
      "bibliofile": "biblio.bib",
      "cite_by": "apalike",
      "current_citInitial": 1,
      "eqLabelWithNumbers": true,
      "eqNumInitial": 1,
      "hotkeys": {
        "equation": "Ctrl-E",
        "itemize": "Ctrl-I"
      },
      "labels_anchors": false,
      "latex_user_defs": false,
      "report_style_numbering": false,
      "user_envs_cfg": false
    },
    "varInspector": {
      "cols": {
        "lenName": 16,
        "lenType": 16,
        "lenVar": 40
      },
      "kernels_config": {
        "python": {
          "delete_cmd_postfix": "",
          "delete_cmd_prefix": "del ",
          "library": "var_list.py",
          "varRefreshCmd": "print(var_dic_list())"
        },
        "r": {
          "delete_cmd_postfix": ") ",
          "delete_cmd_prefix": "rm(",
          "library": "var_list.r",
          "varRefreshCmd": "cat(var_dic_list()) "
        }
      },
      "types_to_exclude": [
        "module",
        "function",
        "builtin_function_or_method",
        "instance",
        "_Feature"
      ],
      "window_display": false
    },
    "colab": {
      "name": "L06_Hashing_Applications_no_sols.ipynb",
      "provenance": [],
      "collapsed_sections": []
    }
  },
  "cells": [
    {
      "cell_type": "markdown",
      "metadata": {
        "id": "GHJiQpuI7_YB"
      },
      "source": [
        "# Hashing: Applications\n",
        "\n",
        "You already know several applications of Python's set and dictionary (thus, hashing) in your programming life. \n",
        "For example, computing frequencies of distinct strings in text or numbers in a list.\n",
        "\n",
        "Today we will see a very important application in managing data bases: \n",
        "- Data aggregation by grouping rows by values in some colum (aka **GroupBy**)\n",
        "- Merging different datasets (aka **Join**) "
      ]
    },
    {
      "cell_type": "markdown",
      "metadata": {
        "id": "aAaDbU1r7_YI"
      },
      "source": [
        "---\n",
        "\n",
        "## Data Aggregation in Pandas: GroupBy\n",
        "\n",
        "Groupby is a pretty easy concept: *we create a grouping of categories and apply an aggregation function to element of each category*.\n",
        "\n",
        "It's a simple concept but it's an extremely valuable technique that's widely used in data science. The value of groupby really comes from its ability to **aggregate data efficiently**, both in performance and the amount code it takes. "
      ]
    },
    {
      "cell_type": "markdown",
      "metadata": {
        "id": "HTe-MWI57_YL"
      },
      "source": [
        "Let's first create a toy DataFrame"
      ]
    },
    {
      "cell_type": "code",
      "metadata": {
        "colab": {
          "base_uri": "https://localhost:8080/",
          "height": 489
        },
        "id": "VeAr1uvx7_YP",
        "outputId": "fe551ad5-2a6c-4fe2-cb1e-46b099749dda"
      },
      "source": [
        "import random\n",
        "import pandas as pd\n",
        "\n",
        "random.seed(42)\n",
        "    \n",
        "# Random pets column\n",
        "pet_list = [\"cat\", \"dog\", \"alligator\", \"snake\"]\n",
        "pet = [random.choice(pet_list) for i in range(1,15)]\n",
        "\n",
        "# Random weight of animal column\n",
        "weight = [random.choice(range(5,15)) for i in range(1,15)]\n",
        "\n",
        "# Random length of animals column\n",
        "length = [random.choice(range(1,10)) for i in range(1,15)]\n",
        "\n",
        "# random age of the animals column\n",
        "age = [random.choice(range(1,5)) for i in range(1,15)]\n",
        "\n",
        "# Put everyhting into a dataframe\n",
        "df = pd.DataFrame()\n",
        "df[\"animal\"] = pet\n",
        "df[\"age\"] = age\n",
        "df[\"weight\"] = weight\n",
        "df[\"length\"] = length\n",
        "\n",
        "df"
      ],
      "execution_count": null,
      "outputs": [
        {
          "output_type": "execute_result",
          "data": {
            "text/html": [
              "<div>\n",
              "<style scoped>\n",
              "    .dataframe tbody tr th:only-of-type {\n",
              "        vertical-align: middle;\n",
              "    }\n",
              "\n",
              "    .dataframe tbody tr th {\n",
              "        vertical-align: top;\n",
              "    }\n",
              "\n",
              "    .dataframe thead th {\n",
              "        text-align: right;\n",
              "    }\n",
              "</style>\n",
              "<table border=\"1\" class=\"dataframe\">\n",
              "  <thead>\n",
              "    <tr style=\"text-align: right;\">\n",
              "      <th></th>\n",
              "      <th>animal</th>\n",
              "      <th>age</th>\n",
              "      <th>weight</th>\n",
              "      <th>length</th>\n",
              "    </tr>\n",
              "  </thead>\n",
              "  <tbody>\n",
              "    <tr>\n",
              "      <th>0</th>\n",
              "      <td>cat</td>\n",
              "      <td>1</td>\n",
              "      <td>13</td>\n",
              "      <td>6</td>\n",
              "    </tr>\n",
              "    <tr>\n",
              "      <th>1</th>\n",
              "      <td>cat</td>\n",
              "      <td>4</td>\n",
              "      <td>14</td>\n",
              "      <td>5</td>\n",
              "    </tr>\n",
              "    <tr>\n",
              "      <th>2</th>\n",
              "      <td>alligator</td>\n",
              "      <td>1</td>\n",
              "      <td>5</td>\n",
              "      <td>3</td>\n",
              "    </tr>\n",
              "    <tr>\n",
              "      <th>3</th>\n",
              "      <td>dog</td>\n",
              "      <td>3</td>\n",
              "      <td>13</td>\n",
              "      <td>4</td>\n",
              "    </tr>\n",
              "    <tr>\n",
              "      <th>4</th>\n",
              "      <td>dog</td>\n",
              "      <td>3</td>\n",
              "      <td>8</td>\n",
              "      <td>6</td>\n",
              "    </tr>\n",
              "    <tr>\n",
              "      <th>5</th>\n",
              "      <td>dog</td>\n",
              "      <td>2</td>\n",
              "      <td>13</td>\n",
              "      <td>2</td>\n",
              "    </tr>\n",
              "    <tr>\n",
              "      <th>6</th>\n",
              "      <td>cat</td>\n",
              "      <td>1</td>\n",
              "      <td>11</td>\n",
              "      <td>2</td>\n",
              "    </tr>\n",
              "    <tr>\n",
              "      <th>7</th>\n",
              "      <td>cat</td>\n",
              "      <td>1</td>\n",
              "      <td>8</td>\n",
              "      <td>7</td>\n",
              "    </tr>\n",
              "    <tr>\n",
              "      <th>8</th>\n",
              "      <td>snake</td>\n",
              "      <td>2</td>\n",
              "      <td>12</td>\n",
              "      <td>2</td>\n",
              "    </tr>\n",
              "    <tr>\n",
              "      <th>9</th>\n",
              "      <td>cat</td>\n",
              "      <td>3</td>\n",
              "      <td>14</td>\n",
              "      <td>6</td>\n",
              "    </tr>\n",
              "    <tr>\n",
              "      <th>10</th>\n",
              "      <td>cat</td>\n",
              "      <td>1</td>\n",
              "      <td>9</td>\n",
              "      <td>6</td>\n",
              "    </tr>\n",
              "    <tr>\n",
              "      <th>11</th>\n",
              "      <td>cat</td>\n",
              "      <td>2</td>\n",
              "      <td>5</td>\n",
              "      <td>5</td>\n",
              "    </tr>\n",
              "    <tr>\n",
              "      <th>12</th>\n",
              "      <td>dog</td>\n",
              "      <td>1</td>\n",
              "      <td>7</td>\n",
              "      <td>1</td>\n",
              "    </tr>\n",
              "    <tr>\n",
              "      <th>13</th>\n",
              "      <td>dog</td>\n",
              "      <td>4</td>\n",
              "      <td>11</td>\n",
              "      <td>8</td>\n",
              "    </tr>\n",
              "  </tbody>\n",
              "</table>\n",
              "</div>"
            ],
            "text/plain": [
              "       animal  age  weight  length\n",
              "0         cat    1      13       6\n",
              "1         cat    4      14       5\n",
              "2   alligator    1       5       3\n",
              "3         dog    3      13       4\n",
              "4         dog    3       8       6\n",
              "5         dog    2      13       2\n",
              "6         cat    1      11       2\n",
              "7         cat    1       8       7\n",
              "8       snake    2      12       2\n",
              "9         cat    3      14       6\n",
              "10        cat    1       9       6\n",
              "11        cat    2       5       5\n",
              "12        dog    1       7       1\n",
              "13        dog    4      11       8"
            ]
          },
          "metadata": {
            "tags": []
          },
          "execution_count": 1
        }
      ]
    },
    {
      "cell_type": "markdown",
      "metadata": {
        "id": "-2tzAN9G7_YT"
      },
      "source": [
        "### Groupby a variable\n",
        "\n",
        "Groupby essentially splits the data into different groups *depending on a variable* (or more variables) of your choice. \n",
        "\n",
        "For example, the expression `df.groupby('animal')` splits the DataFrame by 'animal' category.\n",
        "\n",
        "The `groupby()` function returns a *GroupBy* object, but essentially describes how the rows of the original dataset has been split. \n",
        "\n",
        "In the GroupBy object `groups` variable is a dictionary whose keys are the unique groups and corresponding values being the axis labels belonging to each group."
      ]
    },
    {
      "cell_type": "code",
      "metadata": {
        "colab": {
          "base_uri": "https://localhost:8080/"
        },
        "id": "u6xa3D-q7_YV",
        "outputId": "b6e2f11d-747c-4e92-8dd6-a21f00a05e81"
      },
      "source": [
        "animal_groups = df.groupby('animal') # Group by animal category\n",
        "\n",
        "print( type(animal_groups), end='\\n\\n')\n",
        "\n",
        "print( animal_groups.groups, end='\\n\\n')\n",
        "\n",
        "print( animal_groups.groups.keys())"
      ],
      "execution_count": null,
      "outputs": [
        {
          "output_type": "stream",
          "text": [
            "<class 'pandas.core.groupby.generic.DataFrameGroupBy'>\n",
            "\n",
            "{'alligator': [2], 'cat': [0, 1, 6, 7, 9, 10, 11], 'dog': [3, 4, 5, 12, 13], 'snake': [8]}\n",
            "\n",
            "dict_keys(['alligator', 'cat', 'dog', 'snake'])\n"
          ],
          "name": "stdout"
        }
      ]
    },
    {
      "cell_type": "markdown",
      "metadata": {
        "id": "xifRhp_P7_YZ"
      },
      "source": [
        "Once we have a grouping, we can apply an aggregation function to the groupby object to get the \n",
        "function applied to the elements of each group. \n",
        "\n",
        "For example,\n",
        "\n",
        "```python\n",
        "animal_groups = df.groupby(\"animal\")\n",
        "\n",
        "gdf = animal_groups.max()\n",
        "\n",
        "```\n",
        "\n",
        "computes the maximum value in each column of each group. \n",
        "\n",
        "There are several possible aggregation functions. For example, \n",
        "\n",
        "```text\n",
        "mean()\n",
        "std()\n",
        "median()\t\n",
        "min()\n",
        "max()\n",
        "sum()\n",
        "count()\n",
        "```"
      ]
    },
    {
      "cell_type": "code",
      "metadata": {
        "colab": {
          "base_uri": "https://localhost:8080/",
          "height": 225
        },
        "id": "-dWquKIn7_Yb",
        "outputId": "a4a22aca-ef8e-4870-942c-bd502827b1f5"
      },
      "source": [
        "animal_groups = df.groupby('animal')\n",
        "\n",
        "gdf = animal_groups.max()\n",
        "\n",
        "print( type(gdf) ) # gdf is a DataFrame\n",
        "\n",
        "gdf "
      ],
      "execution_count": null,
      "outputs": [
        {
          "output_type": "stream",
          "text": [
            "<class 'pandas.core.frame.DataFrame'>\n"
          ],
          "name": "stdout"
        },
        {
          "output_type": "execute_result",
          "data": {
            "text/html": [
              "<div>\n",
              "<style scoped>\n",
              "    .dataframe tbody tr th:only-of-type {\n",
              "        vertical-align: middle;\n",
              "    }\n",
              "\n",
              "    .dataframe tbody tr th {\n",
              "        vertical-align: top;\n",
              "    }\n",
              "\n",
              "    .dataframe thead th {\n",
              "        text-align: right;\n",
              "    }\n",
              "</style>\n",
              "<table border=\"1\" class=\"dataframe\">\n",
              "  <thead>\n",
              "    <tr style=\"text-align: right;\">\n",
              "      <th></th>\n",
              "      <th>age</th>\n",
              "      <th>weight</th>\n",
              "      <th>length</th>\n",
              "    </tr>\n",
              "    <tr>\n",
              "      <th>animal</th>\n",
              "      <th></th>\n",
              "      <th></th>\n",
              "      <th></th>\n",
              "    </tr>\n",
              "  </thead>\n",
              "  <tbody>\n",
              "    <tr>\n",
              "      <th>alligator</th>\n",
              "      <td>1</td>\n",
              "      <td>5</td>\n",
              "      <td>3</td>\n",
              "    </tr>\n",
              "    <tr>\n",
              "      <th>cat</th>\n",
              "      <td>4</td>\n",
              "      <td>14</td>\n",
              "      <td>7</td>\n",
              "    </tr>\n",
              "    <tr>\n",
              "      <th>dog</th>\n",
              "      <td>4</td>\n",
              "      <td>13</td>\n",
              "      <td>8</td>\n",
              "    </tr>\n",
              "    <tr>\n",
              "      <th>snake</th>\n",
              "      <td>2</td>\n",
              "      <td>12</td>\n",
              "      <td>2</td>\n",
              "    </tr>\n",
              "  </tbody>\n",
              "</table>\n",
              "</div>"
            ],
            "text/plain": [
              "           age  weight  length\n",
              "animal                        \n",
              "alligator    1       5       3\n",
              "cat          4      14       7\n",
              "dog          4      13       8\n",
              "snake        2      12       2"
            ]
          },
          "metadata": {
            "tags": []
          },
          "execution_count": 3
        }
      ]
    },
    {
      "cell_type": "markdown",
      "metadata": {
        "id": "5dk6bAs67_Ye"
      },
      "source": [
        "#### Example\n",
        "What's the average weight of each kind of animal?\n",
        "\n",
        "To find the average weight of each category of animal, we group the animals by 'animal' and, then, we apply the *mean* function. "
      ]
    },
    {
      "cell_type": "code",
      "metadata": {
        "id": "rLAbIu567_Yh",
        "colab": {
          "base_uri": "https://localhost:8080/",
          "height": 316
        },
        "outputId": "714edb94-8c29-48e6-e7e6-ca09896b6b2e"
      },
      "source": [
        "print(\"Avg weight:\", animal_groups.mean()['weight'])\n",
        "\n",
        "animal_groups.mean()"
      ],
      "execution_count": null,
      "outputs": [
        {
          "output_type": "stream",
          "text": [
            "Avg weight: animal\n",
            "alligator     5.000000\n",
            "cat          10.571429\n",
            "dog          10.400000\n",
            "snake        12.000000\n",
            "Name: weight, dtype: float64\n"
          ],
          "name": "stdout"
        },
        {
          "output_type": "execute_result",
          "data": {
            "text/html": [
              "<div>\n",
              "<style scoped>\n",
              "    .dataframe tbody tr th:only-of-type {\n",
              "        vertical-align: middle;\n",
              "    }\n",
              "\n",
              "    .dataframe tbody tr th {\n",
              "        vertical-align: top;\n",
              "    }\n",
              "\n",
              "    .dataframe thead th {\n",
              "        text-align: right;\n",
              "    }\n",
              "</style>\n",
              "<table border=\"1\" class=\"dataframe\">\n",
              "  <thead>\n",
              "    <tr style=\"text-align: right;\">\n",
              "      <th></th>\n",
              "      <th>age</th>\n",
              "      <th>weight</th>\n",
              "      <th>length</th>\n",
              "    </tr>\n",
              "    <tr>\n",
              "      <th>animal</th>\n",
              "      <th></th>\n",
              "      <th></th>\n",
              "      <th></th>\n",
              "    </tr>\n",
              "  </thead>\n",
              "  <tbody>\n",
              "    <tr>\n",
              "      <th>alligator</th>\n",
              "      <td>1.000000</td>\n",
              "      <td>5.000000</td>\n",
              "      <td>3.000000</td>\n",
              "    </tr>\n",
              "    <tr>\n",
              "      <th>cat</th>\n",
              "      <td>1.857143</td>\n",
              "      <td>10.571429</td>\n",
              "      <td>5.285714</td>\n",
              "    </tr>\n",
              "    <tr>\n",
              "      <th>dog</th>\n",
              "      <td>2.600000</td>\n",
              "      <td>10.400000</td>\n",
              "      <td>4.200000</td>\n",
              "    </tr>\n",
              "    <tr>\n",
              "      <th>snake</th>\n",
              "      <td>2.000000</td>\n",
              "      <td>12.000000</td>\n",
              "      <td>2.000000</td>\n",
              "    </tr>\n",
              "  </tbody>\n",
              "</table>\n",
              "</div>"
            ],
            "text/plain": [
              "                age     weight    length\n",
              "animal                                  \n",
              "alligator  1.000000   5.000000  3.000000\n",
              "cat        1.857143  10.571429  5.285714\n",
              "dog        2.600000  10.400000  4.200000\n",
              "snake      2.000000  12.000000  2.000000"
            ]
          },
          "metadata": {
            "tags": []
          },
          "execution_count": 4
        }
      ]
    },
    {
      "cell_type": "markdown",
      "metadata": {
        "id": "PBR86gTS7_Yi"
      },
      "source": [
        "#### Example\n",
        "What's the overall length of snakes?"
      ]
    },
    {
      "cell_type": "code",
      "metadata": {
        "id": "VIFJ05Nc7_Ym",
        "colab": {
          "base_uri": "https://localhost:8080/"
        },
        "outputId": "ff765a9a-3b37-49e0-c431-5fd6e73e719a"
      },
      "source": [
        "s = animal_groups.sum().loc['snake', 'length'] # Access snake row, length col\n",
        "\n",
        "# Alternative: s = animal_groups['length'].sum().loc['snake'] # may be faster\n",
        "\n",
        "print(\"Sum snakes' length:\", s)"
      ],
      "execution_count": null,
      "outputs": [
        {
          "output_type": "stream",
          "text": [
            "Sum snakes' length: 2\n"
          ],
          "name": "stdout"
        }
      ]
    },
    {
      "cell_type": "markdown",
      "metadata": {
        "id": "FGtaSWaM7_Yn"
      },
      "source": [
        "#### Example\n",
        "What's the age of the oldest cat?"
      ]
    },
    {
      "cell_type": "code",
      "metadata": {
        "id": "JhEd2u2s7_Yp",
        "colab": {
          "base_uri": "https://localhost:8080/"
        },
        "outputId": "57d077a0-aa73-45f0-fe68-51c509b88507"
      },
      "source": [
        "s = animal_groups['age'].max().loc['cat']\n",
        "\n",
        "print(\"Age older cat:\", s)"
      ],
      "execution_count": null,
      "outputs": [
        {
          "output_type": "stream",
          "text": [
            "Age older cat: 4\n"
          ],
          "name": "stdout"
        }
      ]
    },
    {
      "cell_type": "markdown",
      "metadata": {
        "id": "sxXFn1YT7_Yq"
      },
      "source": [
        "### GroupBy more variables\n",
        "\n",
        "It is also possible to group by more than one variable, allowing more complex queries.\n",
        "\n",
        "For example,\n",
        "\n",
        "```python\n",
        "animalage_groups = df.groupby( ['animal', 'age'] )\n",
        "```\n",
        "\n",
        "groups first by 'animal' and then, by 'age' within each group.\n",
        "\n",
        "Note the list of labels in calling `groupby`."
      ]
    },
    {
      "cell_type": "code",
      "metadata": {
        "scrolled": true,
        "id": "CFZXTA0r7_Ys",
        "colab": {
          "base_uri": "https://localhost:8080/"
        },
        "outputId": "355e09b6-ed59-4056-cbdc-10e14fccf82e"
      },
      "source": [
        "animalage_groups = df.groupby( ['animal', 'age'] )\n",
        "\n",
        "animalage_groups.groups"
      ],
      "execution_count": null,
      "outputs": [
        {
          "output_type": "execute_result",
          "data": {
            "text/plain": [
              "{('alligator', 1): [2], ('cat', 1): [0, 6, 7, 10], ('cat', 2): [11], ('cat', 3): [9], ('cat', 4): [1], ('dog', 1): [12], ('dog', 2): [5], ('dog', 3): [3, 4], ('dog', 4): [13], ('snake', 2): [8]}"
            ]
          },
          "metadata": {
            "tags": []
          },
          "execution_count": 7
        }
      ]
    },
    {
      "cell_type": "markdown",
      "metadata": {
        "id": "YGPxwk547_Yt"
      },
      "source": [
        "#### Example\n",
        "What's the maximum weight of a 3-years old dog?"
      ]
    },
    {
      "cell_type": "code",
      "metadata": {
        "id": "ptQ4LZgv7_Yv",
        "colab": {
          "base_uri": "https://localhost:8080/"
        },
        "outputId": "a84f6e01-f5e4-4197-aaa7-8d1483e909f7"
      },
      "source": [
        "print( animalage_groups['weight'].max() )               # operation max () \n",
        "print()\n",
        "\n",
        "print( animalage_groups['weight'].max().loc['dog'] )  # .loc['dog']\n",
        "print()\n",
        "\n",
        "print(\"3yo dog weight:\", animalage_groups['weight'].max().loc[('dog', 3)] ) # Multiindex we use a pair "
      ],
      "execution_count": null,
      "outputs": [
        {
          "output_type": "stream",
          "text": [
            "animal     age\n",
            "alligator  1       5\n",
            "cat        1      13\n",
            "           2       5\n",
            "           3      14\n",
            "           4      14\n",
            "dog        1       7\n",
            "           2      13\n",
            "           3      13\n",
            "           4      11\n",
            "snake      2      12\n",
            "Name: weight, dtype: int64\n",
            "\n",
            "age\n",
            "1     7\n",
            "2    13\n",
            "3    13\n",
            "4    11\n",
            "Name: weight, dtype: int64\n",
            "\n",
            "3yo dog weight: 13\n"
          ],
          "name": "stdout"
        }
      ]
    },
    {
      "cell_type": "markdown",
      "metadata": {
        "id": "Ntz2at7F7_Yx"
      },
      "source": [
        "--- \n",
        "### Exercise: Implements your own GroupBy\n",
        "\n",
        "In the rest of your life you are going to use GroupBy implemented in some library, but in this exercise we will implement our own simplified version. \n",
        "\n",
        "You are give a list of tuples, all with the same number of components. In our simplified implementation  of a pandas' DataFrame each tuple in the list is a row of the DataFrame. Each component of a tuple is a value of a column.\n",
        "\n",
        "#### Part I\n",
        "Our first goal is to implement an index to efficiently group by one of the component in the list. \n",
        "\n",
        "We'd like to implement a function ```groupBy(L, id)``` which takes the list of tuples ```L``` and the ```id``` of the component and returns a dictionary. The dictionary is an index very similar to what you implemented for a search engine. \n",
        "We have a key for each distinct value in column ```id```. The value of a certain key ```k``` is the list of indexes of all the tuple having value ```k``` in the column ```id```.\n",
        "This means that, if index ```p``` is in the list of key ```k```, then ```L[p][id] = k```.\n",
        "\n",
        "For example it we have tuples \n",
        "\n",
        "|   | \n",
        "|:-|\n",
        "(1, 5, 11)\n",
        "(0, 4, 1000)\n",
        "(1, 2, 11)\n",
        "(1, 4, 66) \n",
        "(0, 3, 99)\n",
        "\n",
        "The groupBy with id=0 will group by first column.\n",
        "\n",
        "The index is\n",
        "\n",
        "|   | \n",
        "|:--| \n",
        "0: [1, 4]\n",
        "1: [0, 2, 3]\n",
        " \n",
        "#### Part II\n",
        "We'd like to implement a function ```max_groupBy(index, L)``` which takes the index built in previous part on list ```L``` and returns a dictionary. \n",
        "We have a key for each distinct value in column ```id```. The value of a certain key ```k``` is the list. The list has a element for each column: the maximum value in that column for each tuple having value ```k``` in the column ```id```. This, of course, must be implemented by using the index.\n",
        "\n",
        "In the example before, we would obtain the dictionary\n",
        "\n",
        "|   | \n",
        "|:--| \n",
        "0: [0, 4, 1000]\n",
        "1: [1, 5, 66]\n",
        " \n"
      ]
    },
    {
      "cell_type": "code",
      "metadata": {
        "id": "bSz_-NbK7_Yz"
      },
      "source": [
        "## Your implementation goes here\n",
        "def groupBy(L,id):\n",
        "  diz = {}\n",
        "  for i, elem in enumerate(L):     # for each set of elements of L, keep the key as the single element in id position of the current set of elements\n",
        "    key = elem[id]\n",
        "    if key not in diz:                  # if key is not added yet to the dictionary, then add it\n",
        "      diz[key] = []\n",
        "    diz[key].append(i)                  # add the index in which the key is found to the value of that key\n",
        "  return diz\n",
        "\n",
        "\n",
        "def max_groupBy(index,L):\n",
        "  diz = {}\n",
        "  new = []\n",
        "  for key in index:\n",
        "    x = []\n",
        "    for j in index[key]:    # put inside \"new\" the tuples in L that corrispond to the indexes that is in the values of the current key\n",
        "      x.append(L[j])\n",
        "    new.append(x)\n",
        "  for i in new:\n",
        "    res = [max(idx) for idx in zip(*i)]     # keep the maximum for each column in i.       (*i) ---> unpack i = [(),(),()] to (),(),() and keep the max after zip\n",
        "    for key in index:                       # create a dictionary that has as keys, the keys in index and as values the respective res values that contain necessarily the key\n",
        "      if key in res:\n",
        "        diz[key] = res\n",
        "  return diz\n",
        "\n",
        "\n",
        "\n"
      ],
      "execution_count": null,
      "outputs": []
    },
    {
      "cell_type": "code",
      "metadata": {
        "colab": {
          "base_uri": "https://localhost:8080/"
        },
        "id": "0EDySRiS7_Y0",
        "outputId": "0822e7ed-a7f3-4aa2-c53e-4c44f4dcacff"
      },
      "source": [
        "## Test you implementation here\n",
        "data = [(1, 5, 11), (0, 4, 1000), (1, 2, 11), (1, 4, 66), (0, 3, 99)]\n",
        "\n",
        "index = groupBy(data,1)\n",
        "\n",
        "print(\"data:\",data)\n",
        "print()\n",
        "print(\"dictionary:\",index)\n",
        "print(\"result:\",max_groupBy(index,data))"
      ],
      "execution_count": null,
      "outputs": [
        {
          "output_type": "stream",
          "text": [
            "data: [(1, 5, 11), (0, 4, 1000), (1, 2, 11), (1, 4, 66), (0, 3, 99)]\n",
            "\n",
            "dictionary: {5: [0], 4: [1, 3], 2: [2], 3: [4]}\n",
            "result: {5: [1, 5, 11], 4: [1, 4, 1000], 2: [1, 2, 11], 3: [0, 3, 99]}\n"
          ],
          "name": "stdout"
        }
      ]
    },
    {
      "cell_type": "markdown",
      "metadata": {
        "id": "rFwFJ8ag7_Y1"
      },
      "source": [
        "---\n",
        "\n",
        "## Combining and Merging Datasets"
      ]
    },
    {
      "cell_type": "markdown",
      "metadata": {
        "id": "lOV8f_e-7_Y2"
      },
      "source": [
        "Data contained in Pandas objects can be combined together in a number of ways:\n",
        "    \n",
        "- **merge()** connects rows in DataFrames based on one or more keys. This will be familiar to users of SQL or other relational databases, as it implements database **join** operations.\n",
        "- **concat()** concatenates or “stacks” together objects along an axis.\n",
        "- The **combine_first()** instance method enables splicing together overlapping data to fill in missing values in one object with values from another.\n",
        "\n",
        "Here we will cover only the first two ways."
      ]
    },
    {
      "cell_type": "markdown",
      "metadata": {
        "id": "AHDzmHXW7_Y3"
      },
      "source": [
        "### DataFrame Joins\n",
        "\n",
        "#### Many-to-One join\n",
        "Consider the following two DataFrames."
      ]
    },
    {
      "cell_type": "code",
      "metadata": {
        "id": "aMkltbbU7_Y5",
        "outputId": "dc43ecf7-d57b-473a-d140-bb330f5a69c3"
      },
      "source": [
        "df1 = pd.DataFrame({'key': ['b', 'b', 'a', 'c', 'a', 'a', 'b'], \n",
        "                    'data1': range(7)})\n",
        "\n",
        "df2 = pd.DataFrame({'key': ['a', 'b', 'd'], \n",
        "                    'data2': range(3)})\n",
        "\n",
        "print(df1)\n",
        "print(df2)"
      ],
      "execution_count": null,
      "outputs": [
        {
          "output_type": "stream",
          "text": [
            "  key  data1\n",
            "0   b      0\n",
            "1   b      1\n",
            "2   a      2\n",
            "3   c      3\n",
            "4   a      4\n",
            "5   a      5\n",
            "6   b      6\n",
            "  key  data2\n",
            "0   a      0\n",
            "1   b      1\n",
            "2   d      2\n"
          ],
          "name": "stdout"
        }
      ]
    },
    {
      "cell_type": "markdown",
      "metadata": {
        "id": "TIvLlaeV7_Y6"
      },
      "source": [
        "The data in df1 has multiple rows labeled a and b, whereas df2 has only one row for each value in the key column. \n",
        "\n",
        "The operation \n",
        "\n",
        "```\n",
        "pd.merge(df1, df2, on='key')\n",
        "```\n",
        "\n",
        "will produce a merged DataFrame with key the column to join on. \n"
      ]
    },
    {
      "cell_type": "code",
      "metadata": {
        "id": "M-tqALWE7_Y7",
        "outputId": "25dd9936-47c8-45ca-92d9-9f39380c40c6"
      },
      "source": [
        "pd.merge(df1, df2, on='key')"
      ],
      "execution_count": null,
      "outputs": [
        {
          "output_type": "execute_result",
          "data": {
            "text/html": [
              "<div>\n",
              "<style scoped>\n",
              "    .dataframe tbody tr th:only-of-type {\n",
              "        vertical-align: middle;\n",
              "    }\n",
              "\n",
              "    .dataframe tbody tr th {\n",
              "        vertical-align: top;\n",
              "    }\n",
              "\n",
              "    .dataframe thead th {\n",
              "        text-align: right;\n",
              "    }\n",
              "</style>\n",
              "<table border=\"1\" class=\"dataframe\">\n",
              "  <thead>\n",
              "    <tr style=\"text-align: right;\">\n",
              "      <th></th>\n",
              "      <th>key</th>\n",
              "      <th>data1</th>\n",
              "      <th>data2</th>\n",
              "    </tr>\n",
              "  </thead>\n",
              "  <tbody>\n",
              "    <tr>\n",
              "      <th>0</th>\n",
              "      <td>b</td>\n",
              "      <td>0</td>\n",
              "      <td>1</td>\n",
              "    </tr>\n",
              "    <tr>\n",
              "      <th>1</th>\n",
              "      <td>b</td>\n",
              "      <td>1</td>\n",
              "      <td>1</td>\n",
              "    </tr>\n",
              "    <tr>\n",
              "      <th>2</th>\n",
              "      <td>b</td>\n",
              "      <td>6</td>\n",
              "      <td>1</td>\n",
              "    </tr>\n",
              "    <tr>\n",
              "      <th>3</th>\n",
              "      <td>a</td>\n",
              "      <td>2</td>\n",
              "      <td>0</td>\n",
              "    </tr>\n",
              "    <tr>\n",
              "      <th>4</th>\n",
              "      <td>a</td>\n",
              "      <td>4</td>\n",
              "      <td>0</td>\n",
              "    </tr>\n",
              "    <tr>\n",
              "      <th>5</th>\n",
              "      <td>a</td>\n",
              "      <td>5</td>\n",
              "      <td>0</td>\n",
              "    </tr>\n",
              "  </tbody>\n",
              "</table>\n",
              "</div>"
            ],
            "text/plain": [
              "  key  data1  data2\n",
              "0   b      0      1\n",
              "1   b      1      1\n",
              "2   b      6      1\n",
              "3   a      2      0\n",
              "4   a      4      0\n",
              "5   a      5      0"
            ]
          },
          "metadata": {
            "tags": []
          },
          "execution_count": 10
        }
      ]
    },
    {
      "cell_type": "markdown",
      "metadata": {
        "id": "8tROxNXx7_Y8"
      },
      "source": [
        "Notice that \n",
        "- data2 of df2 is replicated everywhere key 'a' and 'b' occur in df1\n",
        "- rows with key 'c' in df1 and 'd' in df2 are not present in df\n",
        "\n",
        "The latter behavior is called **inner** join: the keys in the result are the intersection, or the common set found in both tables.\n",
        "\n",
        "Other possible approaches are: \n",
        "- **left**: keys of left DataFrame are kept\n",
        "- **right**: keys of right DataFrame are kept\n",
        "- **outer**: keys of both DataFrames are kept\n",
        "\n",
        "and can be chosen by setting parameter *how*"
      ]
    },
    {
      "cell_type": "markdown",
      "metadata": {
        "id": "pnUjBQze7_Y9"
      },
      "source": [
        "#### left"
      ]
    },
    {
      "cell_type": "code",
      "metadata": {
        "id": "AlBoGe8M7_Y9",
        "outputId": "e7fc5eed-332d-4dad-d75b-8342eeaa4a0e"
      },
      "source": [
        "pd.merge(df1, df2, on='key', how='left')"
      ],
      "execution_count": null,
      "outputs": [
        {
          "output_type": "execute_result",
          "data": {
            "text/html": [
              "<div>\n",
              "<style scoped>\n",
              "    .dataframe tbody tr th:only-of-type {\n",
              "        vertical-align: middle;\n",
              "    }\n",
              "\n",
              "    .dataframe tbody tr th {\n",
              "        vertical-align: top;\n",
              "    }\n",
              "\n",
              "    .dataframe thead th {\n",
              "        text-align: right;\n",
              "    }\n",
              "</style>\n",
              "<table border=\"1\" class=\"dataframe\">\n",
              "  <thead>\n",
              "    <tr style=\"text-align: right;\">\n",
              "      <th></th>\n",
              "      <th>key</th>\n",
              "      <th>data1</th>\n",
              "      <th>data2</th>\n",
              "    </tr>\n",
              "  </thead>\n",
              "  <tbody>\n",
              "    <tr>\n",
              "      <th>0</th>\n",
              "      <td>b</td>\n",
              "      <td>0</td>\n",
              "      <td>1.0</td>\n",
              "    </tr>\n",
              "    <tr>\n",
              "      <th>1</th>\n",
              "      <td>b</td>\n",
              "      <td>1</td>\n",
              "      <td>1.0</td>\n",
              "    </tr>\n",
              "    <tr>\n",
              "      <th>2</th>\n",
              "      <td>a</td>\n",
              "      <td>2</td>\n",
              "      <td>0.0</td>\n",
              "    </tr>\n",
              "    <tr>\n",
              "      <th>3</th>\n",
              "      <td>c</td>\n",
              "      <td>3</td>\n",
              "      <td>NaN</td>\n",
              "    </tr>\n",
              "    <tr>\n",
              "      <th>4</th>\n",
              "      <td>a</td>\n",
              "      <td>4</td>\n",
              "      <td>0.0</td>\n",
              "    </tr>\n",
              "    <tr>\n",
              "      <th>5</th>\n",
              "      <td>a</td>\n",
              "      <td>5</td>\n",
              "      <td>0.0</td>\n",
              "    </tr>\n",
              "    <tr>\n",
              "      <th>6</th>\n",
              "      <td>b</td>\n",
              "      <td>6</td>\n",
              "      <td>1.0</td>\n",
              "    </tr>\n",
              "  </tbody>\n",
              "</table>\n",
              "</div>"
            ],
            "text/plain": [
              "  key  data1  data2\n",
              "0   b      0    1.0\n",
              "1   b      1    1.0\n",
              "2   a      2    0.0\n",
              "3   c      3    NaN\n",
              "4   a      4    0.0\n",
              "5   a      5    0.0\n",
              "6   b      6    1.0"
            ]
          },
          "metadata": {
            "tags": []
          },
          "execution_count": 11
        }
      ]
    },
    {
      "cell_type": "markdown",
      "metadata": {
        "id": "SDkmB03E7_Y-"
      },
      "source": [
        "#### right"
      ]
    },
    {
      "cell_type": "code",
      "metadata": {
        "id": "5KN_-e0x7_Y_",
        "outputId": "203e64ae-6202-46c6-8c16-84b2087aa073"
      },
      "source": [
        "pd.merge(df1, df2, on='key', how='right')"
      ],
      "execution_count": null,
      "outputs": [
        {
          "output_type": "execute_result",
          "data": {
            "text/html": [
              "<div>\n",
              "<style scoped>\n",
              "    .dataframe tbody tr th:only-of-type {\n",
              "        vertical-align: middle;\n",
              "    }\n",
              "\n",
              "    .dataframe tbody tr th {\n",
              "        vertical-align: top;\n",
              "    }\n",
              "\n",
              "    .dataframe thead th {\n",
              "        text-align: right;\n",
              "    }\n",
              "</style>\n",
              "<table border=\"1\" class=\"dataframe\">\n",
              "  <thead>\n",
              "    <tr style=\"text-align: right;\">\n",
              "      <th></th>\n",
              "      <th>key</th>\n",
              "      <th>data1</th>\n",
              "      <th>data2</th>\n",
              "    </tr>\n",
              "  </thead>\n",
              "  <tbody>\n",
              "    <tr>\n",
              "      <th>0</th>\n",
              "      <td>b</td>\n",
              "      <td>0.0</td>\n",
              "      <td>1</td>\n",
              "    </tr>\n",
              "    <tr>\n",
              "      <th>1</th>\n",
              "      <td>b</td>\n",
              "      <td>1.0</td>\n",
              "      <td>1</td>\n",
              "    </tr>\n",
              "    <tr>\n",
              "      <th>2</th>\n",
              "      <td>b</td>\n",
              "      <td>6.0</td>\n",
              "      <td>1</td>\n",
              "    </tr>\n",
              "    <tr>\n",
              "      <th>3</th>\n",
              "      <td>a</td>\n",
              "      <td>2.0</td>\n",
              "      <td>0</td>\n",
              "    </tr>\n",
              "    <tr>\n",
              "      <th>4</th>\n",
              "      <td>a</td>\n",
              "      <td>4.0</td>\n",
              "      <td>0</td>\n",
              "    </tr>\n",
              "    <tr>\n",
              "      <th>5</th>\n",
              "      <td>a</td>\n",
              "      <td>5.0</td>\n",
              "      <td>0</td>\n",
              "    </tr>\n",
              "    <tr>\n",
              "      <th>6</th>\n",
              "      <td>d</td>\n",
              "      <td>NaN</td>\n",
              "      <td>2</td>\n",
              "    </tr>\n",
              "  </tbody>\n",
              "</table>\n",
              "</div>"
            ],
            "text/plain": [
              "  key  data1  data2\n",
              "0   b    0.0      1\n",
              "1   b    1.0      1\n",
              "2   b    6.0      1\n",
              "3   a    2.0      0\n",
              "4   a    4.0      0\n",
              "5   a    5.0      0\n",
              "6   d    NaN      2"
            ]
          },
          "metadata": {
            "tags": []
          },
          "execution_count": 12
        }
      ]
    },
    {
      "cell_type": "markdown",
      "metadata": {
        "id": "Rtz1MVY_7_ZB"
      },
      "source": [
        "#### outer"
      ]
    },
    {
      "cell_type": "code",
      "metadata": {
        "id": "jTSjjyql7_ZB",
        "outputId": "5058052c-5817-4647-eb88-513c2c00e2e2"
      },
      "source": [
        "pd.merge(df1, df2, on='key', how='outer')"
      ],
      "execution_count": null,
      "outputs": [
        {
          "output_type": "execute_result",
          "data": {
            "text/html": [
              "<div>\n",
              "<style scoped>\n",
              "    .dataframe tbody tr th:only-of-type {\n",
              "        vertical-align: middle;\n",
              "    }\n",
              "\n",
              "    .dataframe tbody tr th {\n",
              "        vertical-align: top;\n",
              "    }\n",
              "\n",
              "    .dataframe thead th {\n",
              "        text-align: right;\n",
              "    }\n",
              "</style>\n",
              "<table border=\"1\" class=\"dataframe\">\n",
              "  <thead>\n",
              "    <tr style=\"text-align: right;\">\n",
              "      <th></th>\n",
              "      <th>key</th>\n",
              "      <th>data1</th>\n",
              "      <th>data2</th>\n",
              "    </tr>\n",
              "  </thead>\n",
              "  <tbody>\n",
              "    <tr>\n",
              "      <th>0</th>\n",
              "      <td>b</td>\n",
              "      <td>0.0</td>\n",
              "      <td>1.0</td>\n",
              "    </tr>\n",
              "    <tr>\n",
              "      <th>1</th>\n",
              "      <td>b</td>\n",
              "      <td>1.0</td>\n",
              "      <td>1.0</td>\n",
              "    </tr>\n",
              "    <tr>\n",
              "      <th>2</th>\n",
              "      <td>b</td>\n",
              "      <td>6.0</td>\n",
              "      <td>1.0</td>\n",
              "    </tr>\n",
              "    <tr>\n",
              "      <th>3</th>\n",
              "      <td>a</td>\n",
              "      <td>2.0</td>\n",
              "      <td>0.0</td>\n",
              "    </tr>\n",
              "    <tr>\n",
              "      <th>4</th>\n",
              "      <td>a</td>\n",
              "      <td>4.0</td>\n",
              "      <td>0.0</td>\n",
              "    </tr>\n",
              "    <tr>\n",
              "      <th>5</th>\n",
              "      <td>a</td>\n",
              "      <td>5.0</td>\n",
              "      <td>0.0</td>\n",
              "    </tr>\n",
              "    <tr>\n",
              "      <th>6</th>\n",
              "      <td>c</td>\n",
              "      <td>3.0</td>\n",
              "      <td>NaN</td>\n",
              "    </tr>\n",
              "    <tr>\n",
              "      <th>7</th>\n",
              "      <td>d</td>\n",
              "      <td>NaN</td>\n",
              "      <td>2.0</td>\n",
              "    </tr>\n",
              "  </tbody>\n",
              "</table>\n",
              "</div>"
            ],
            "text/plain": [
              "  key  data1  data2\n",
              "0   b    0.0    1.0\n",
              "1   b    1.0    1.0\n",
              "2   b    6.0    1.0\n",
              "3   a    2.0    0.0\n",
              "4   a    4.0    0.0\n",
              "5   a    5.0    0.0\n",
              "6   c    3.0    NaN\n",
              "7   d    NaN    2.0"
            ]
          },
          "metadata": {
            "tags": []
          },
          "execution_count": 13
        }
      ]
    },
    {
      "cell_type": "markdown",
      "metadata": {
        "id": "5LAi3iVE7_ZC"
      },
      "source": [
        "#### Many-to-Many join\n",
        "Many-to-many merges happens when the same key has more than one occurrence in both DataFrames.\n",
        "\n",
        "Many-to-many joins form the Cartesian product of the rows having the same key. \n",
        "\n",
        "See the following example:"
      ]
    },
    {
      "cell_type": "code",
      "metadata": {
        "id": "tzO51Z917_ZC",
        "outputId": "b7a7faaf-df18-41dc-fb32-f9de8f6b892c"
      },
      "source": [
        "df1 = pd.DataFrame({'key': ['b', 'b', 'a',  'a', 'b'], \n",
        "                    'data1': range(5)})\n",
        "                    \n",
        "df2 = pd.DataFrame({'key': ['a', 'b', 'a', 'b', 'd'],\n",
        "                    'data2': range(5)})\n",
        "\n",
        "print(df1)\n",
        "\n",
        "\n",
        "print(df2)\n",
        "\n",
        "                    \n",
        "pd.merge(df1, df2, on='key', how='left')"
      ],
      "execution_count": null,
      "outputs": [
        {
          "output_type": "stream",
          "text": [
            "  key  data1\n",
            "0   b      0\n",
            "1   b      1\n",
            "2   a      2\n",
            "3   a      3\n",
            "4   b      4\n",
            "  key  data2\n",
            "0   a      0\n",
            "1   b      1\n",
            "2   a      2\n",
            "3   b      3\n",
            "4   d      4\n"
          ],
          "name": "stdout"
        },
        {
          "output_type": "execute_result",
          "data": {
            "text/html": [
              "<div>\n",
              "<style scoped>\n",
              "    .dataframe tbody tr th:only-of-type {\n",
              "        vertical-align: middle;\n",
              "    }\n",
              "\n",
              "    .dataframe tbody tr th {\n",
              "        vertical-align: top;\n",
              "    }\n",
              "\n",
              "    .dataframe thead th {\n",
              "        text-align: right;\n",
              "    }\n",
              "</style>\n",
              "<table border=\"1\" class=\"dataframe\">\n",
              "  <thead>\n",
              "    <tr style=\"text-align: right;\">\n",
              "      <th></th>\n",
              "      <th>key</th>\n",
              "      <th>data1</th>\n",
              "      <th>data2</th>\n",
              "    </tr>\n",
              "  </thead>\n",
              "  <tbody>\n",
              "    <tr>\n",
              "      <th>0</th>\n",
              "      <td>b</td>\n",
              "      <td>0</td>\n",
              "      <td>1</td>\n",
              "    </tr>\n",
              "    <tr>\n",
              "      <th>1</th>\n",
              "      <td>b</td>\n",
              "      <td>0</td>\n",
              "      <td>3</td>\n",
              "    </tr>\n",
              "    <tr>\n",
              "      <th>2</th>\n",
              "      <td>b</td>\n",
              "      <td>1</td>\n",
              "      <td>1</td>\n",
              "    </tr>\n",
              "    <tr>\n",
              "      <th>3</th>\n",
              "      <td>b</td>\n",
              "      <td>1</td>\n",
              "      <td>3</td>\n",
              "    </tr>\n",
              "    <tr>\n",
              "      <th>4</th>\n",
              "      <td>a</td>\n",
              "      <td>2</td>\n",
              "      <td>0</td>\n",
              "    </tr>\n",
              "    <tr>\n",
              "      <th>5</th>\n",
              "      <td>a</td>\n",
              "      <td>2</td>\n",
              "      <td>2</td>\n",
              "    </tr>\n",
              "    <tr>\n",
              "      <th>6</th>\n",
              "      <td>a</td>\n",
              "      <td>3</td>\n",
              "      <td>0</td>\n",
              "    </tr>\n",
              "    <tr>\n",
              "      <th>7</th>\n",
              "      <td>a</td>\n",
              "      <td>3</td>\n",
              "      <td>2</td>\n",
              "    </tr>\n",
              "    <tr>\n",
              "      <th>8</th>\n",
              "      <td>b</td>\n",
              "      <td>4</td>\n",
              "      <td>1</td>\n",
              "    </tr>\n",
              "    <tr>\n",
              "      <th>9</th>\n",
              "      <td>b</td>\n",
              "      <td>4</td>\n",
              "      <td>3</td>\n",
              "    </tr>\n",
              "  </tbody>\n",
              "</table>\n",
              "</div>"
            ],
            "text/plain": [
              "  key  data1  data2\n",
              "0   b      0      1\n",
              "1   b      0      3\n",
              "2   b      1      1\n",
              "3   b      1      3\n",
              "4   a      2      0\n",
              "5   a      2      2\n",
              "6   a      3      0\n",
              "7   a      3      2\n",
              "8   b      4      1\n",
              "9   b      4      3"
            ]
          },
          "metadata": {
            "tags": []
          },
          "execution_count": 14
        }
      ]
    },
    {
      "cell_type": "markdown",
      "metadata": {
        "id": "61uphOK37_ZD"
      },
      "source": [
        "Note that, since there were three 'b' rows in df1 and two in df2, there are six 'b' rows in the result.\n",
        "\n",
        "---\n",
        "\n",
        "The merge can be performed also respect to more than one variable. To determine which key combinations will appear in the result depending on the choice of merge method, **think of the multiple keys as forming an array of tuples** to be used as a single join key."
      ]
    },
    {
      "cell_type": "markdown",
      "metadata": {
        "id": "wJRTYrao7_ZE"
      },
      "source": [
        "---\n",
        "### How to implement join\n",
        "Join can be implemented by using three different algorithms: \n",
        "- **Nested Loops Join**: For each row in of the first dataset, check each row of the second dataset. \n",
        "- **Hash Join**: for each distinct value of the join attribute, the set of tuples in each relation which have that value. (here)[https://en.wikipedia.org/wiki/Hash_join]. This very close to the index you have built for previous exercise. \n",
        "- **Sort-merge Join**: The key idea of the sort-merge algorithm is to first sort the relations by the join attribute, so that interleaved linear scans will encounter these sets at the same time. [here](https://en.wikipedia.org/wiki/Sort-merge_join)\n",
        "\n",
        "If the datasets are already sorted, the third approach is the fastest with margin. Otherwise, the second one is usually the fastest one. Of course, performance depends on the number of distinct value of the join attribute.\n",
        "\n",
        "A good **optional** exercise is to implement and compare the three possible join algorithms."
      ]
    },
    {
      "cell_type": "markdown",
      "metadata": {
        "id": "OO-ElViy7_ZF"
      },
      "source": [
        "---\n",
        "\n",
        "# References\n",
        "\n",
        " - **Pandas Tutorial**. https://pandas.pydata.org/pandas-docs/stable/tutorials.html\n",
        " - **Python for data analysis**. Second Edition.\n",
        "   - Chapters 7, 8 and 10 \n",
        " - **Python data science handbook**. Third Edition.\n",
        "   - Chapter 3\n",
        " - https://medium.com/dunder-data/selecting-subsets-of-data-in-pandas-39e811c81a0c"
      ]
    }
  ]
}